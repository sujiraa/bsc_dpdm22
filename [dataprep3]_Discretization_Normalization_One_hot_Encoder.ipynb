{
  "nbformat": 4,
  "nbformat_minor": 0,
  "metadata": {
    "colab": {
      "provenance": [],
      "authorship_tag": "ABX9TyOPiOeJcB070jWF0l3KgWje",
      "include_colab_link": true
    },
    "kernelspec": {
      "name": "python3",
      "display_name": "Python 3"
    },
    "language_info": {
      "name": "python"
    }
  },
  "cells": [
    {
      "cell_type": "markdown",
      "metadata": {
        "id": "view-in-github",
        "colab_type": "text"
      },
      "source": [
        "<a href=\"https://colab.research.google.com/github/sujiraa/bsc_dpdm22/blob/main/%5Bdataprep3%5D_Discretization_Normalization_One_hot_Encoder.ipynb\" target=\"_parent\"><img src=\"https://colab.research.google.com/assets/colab-badge.svg\" alt=\"Open In Colab\"/></a>"
      ]
    },
    {
      "cell_type": "markdown",
      "source": [
        "##Normalization-Standardization\n",
        "\n",
        "https://scikit-learn.org/stable/modules/preprocessing.html"
      ],
      "metadata": {
        "id": "S7V0htUZAGdw"
      }
    },
    {
      "cell_type": "code",
      "source": [
        "import pandas as pd"
      ],
      "metadata": {
        "id": "NjmygKj6_3E9"
      },
      "execution_count": 2,
      "outputs": []
    },
    {
      "cell_type": "code",
      "execution_count": 1,
      "metadata": {
        "colab": {
          "base_uri": "https://localhost:8080/"
        },
        "id": "z-4KtqOu-pu9",
        "outputId": "61701b3a-22a9-4e14-e02c-b63087af3e1b"
      },
      "outputs": [
        {
          "output_type": "stream",
          "name": "stdout",
          "text": [
            "Mounted at /content/drive\n"
          ]
        }
      ],
      "source": [
        "from google.colab import drive\n",
        "drive.mount('/content/drive')"
      ]
    },
    {
      "cell_type": "markdown",
      "source": [
        "# ใช้ Data กรมอุตุ"
      ],
      "metadata": {
        "id": "HY0CbaItAeYu"
      }
    },
    {
      "cell_type": "code",
      "source": [
        "weather_data = pd.read_excel('/content/drive/MyDrive/data/data อุตุ/Group4_ณัฐกรณ์_ภัทราวดี_ศศิวิมล_สุจิรา.xlsx')"
      ],
      "metadata": {
        "id": "LOzSmU9wAiFp"
      },
      "execution_count": 9,
      "outputs": []
    },
    {
      "cell_type": "code",
      "source": [
        "data_features = weather_data.iloc[:,4:-1]\n",
        "data_features.head()"
      ],
      "metadata": {
        "colab": {
          "base_uri": "https://localhost:8080/",
          "height": 206
        },
        "id": "iysSoZ-SBopr",
        "outputId": "26627085-75cb-4bc9-f895-0d9f22f3d1b0"
      },
      "execution_count": 11,
      "outputs": [
        {
          "output_type": "execute_result",
          "data": {
            "text/plain": [
              "   ความเร็วลม   ความกด  อุณหภูมิตุ้ม  อุณหภูมิจุดน้ำค้าง  อุณหภูมิจุดต่ำสุด  \\\n",
              "0         3.0  1005.47          27.6                 9.0               24.2   \n",
              "1         2.0  1006.65          25.6                10.0               24.0   \n",
              "2         3.0  1007.49          25.6                10.0               22.9   \n",
              "3         2.0  1008.28          25.8                 8.0               21.9   \n",
              "4         2.0  1009.88          24.3                10.0               21.7   \n",
              "\n",
              "   ความชื้น ปริมาณฝน  ปริมาณเมฆ  \n",
              "0        83      1.4        9.0  \n",
              "1        92     17.7       10.0  \n",
              "2        86        3       10.0  \n",
              "3        80        0        8.0  \n",
              "4        86      2.2       10.0  "
            ],
            "text/html": [
              "\n",
              "  <div id=\"df-3ded98bd-4345-42aa-a08c-1b74d2ca6951\">\n",
              "    <div class=\"colab-df-container\">\n",
              "      <div>\n",
              "<style scoped>\n",
              "    .dataframe tbody tr th:only-of-type {\n",
              "        vertical-align: middle;\n",
              "    }\n",
              "\n",
              "    .dataframe tbody tr th {\n",
              "        vertical-align: top;\n",
              "    }\n",
              "\n",
              "    .dataframe thead th {\n",
              "        text-align: right;\n",
              "    }\n",
              "</style>\n",
              "<table border=\"1\" class=\"dataframe\">\n",
              "  <thead>\n",
              "    <tr style=\"text-align: right;\">\n",
              "      <th></th>\n",
              "      <th>ความเร็วลม</th>\n",
              "      <th>ความกด</th>\n",
              "      <th>อุณหภูมิตุ้ม</th>\n",
              "      <th>อุณหภูมิจุดน้ำค้าง</th>\n",
              "      <th>อุณหภูมิจุดต่ำสุด</th>\n",
              "      <th>ความชื้น</th>\n",
              "      <th>ปริมาณฝน</th>\n",
              "      <th>ปริมาณเมฆ</th>\n",
              "    </tr>\n",
              "  </thead>\n",
              "  <tbody>\n",
              "    <tr>\n",
              "      <th>0</th>\n",
              "      <td>3.0</td>\n",
              "      <td>1005.47</td>\n",
              "      <td>27.6</td>\n",
              "      <td>9.0</td>\n",
              "      <td>24.2</td>\n",
              "      <td>83</td>\n",
              "      <td>1.4</td>\n",
              "      <td>9.0</td>\n",
              "    </tr>\n",
              "    <tr>\n",
              "      <th>1</th>\n",
              "      <td>2.0</td>\n",
              "      <td>1006.65</td>\n",
              "      <td>25.6</td>\n",
              "      <td>10.0</td>\n",
              "      <td>24.0</td>\n",
              "      <td>92</td>\n",
              "      <td>17.7</td>\n",
              "      <td>10.0</td>\n",
              "    </tr>\n",
              "    <tr>\n",
              "      <th>2</th>\n",
              "      <td>3.0</td>\n",
              "      <td>1007.49</td>\n",
              "      <td>25.6</td>\n",
              "      <td>10.0</td>\n",
              "      <td>22.9</td>\n",
              "      <td>86</td>\n",
              "      <td>3</td>\n",
              "      <td>10.0</td>\n",
              "    </tr>\n",
              "    <tr>\n",
              "      <th>3</th>\n",
              "      <td>2.0</td>\n",
              "      <td>1008.28</td>\n",
              "      <td>25.8</td>\n",
              "      <td>8.0</td>\n",
              "      <td>21.9</td>\n",
              "      <td>80</td>\n",
              "      <td>0</td>\n",
              "      <td>8.0</td>\n",
              "    </tr>\n",
              "    <tr>\n",
              "      <th>4</th>\n",
              "      <td>2.0</td>\n",
              "      <td>1009.88</td>\n",
              "      <td>24.3</td>\n",
              "      <td>10.0</td>\n",
              "      <td>21.7</td>\n",
              "      <td>86</td>\n",
              "      <td>2.2</td>\n",
              "      <td>10.0</td>\n",
              "    </tr>\n",
              "  </tbody>\n",
              "</table>\n",
              "</div>\n",
              "      <button class=\"colab-df-convert\" onclick=\"convertToInteractive('df-3ded98bd-4345-42aa-a08c-1b74d2ca6951')\"\n",
              "              title=\"Convert this dataframe to an interactive table.\"\n",
              "              style=\"display:none;\">\n",
              "        \n",
              "  <svg xmlns=\"http://www.w3.org/2000/svg\" height=\"24px\"viewBox=\"0 0 24 24\"\n",
              "       width=\"24px\">\n",
              "    <path d=\"M0 0h24v24H0V0z\" fill=\"none\"/>\n",
              "    <path d=\"M18.56 5.44l.94 2.06.94-2.06 2.06-.94-2.06-.94-.94-2.06-.94 2.06-2.06.94zm-11 1L8.5 8.5l.94-2.06 2.06-.94-2.06-.94L8.5 2.5l-.94 2.06-2.06.94zm10 10l.94 2.06.94-2.06 2.06-.94-2.06-.94-.94-2.06-.94 2.06-2.06.94z\"/><path d=\"M17.41 7.96l-1.37-1.37c-.4-.4-.92-.59-1.43-.59-.52 0-1.04.2-1.43.59L10.3 9.45l-7.72 7.72c-.78.78-.78 2.05 0 2.83L4 21.41c.39.39.9.59 1.41.59.51 0 1.02-.2 1.41-.59l7.78-7.78 2.81-2.81c.8-.78.8-2.07 0-2.86zM5.41 20L4 18.59l7.72-7.72 1.47 1.35L5.41 20z\"/>\n",
              "  </svg>\n",
              "      </button>\n",
              "      \n",
              "  <style>\n",
              "    .colab-df-container {\n",
              "      display:flex;\n",
              "      flex-wrap:wrap;\n",
              "      gap: 12px;\n",
              "    }\n",
              "\n",
              "    .colab-df-convert {\n",
              "      background-color: #E8F0FE;\n",
              "      border: none;\n",
              "      border-radius: 50%;\n",
              "      cursor: pointer;\n",
              "      display: none;\n",
              "      fill: #1967D2;\n",
              "      height: 32px;\n",
              "      padding: 0 0 0 0;\n",
              "      width: 32px;\n",
              "    }\n",
              "\n",
              "    .colab-df-convert:hover {\n",
              "      background-color: #E2EBFA;\n",
              "      box-shadow: 0px 1px 2px rgba(60, 64, 67, 0.3), 0px 1px 3px 1px rgba(60, 64, 67, 0.15);\n",
              "      fill: #174EA6;\n",
              "    }\n",
              "\n",
              "    [theme=dark] .colab-df-convert {\n",
              "      background-color: #3B4455;\n",
              "      fill: #D2E3FC;\n",
              "    }\n",
              "\n",
              "    [theme=dark] .colab-df-convert:hover {\n",
              "      background-color: #434B5C;\n",
              "      box-shadow: 0px 1px 3px 1px rgba(0, 0, 0, 0.15);\n",
              "      filter: drop-shadow(0px 1px 2px rgba(0, 0, 0, 0.3));\n",
              "      fill: #FFFFFF;\n",
              "    }\n",
              "  </style>\n",
              "\n",
              "      <script>\n",
              "        const buttonEl =\n",
              "          document.querySelector('#df-3ded98bd-4345-42aa-a08c-1b74d2ca6951 button.colab-df-convert');\n",
              "        buttonEl.style.display =\n",
              "          google.colab.kernel.accessAllowed ? 'block' : 'none';\n",
              "\n",
              "        async function convertToInteractive(key) {\n",
              "          const element = document.querySelector('#df-3ded98bd-4345-42aa-a08c-1b74d2ca6951');\n",
              "          const dataTable =\n",
              "            await google.colab.kernel.invokeFunction('convertToInteractive',\n",
              "                                                     [key], {});\n",
              "          if (!dataTable) return;\n",
              "\n",
              "          const docLinkHtml = 'Like what you see? Visit the ' +\n",
              "            '<a target=\"_blank\" href=https://colab.research.google.com/notebooks/data_table.ipynb>data table notebook</a>'\n",
              "            + ' to learn more about interactive tables.';\n",
              "          element.innerHTML = '';\n",
              "          dataTable['output_type'] = 'display_data';\n",
              "          await google.colab.output.renderOutput(dataTable, element);\n",
              "          const docLink = document.createElement('div');\n",
              "          docLink.innerHTML = docLinkHtml;\n",
              "          element.appendChild(docLink);\n",
              "        }\n",
              "      </script>\n",
              "    </div>\n",
              "  </div>\n",
              "  "
            ]
          },
          "metadata": {},
          "execution_count": 11
        }
      ]
    },
    {
      "cell_type": "code",
      "source": [
        "data_features.shape"
      ],
      "metadata": {
        "colab": {
          "base_uri": "https://localhost:8080/"
        },
        "id": "bf3ffF6NCyVx",
        "outputId": "f27a0f7b-fc0a-4d2d-8da9-e704767f3ce8"
      },
      "execution_count": 13,
      "outputs": [
        {
          "output_type": "execute_result",
          "data": {
            "text/plain": [
              "(8169, 8)"
            ]
          },
          "metadata": {},
          "execution_count": 13
        }
      ]
    },
    {
      "cell_type": "code",
      "source": [
        "data_features.describe()"
      ],
      "metadata": {
        "colab": {
          "base_uri": "https://localhost:8080/",
          "height": 300
        },
        "id": "hjOrFavsDX3i",
        "outputId": "a8488bc0-e679-4ca2-f048-15ca1120eba2"
      },
      "execution_count": 15,
      "outputs": [
        {
          "output_type": "execute_result",
          "data": {
            "text/plain": [
              "        ความเร็วลม       ความกด  อุณหภูมิตุ้ม  อุณหภูมิจุดน้ำค้าง  \\\n",
              "count  8113.000000  8169.000000   8169.000000         7838.000000   \n",
              "mean      2.322569  1013.111413     24.755013            3.299566   \n",
              "std       1.311215     3.242448      2.843517            2.367818   \n",
              "min       0.000000  1002.070000     12.000000            0.000000   \n",
              "25%       1.000000  1011.040000     23.100000            1.000000   \n",
              "50%       2.000000  1012.890000     25.200000            3.000000   \n",
              "75%       3.000000  1015.120000     26.900000            5.000000   \n",
              "max      11.000000  1025.710000     31.000000           10.000000   \n",
              "\n",
              "       อุณหภูมิจุดต่ำสุด     ความชื้น    ปริมาณเมฆ  \n",
              "count        8169.000000  8169.000000  7838.000000  \n",
              "mean           17.915204    69.305178     3.299566  \n",
              "std             3.819495     9.028821     2.367818  \n",
              "min             1.500000    38.000000     0.000000  \n",
              "25%            15.500000    63.000000     1.000000  \n",
              "50%            18.200000    69.000000     3.000000  \n",
              "75%            20.800000    74.000000     5.000000  \n",
              "max            28.400000    99.000000    10.000000  "
            ],
            "text/html": [
              "\n",
              "  <div id=\"df-a6f24d13-4a0f-4ee4-aac0-d15972a95b47\">\n",
              "    <div class=\"colab-df-container\">\n",
              "      <div>\n",
              "<style scoped>\n",
              "    .dataframe tbody tr th:only-of-type {\n",
              "        vertical-align: middle;\n",
              "    }\n",
              "\n",
              "    .dataframe tbody tr th {\n",
              "        vertical-align: top;\n",
              "    }\n",
              "\n",
              "    .dataframe thead th {\n",
              "        text-align: right;\n",
              "    }\n",
              "</style>\n",
              "<table border=\"1\" class=\"dataframe\">\n",
              "  <thead>\n",
              "    <tr style=\"text-align: right;\">\n",
              "      <th></th>\n",
              "      <th>ความเร็วลม</th>\n",
              "      <th>ความกด</th>\n",
              "      <th>อุณหภูมิตุ้ม</th>\n",
              "      <th>อุณหภูมิจุดน้ำค้าง</th>\n",
              "      <th>อุณหภูมิจุดต่ำสุด</th>\n",
              "      <th>ความชื้น</th>\n",
              "      <th>ปริมาณเมฆ</th>\n",
              "    </tr>\n",
              "  </thead>\n",
              "  <tbody>\n",
              "    <tr>\n",
              "      <th>count</th>\n",
              "      <td>8113.000000</td>\n",
              "      <td>8169.000000</td>\n",
              "      <td>8169.000000</td>\n",
              "      <td>7838.000000</td>\n",
              "      <td>8169.000000</td>\n",
              "      <td>8169.000000</td>\n",
              "      <td>7838.000000</td>\n",
              "    </tr>\n",
              "    <tr>\n",
              "      <th>mean</th>\n",
              "      <td>2.322569</td>\n",
              "      <td>1013.111413</td>\n",
              "      <td>24.755013</td>\n",
              "      <td>3.299566</td>\n",
              "      <td>17.915204</td>\n",
              "      <td>69.305178</td>\n",
              "      <td>3.299566</td>\n",
              "    </tr>\n",
              "    <tr>\n",
              "      <th>std</th>\n",
              "      <td>1.311215</td>\n",
              "      <td>3.242448</td>\n",
              "      <td>2.843517</td>\n",
              "      <td>2.367818</td>\n",
              "      <td>3.819495</td>\n",
              "      <td>9.028821</td>\n",
              "      <td>2.367818</td>\n",
              "    </tr>\n",
              "    <tr>\n",
              "      <th>min</th>\n",
              "      <td>0.000000</td>\n",
              "      <td>1002.070000</td>\n",
              "      <td>12.000000</td>\n",
              "      <td>0.000000</td>\n",
              "      <td>1.500000</td>\n",
              "      <td>38.000000</td>\n",
              "      <td>0.000000</td>\n",
              "    </tr>\n",
              "    <tr>\n",
              "      <th>25%</th>\n",
              "      <td>1.000000</td>\n",
              "      <td>1011.040000</td>\n",
              "      <td>23.100000</td>\n",
              "      <td>1.000000</td>\n",
              "      <td>15.500000</td>\n",
              "      <td>63.000000</td>\n",
              "      <td>1.000000</td>\n",
              "    </tr>\n",
              "    <tr>\n",
              "      <th>50%</th>\n",
              "      <td>2.000000</td>\n",
              "      <td>1012.890000</td>\n",
              "      <td>25.200000</td>\n",
              "      <td>3.000000</td>\n",
              "      <td>18.200000</td>\n",
              "      <td>69.000000</td>\n",
              "      <td>3.000000</td>\n",
              "    </tr>\n",
              "    <tr>\n",
              "      <th>75%</th>\n",
              "      <td>3.000000</td>\n",
              "      <td>1015.120000</td>\n",
              "      <td>26.900000</td>\n",
              "      <td>5.000000</td>\n",
              "      <td>20.800000</td>\n",
              "      <td>74.000000</td>\n",
              "      <td>5.000000</td>\n",
              "    </tr>\n",
              "    <tr>\n",
              "      <th>max</th>\n",
              "      <td>11.000000</td>\n",
              "      <td>1025.710000</td>\n",
              "      <td>31.000000</td>\n",
              "      <td>10.000000</td>\n",
              "      <td>28.400000</td>\n",
              "      <td>99.000000</td>\n",
              "      <td>10.000000</td>\n",
              "    </tr>\n",
              "  </tbody>\n",
              "</table>\n",
              "</div>\n",
              "      <button class=\"colab-df-convert\" onclick=\"convertToInteractive('df-a6f24d13-4a0f-4ee4-aac0-d15972a95b47')\"\n",
              "              title=\"Convert this dataframe to an interactive table.\"\n",
              "              style=\"display:none;\">\n",
              "        \n",
              "  <svg xmlns=\"http://www.w3.org/2000/svg\" height=\"24px\"viewBox=\"0 0 24 24\"\n",
              "       width=\"24px\">\n",
              "    <path d=\"M0 0h24v24H0V0z\" fill=\"none\"/>\n",
              "    <path d=\"M18.56 5.44l.94 2.06.94-2.06 2.06-.94-2.06-.94-.94-2.06-.94 2.06-2.06.94zm-11 1L8.5 8.5l.94-2.06 2.06-.94-2.06-.94L8.5 2.5l-.94 2.06-2.06.94zm10 10l.94 2.06.94-2.06 2.06-.94-2.06-.94-.94-2.06-.94 2.06-2.06.94z\"/><path d=\"M17.41 7.96l-1.37-1.37c-.4-.4-.92-.59-1.43-.59-.52 0-1.04.2-1.43.59L10.3 9.45l-7.72 7.72c-.78.78-.78 2.05 0 2.83L4 21.41c.39.39.9.59 1.41.59.51 0 1.02-.2 1.41-.59l7.78-7.78 2.81-2.81c.8-.78.8-2.07 0-2.86zM5.41 20L4 18.59l7.72-7.72 1.47 1.35L5.41 20z\"/>\n",
              "  </svg>\n",
              "      </button>\n",
              "      \n",
              "  <style>\n",
              "    .colab-df-container {\n",
              "      display:flex;\n",
              "      flex-wrap:wrap;\n",
              "      gap: 12px;\n",
              "    }\n",
              "\n",
              "    .colab-df-convert {\n",
              "      background-color: #E8F0FE;\n",
              "      border: none;\n",
              "      border-radius: 50%;\n",
              "      cursor: pointer;\n",
              "      display: none;\n",
              "      fill: #1967D2;\n",
              "      height: 32px;\n",
              "      padding: 0 0 0 0;\n",
              "      width: 32px;\n",
              "    }\n",
              "\n",
              "    .colab-df-convert:hover {\n",
              "      background-color: #E2EBFA;\n",
              "      box-shadow: 0px 1px 2px rgba(60, 64, 67, 0.3), 0px 1px 3px 1px rgba(60, 64, 67, 0.15);\n",
              "      fill: #174EA6;\n",
              "    }\n",
              "\n",
              "    [theme=dark] .colab-df-convert {\n",
              "      background-color: #3B4455;\n",
              "      fill: #D2E3FC;\n",
              "    }\n",
              "\n",
              "    [theme=dark] .colab-df-convert:hover {\n",
              "      background-color: #434B5C;\n",
              "      box-shadow: 0px 1px 3px 1px rgba(0, 0, 0, 0.15);\n",
              "      filter: drop-shadow(0px 1px 2px rgba(0, 0, 0, 0.3));\n",
              "      fill: #FFFFFF;\n",
              "    }\n",
              "  </style>\n",
              "\n",
              "      <script>\n",
              "        const buttonEl =\n",
              "          document.querySelector('#df-a6f24d13-4a0f-4ee4-aac0-d15972a95b47 button.colab-df-convert');\n",
              "        buttonEl.style.display =\n",
              "          google.colab.kernel.accessAllowed ? 'block' : 'none';\n",
              "\n",
              "        async function convertToInteractive(key) {\n",
              "          const element = document.querySelector('#df-a6f24d13-4a0f-4ee4-aac0-d15972a95b47');\n",
              "          const dataTable =\n",
              "            await google.colab.kernel.invokeFunction('convertToInteractive',\n",
              "                                                     [key], {});\n",
              "          if (!dataTable) return;\n",
              "\n",
              "          const docLinkHtml = 'Like what you see? Visit the ' +\n",
              "            '<a target=\"_blank\" href=https://colab.research.google.com/notebooks/data_table.ipynb>data table notebook</a>'\n",
              "            + ' to learn more about interactive tables.';\n",
              "          element.innerHTML = '';\n",
              "          dataTable['output_type'] = 'display_data';\n",
              "          await google.colab.output.renderOutput(dataTable, element);\n",
              "          const docLink = document.createElement('div');\n",
              "          docLink.innerHTML = docLinkHtml;\n",
              "          element.appendChild(docLink);\n",
              "        }\n",
              "      </script>\n",
              "    </div>\n",
              "  </div>\n",
              "  "
            ]
          },
          "metadata": {},
          "execution_count": 15
        }
      ]
    },
    {
      "cell_type": "code",
      "source": [
        "data_features.dtypes"
      ],
      "metadata": {
        "colab": {
          "base_uri": "https://localhost:8080/"
        },
        "id": "3tCXKpC5DIrf",
        "outputId": "40d663d9-3536-4f6a-a00b-f05962723e00"
      },
      "execution_count": 14,
      "outputs": [
        {
          "output_type": "execute_result",
          "data": {
            "text/plain": [
              "ความเร็วลม            float64\n",
              "ความกด                float64\n",
              "อุณหภูมิตุ้ม          float64\n",
              "อุณหภูมิจุดน้ำค้าง    float64\n",
              "อุณหภูมิจุดต่ำสุด     float64\n",
              "ความชื้น                int64\n",
              "ปริมาณฝน               object\n",
              "ปริมาณเมฆ             float64\n",
              "dtype: object"
            ]
          },
          "metadata": {},
          "execution_count": 14
        }
      ]
    },
    {
      "cell_type": "code",
      "source": [
        "data_features[data_features['ปริมาณฝน'].eq('T')] #แสดงค่า - ที่มีในตาราง ค่าที่เราต้องการ"
      ],
      "metadata": {
        "id": "pPq9ts1UDnZZ"
      },
      "execution_count": null,
      "outputs": []
    },
    {
      "cell_type": "code",
      "source": [
        "data_features[data_features.eq('-').any(1)] #เลือกเฉลาะไม่ผ่านเกณท์"
      ],
      "metadata": {
        "id": "eAyktAsREnfJ"
      },
      "execution_count": null,
      "outputs": []
    },
    {
      "cell_type": "code",
      "source": [
        "data_features_d =data_features[data_features.eq('-').any(1)==False] #ลบค่าที่มี -\n",
        "data_features_d .shape"
      ],
      "metadata": {
        "colab": {
          "base_uri": "https://localhost:8080/"
        },
        "id": "q9ncksW1FknE",
        "outputId": "162fe5be-7218-4e9f-c558-6903edfc1dc0"
      },
      "execution_count": 33,
      "outputs": [
        {
          "output_type": "execute_result",
          "data": {
            "text/plain": [
              "(5988, 8)"
            ]
          },
          "metadata": {},
          "execution_count": 33
        }
      ]
    },
    {
      "cell_type": "code",
      "source": [
        "data_features_d =data_features_d[data_features_d.eq('T').any(1)==False]\n",
        "data_features_d.shape"
      ],
      "metadata": {
        "colab": {
          "base_uri": "https://localhost:8080/"
        },
        "id": "bi6mSQfdFvk-",
        "outputId": "91d58185-18a3-4dd3-bdb1-bf7d813559b6"
      },
      "execution_count": 43,
      "outputs": [
        {
          "output_type": "execute_result",
          "data": {
            "text/plain": [
              "(5778, 8)"
            ]
          },
          "metadata": {},
          "execution_count": 43
        }
      ]
    },
    {
      "cell_type": "markdown",
      "source": [
        "แปลงให้เป็นตัวเลข"
      ],
      "metadata": {
        "id": "2kJ3ZMvBJWzZ"
      }
    },
    {
      "cell_type": "code",
      "source": [
        "data_features_d['ความเร็วลม']= data_features['ความเร็วลม'].astype(float)\n",
        "data_features_d['ปริมาณเมฆ']= data_features['ปริมาณเมฆ'].astype(float)\n",
        "data_features_d['ความกด']= data_features['ความกด'].astype(float)\n",
        "data_features_d['อุณหภูมิตุ้ม']= data_features['อุณหภูมิตุ้ม'].astype(float)\n",
        "data_features_d['อุณหภูมิจุดน้ำค้าง']= data_features['อุณหภูมิจุดน้ำค้าง'].astype(float)\n",
        "data_features_d['อุณหภูมิจุดต่ำสุด']= data_features['อุณหภูมิจุดต่ำสุด'].astype(float)"
      ],
      "metadata": {
        "id": "JwCxnZ3jIJuX"
      },
      "execution_count": 44,
      "outputs": []
    },
    {
      "cell_type": "code",
      "source": [
        "data_features_d.describe()"
      ],
      "metadata": {
        "colab": {
          "base_uri": "https://localhost:8080/",
          "height": 300
        },
        "id": "CVvWcTNfJ3qk",
        "outputId": "dbd4fa60-ab83-49a9-dfad-e6201de8c187"
      },
      "execution_count": 45,
      "outputs": [
        {
          "output_type": "execute_result",
          "data": {
            "text/plain": [
              "        ความเร็วลม       ความกด  อุณหภูมิตุ้ม  อุณหภูมิจุดน้ำค้าง  \\\n",
              "count  5729.000000  5778.000000   5778.000000         5558.000000   \n",
              "mean      2.253273  1012.970076     24.809934            3.323678   \n",
              "std       1.223140     3.234548      2.790382            2.447090   \n",
              "min       0.000000  1002.070000     12.000000            0.000000   \n",
              "25%       1.000000  1010.960000     23.200000            1.000000   \n",
              "50%       2.000000  1012.765000     25.300000            3.000000   \n",
              "75%       3.000000  1014.967500     26.900000            5.000000   \n",
              "max      10.000000  1025.710000     31.000000           10.000000   \n",
              "\n",
              "       อุณหภูมิจุดต่ำสุด     ความชื้น    ปริมาณเมฆ  \n",
              "count        5778.000000  5778.000000  5558.000000  \n",
              "mean           17.981014    69.410869     3.323678  \n",
              "std             3.762340     9.438618     2.447090  \n",
              "min             1.500000    38.000000     0.000000  \n",
              "25%            15.600000    63.000000     1.000000  \n",
              "50%            18.100000    68.000000     3.000000  \n",
              "75%            20.800000    75.000000     5.000000  \n",
              "max            28.400000    99.000000    10.000000  "
            ],
            "text/html": [
              "\n",
              "  <div id=\"df-46a575a3-df67-4f97-a3de-990b74b34351\">\n",
              "    <div class=\"colab-df-container\">\n",
              "      <div>\n",
              "<style scoped>\n",
              "    .dataframe tbody tr th:only-of-type {\n",
              "        vertical-align: middle;\n",
              "    }\n",
              "\n",
              "    .dataframe tbody tr th {\n",
              "        vertical-align: top;\n",
              "    }\n",
              "\n",
              "    .dataframe thead th {\n",
              "        text-align: right;\n",
              "    }\n",
              "</style>\n",
              "<table border=\"1\" class=\"dataframe\">\n",
              "  <thead>\n",
              "    <tr style=\"text-align: right;\">\n",
              "      <th></th>\n",
              "      <th>ความเร็วลม</th>\n",
              "      <th>ความกด</th>\n",
              "      <th>อุณหภูมิตุ้ม</th>\n",
              "      <th>อุณหภูมิจุดน้ำค้าง</th>\n",
              "      <th>อุณหภูมิจุดต่ำสุด</th>\n",
              "      <th>ความชื้น</th>\n",
              "      <th>ปริมาณเมฆ</th>\n",
              "    </tr>\n",
              "  </thead>\n",
              "  <tbody>\n",
              "    <tr>\n",
              "      <th>count</th>\n",
              "      <td>5729.000000</td>\n",
              "      <td>5778.000000</td>\n",
              "      <td>5778.000000</td>\n",
              "      <td>5558.000000</td>\n",
              "      <td>5778.000000</td>\n",
              "      <td>5778.000000</td>\n",
              "      <td>5558.000000</td>\n",
              "    </tr>\n",
              "    <tr>\n",
              "      <th>mean</th>\n",
              "      <td>2.253273</td>\n",
              "      <td>1012.970076</td>\n",
              "      <td>24.809934</td>\n",
              "      <td>3.323678</td>\n",
              "      <td>17.981014</td>\n",
              "      <td>69.410869</td>\n",
              "      <td>3.323678</td>\n",
              "    </tr>\n",
              "    <tr>\n",
              "      <th>std</th>\n",
              "      <td>1.223140</td>\n",
              "      <td>3.234548</td>\n",
              "      <td>2.790382</td>\n",
              "      <td>2.447090</td>\n",
              "      <td>3.762340</td>\n",
              "      <td>9.438618</td>\n",
              "      <td>2.447090</td>\n",
              "    </tr>\n",
              "    <tr>\n",
              "      <th>min</th>\n",
              "      <td>0.000000</td>\n",
              "      <td>1002.070000</td>\n",
              "      <td>12.000000</td>\n",
              "      <td>0.000000</td>\n",
              "      <td>1.500000</td>\n",
              "      <td>38.000000</td>\n",
              "      <td>0.000000</td>\n",
              "    </tr>\n",
              "    <tr>\n",
              "      <th>25%</th>\n",
              "      <td>1.000000</td>\n",
              "      <td>1010.960000</td>\n",
              "      <td>23.200000</td>\n",
              "      <td>1.000000</td>\n",
              "      <td>15.600000</td>\n",
              "      <td>63.000000</td>\n",
              "      <td>1.000000</td>\n",
              "    </tr>\n",
              "    <tr>\n",
              "      <th>50%</th>\n",
              "      <td>2.000000</td>\n",
              "      <td>1012.765000</td>\n",
              "      <td>25.300000</td>\n",
              "      <td>3.000000</td>\n",
              "      <td>18.100000</td>\n",
              "      <td>68.000000</td>\n",
              "      <td>3.000000</td>\n",
              "    </tr>\n",
              "    <tr>\n",
              "      <th>75%</th>\n",
              "      <td>3.000000</td>\n",
              "      <td>1014.967500</td>\n",
              "      <td>26.900000</td>\n",
              "      <td>5.000000</td>\n",
              "      <td>20.800000</td>\n",
              "      <td>75.000000</td>\n",
              "      <td>5.000000</td>\n",
              "    </tr>\n",
              "    <tr>\n",
              "      <th>max</th>\n",
              "      <td>10.000000</td>\n",
              "      <td>1025.710000</td>\n",
              "      <td>31.000000</td>\n",
              "      <td>10.000000</td>\n",
              "      <td>28.400000</td>\n",
              "      <td>99.000000</td>\n",
              "      <td>10.000000</td>\n",
              "    </tr>\n",
              "  </tbody>\n",
              "</table>\n",
              "</div>\n",
              "      <button class=\"colab-df-convert\" onclick=\"convertToInteractive('df-46a575a3-df67-4f97-a3de-990b74b34351')\"\n",
              "              title=\"Convert this dataframe to an interactive table.\"\n",
              "              style=\"display:none;\">\n",
              "        \n",
              "  <svg xmlns=\"http://www.w3.org/2000/svg\" height=\"24px\"viewBox=\"0 0 24 24\"\n",
              "       width=\"24px\">\n",
              "    <path d=\"M0 0h24v24H0V0z\" fill=\"none\"/>\n",
              "    <path d=\"M18.56 5.44l.94 2.06.94-2.06 2.06-.94-2.06-.94-.94-2.06-.94 2.06-2.06.94zm-11 1L8.5 8.5l.94-2.06 2.06-.94-2.06-.94L8.5 2.5l-.94 2.06-2.06.94zm10 10l.94 2.06.94-2.06 2.06-.94-2.06-.94-.94-2.06-.94 2.06-2.06.94z\"/><path d=\"M17.41 7.96l-1.37-1.37c-.4-.4-.92-.59-1.43-.59-.52 0-1.04.2-1.43.59L10.3 9.45l-7.72 7.72c-.78.78-.78 2.05 0 2.83L4 21.41c.39.39.9.59 1.41.59.51 0 1.02-.2 1.41-.59l7.78-7.78 2.81-2.81c.8-.78.8-2.07 0-2.86zM5.41 20L4 18.59l7.72-7.72 1.47 1.35L5.41 20z\"/>\n",
              "  </svg>\n",
              "      </button>\n",
              "      \n",
              "  <style>\n",
              "    .colab-df-container {\n",
              "      display:flex;\n",
              "      flex-wrap:wrap;\n",
              "      gap: 12px;\n",
              "    }\n",
              "\n",
              "    .colab-df-convert {\n",
              "      background-color: #E8F0FE;\n",
              "      border: none;\n",
              "      border-radius: 50%;\n",
              "      cursor: pointer;\n",
              "      display: none;\n",
              "      fill: #1967D2;\n",
              "      height: 32px;\n",
              "      padding: 0 0 0 0;\n",
              "      width: 32px;\n",
              "    }\n",
              "\n",
              "    .colab-df-convert:hover {\n",
              "      background-color: #E2EBFA;\n",
              "      box-shadow: 0px 1px 2px rgba(60, 64, 67, 0.3), 0px 1px 3px 1px rgba(60, 64, 67, 0.15);\n",
              "      fill: #174EA6;\n",
              "    }\n",
              "\n",
              "    [theme=dark] .colab-df-convert {\n",
              "      background-color: #3B4455;\n",
              "      fill: #D2E3FC;\n",
              "    }\n",
              "\n",
              "    [theme=dark] .colab-df-convert:hover {\n",
              "      background-color: #434B5C;\n",
              "      box-shadow: 0px 1px 3px 1px rgba(0, 0, 0, 0.15);\n",
              "      filter: drop-shadow(0px 1px 2px rgba(0, 0, 0, 0.3));\n",
              "      fill: #FFFFFF;\n",
              "    }\n",
              "  </style>\n",
              "\n",
              "      <script>\n",
              "        const buttonEl =\n",
              "          document.querySelector('#df-46a575a3-df67-4f97-a3de-990b74b34351 button.colab-df-convert');\n",
              "        buttonEl.style.display =\n",
              "          google.colab.kernel.accessAllowed ? 'block' : 'none';\n",
              "\n",
              "        async function convertToInteractive(key) {\n",
              "          const element = document.querySelector('#df-46a575a3-df67-4f97-a3de-990b74b34351');\n",
              "          const dataTable =\n",
              "            await google.colab.kernel.invokeFunction('convertToInteractive',\n",
              "                                                     [key], {});\n",
              "          if (!dataTable) return;\n",
              "\n",
              "          const docLinkHtml = 'Like what you see? Visit the ' +\n",
              "            '<a target=\"_blank\" href=https://colab.research.google.com/notebooks/data_table.ipynb>data table notebook</a>'\n",
              "            + ' to learn more about interactive tables.';\n",
              "          element.innerHTML = '';\n",
              "          dataTable['output_type'] = 'display_data';\n",
              "          await google.colab.output.renderOutput(dataTable, element);\n",
              "          const docLink = document.createElement('div');\n",
              "          docLink.innerHTML = docLinkHtml;\n",
              "          element.appendChild(docLink);\n",
              "        }\n",
              "      </script>\n",
              "    </div>\n",
              "  </div>\n",
              "  "
            ]
          },
          "metadata": {},
          "execution_count": 45
        }
      ]
    },
    {
      "cell_type": "code",
      "source": [
        "import matplotlib\n",
        "matplotlib.rcParams['figure.figsize']=[9,9]"
      ],
      "metadata": {
        "id": "5Y3oTY7JK5f-"
      },
      "execution_count": 49,
      "outputs": []
    },
    {
      "cell_type": "code",
      "source": [
        "pd.plotting.scatter_matrix(data_features_d);"
      ],
      "metadata": {
        "id": "OlaH5PNLKc7E"
      },
      "execution_count": null,
      "outputs": []
    },
    {
      "cell_type": "code",
      "source": [
        "from matplotlib import pyplot as plt"
      ],
      "metadata": {
        "id": "UWslWSV6Ltbt"
      },
      "execution_count": 52,
      "outputs": []
    },
    {
      "cell_type": "code",
      "source": [
        "plt.hist(data_features_d['ความกด'])"
      ],
      "metadata": {
        "colab": {
          "base_uri": "https://localhost:8080/",
          "height": 624
        },
        "id": "oY6UTOiqMOhL",
        "outputId": "6c02c5c6-9e4f-48d8-a7b0-bab909c95ac1"
      },
      "execution_count": 53,
      "outputs": [
        {
          "output_type": "execute_result",
          "data": {
            "text/plain": [
              "(array([  26.,  139.,  467., 1275., 1798., 1190.,  590.,  228.,   54.,\n",
              "          11.]),\n",
              " array([1002.07 , 1004.434, 1006.798, 1009.162, 1011.526, 1013.89 ,\n",
              "        1016.254, 1018.618, 1020.982, 1023.346, 1025.71 ]),\n",
              " <a list of 10 Patch objects>)"
            ]
          },
          "metadata": {},
          "execution_count": 53
        },
        {
          "output_type": "display_data",
          "data": {
            "text/plain": [
              "<Figure size 648x648 with 1 Axes>"
            ],
            "image/png": "[encoded data removed]"
          },
          "metadata": {
            "needs_background": "light"
          }
        }
      ]
    },
    {
      "cell_type": "markdown",
      "source": [
        "# StandardScaler"
      ],
      "metadata": {
        "id": "f04QL4HpQYnz"
      }
    },
    {
      "cell_type": "code",
      "source": [
        "from sklearn import preprocessing"
      ],
      "metadata": {
        "id": "Y8RbCrEkL6Fr"
      },
      "execution_count": 51,
      "outputs": []
    },
    {
      "cell_type": "code",
      "source": [
        "from pandas.core.array_algos.replace import Scalar\n",
        "#define บอกวิธีการที่จะทำ\n",
        "scalar = preprocessing.StandardScaler()\n",
        "#train สร้างโมเดลจากdata\n",
        "scalar.fit(data_features_d)\n",
        "#predict นำมาใชช้งาน ถ้าไม่ได้นำไปทำนายdata ใหม่เรียก transform\n",
        "data_features_d_s = scalar.fit_transform(data_features_d)# ค่าเดิมแต่ปรับให้เป็น standard"
      ],
      "metadata": {
        "id": "GDC9a3tPMEAx"
      },
      "execution_count": 55,
      "outputs": []
    },
    {
      "cell_type": "code",
      "source": [
        "data_features_d_s"
      ],
      "metadata": {
        "colab": {
          "base_uri": "https://localhost:8080/"
        },
        "id": "N5jjS7YzN6LP",
        "outputId": "b07311e1-637d-4370-9a3a-4eed4e98bc49"
      },
      "execution_count": 56,
      "outputs": [
        {
          "output_type": "execute_result",
          "data": {
            "text/plain": [
              "array([[ 0.61055332, -2.31894108,  0.9999731 , ...,  1.43986191,\n",
              "         0.03033702,  2.31983008],\n",
              "       [-0.20708576, -1.95409806,  0.2831634 , ...,  2.39347381,\n",
              "         2.80187907,  2.72851547],\n",
              "       [ 0.61055332, -1.69437929,  0.2831634 , ...,  1.75773255,\n",
              "         0.30239022,  2.72851547],\n",
              "       ...,\n",
              "       [-1.02472484, -2.50754638,  0.5340468 , ..., -1.52693067,\n",
              "        -0.20770954, -1.35833849],\n",
              "       [-0.20708576, -2.22927627,  0.13980146, ..., -1.42097379,\n",
              "        -0.20770954, -0.5409677 ],\n",
              "       [ 0.61055332, -1.47176321,  0.2831634 , ..., -1.20906003,\n",
              "        -0.20770954, -0.94965309]])"
            ]
          },
          "metadata": {},
          "execution_count": 56
        }
      ]
    },
    {
      "cell_type": "code",
      "source": [
        "plt.hist(data_features_d_s[:,0]) #ใช้แถวกับหลังในการเรียกเพราะเป็น numpy"
      ],
      "metadata": {
        "colab": {
          "base_uri": "https://localhost:8080/",
          "height": 641
        },
        "id": "I8FWsmimOB6U",
        "outputId": "a286560f-d9fc-4590-b902-5e406d3bbd76"
      },
      "execution_count": 57,
      "outputs": [
        {
          "output_type": "execute_result",
          "data": {
            "text/plain": [
              "(array([1.080e+02, 3.620e+03, 1.167e+03, 5.440e+02, 2.040e+02, 6.000e+01,\n",
              "        0.000e+00, 2.000e+01, 3.000e+00, 3.000e+00]),\n",
              " array([-1.84236392, -1.02472484, -0.20708576,  0.61055332,  1.4281924 ,\n",
              "         2.24583148,  3.06347056,  3.88110964,  4.69874872,  5.5163878 ,\n",
              "         6.33402688]),\n",
              " <a list of 10 Patch objects>)"
            ]
          },
          "metadata": {},
          "execution_count": 57
        },
        {
          "output_type": "display_data",
          "data": {
            "text/plain": [
              "<Figure size 648x648 with 1 Axes>"
            ],
            "image/png": "[encoded data removed]"
          },
          "metadata": {
            "needs_background": "light"
          }
        }
      ]
    },
    {
      "cell_type": "code",
      "source": [
        "plt.subplot(1,2,1)\n",
        "plt.hist(data_features_d['ความกด'])\n",
        "plt.subplot(1,2,2)\n",
        "plt.hist(data_features_d_s[:,1]);"
      ],
      "metadata": {
        "colab": {
          "base_uri": "https://localhost:8080/",
          "height": 537
        },
        "id": "fSdbPqQrOrPe",
        "outputId": "678d78ee-4e83-4e61-8616-f9b62cbcc191"
      },
      "execution_count": 67,
      "outputs": [
        {
          "output_type": "display_data",
          "data": {
            "text/plain": [
              "<Figure size 648x648 with 2 Axes>"
            ],
            "image/png": "[encoded data removed]"
          },
          "metadata": {
            "needs_background": "light"
          }
        }
      ]
    },
    {
      "cell_type": "code",
      "source": [
        "plt.subplot(1,2,1)\n",
        "plt.hist(data_features_d['ปริมาณฝน'])\n",
        "plt.subplot(1,2,2)\n",
        "plt.hist(data_features_d_s[:,6]);"
      ],
      "metadata": {
        "colab": {
          "base_uri": "https://localhost:8080/",
          "height": 537
        },
        "id": "KERvU5S6PWg6",
        "outputId": "182f0515-7acf-4a0d-988d-c362f408e6cd"
      },
      "execution_count": 64,
      "outputs": [
        {
          "output_type": "display_data",
          "data": {
            "text/plain": [
              "<Figure size 648x648 with 2 Axes>"
            ],
            "image/png": "[encoded data removed]"
          },
          "metadata": {
            "needs_background": "light"
          }
        }
      ]
    },
    {
      "cell_type": "markdown",
      "source": [
        "##Min Max normalization"
      ],
      "metadata": {
        "id": "mO7c1kMnQdxE"
      }
    },
    {
      "cell_type": "code",
      "source": [
        "#define บอกวิธีการที่จะทำ\n",
        "scalar = preprocessing.MinMaxScaler() #ปรับขนาดให้อยู่มาตรฐานเดียวกัน\n",
        "#train สร้างโมเดลจากdata\n",
        "scalar.fit(data_features_d)\n",
        "#predict นำมาใชช้งาน ถ้าไม่ได้นำไปทำนายdata ใหม่เรียก transform\n",
        "data_features_d_norm = scalar.fit_transform(data_features_d)# ค่าเดิมแต่ปรับให้เป็น standard"
      ],
      "metadata": {
        "id": "Gk8w1SUZQWHd"
      },
      "execution_count": 65,
      "outputs": []
    },
    {
      "cell_type": "code",
      "source": [
        "plt.subplot(1,3,1)\n",
        "plt.hist(data_features_d['ความกด'])\n",
        "plt.subplot(1,3,2)\n",
        "plt.hist(data_features_d_s[:,1]);\n",
        "plt.subplot(1,3,3)\n",
        "plt.hist(data_features_d_norm[:,0]);"
      ],
      "metadata": {
        "colab": {
          "base_uri": "https://localhost:8080/",
          "height": 537
        },
        "id": "xRyNS3TVQPQ8",
        "outputId": "d776e5a2-8416-48fa-a37f-18a3644b9209"
      },
      "execution_count": 68,
      "outputs": [
        {
          "output_type": "display_data",
          "data": {
            "text/plain": [
              "<Figure size 648x648 with 3 Axes>"
            ],
            "image/png": "[encoded data removed]"
          },
          "metadata": {
            "needs_background": "light"
          }
        }
      ]
    },
    {
      "cell_type": "markdown",
      "source": [
        "# Discritization"
      ],
      "metadata": {
        "id": "VLKX6LscSLsi"
      }
    },
    {
      "cell_type": "code",
      "source": [
        "home_data = pd.read_csv('/content/drive/MyDrive/data/สุจิรา มันหาท้าว.csv')"
      ],
      "metadata": {
        "id": "rO2Zf4YMSUKB"
      },
      "execution_count": 72,
      "outputs": []
    },
    {
      "cell_type": "code",
      "source": [
        "home_data.head()"
      ],
      "metadata": {
        "colab": {
          "base_uri": "https://localhost:8080/",
          "height": 560
        },
        "id": "1KATQzoAS_g0",
        "outputId": "01d326eb-74db-4eb0-db2d-82b6ef3af866"
      },
      "execution_count": 73,
      "outputs": [
        {
          "output_type": "execute_result",
          "data": {
            "text/plain": [
              "   post_id  number_of_rai  number_of_ngan  number_of_va  number_of_story  \\\n",
              "0     25.0            0.0             0.0          63.8              1.0   \n",
              "1     33.0            0.0             0.0          61.1              1.0   \n",
              "2    495.0            NaN             3.0          12.8              NaN   \n",
              "3    564.0            NaN             NaN          85.0              NaN   \n",
              "4    566.0            NaN             NaN          65.0              NaN   \n",
              "\n",
              "   number_of_bedroom  number_of_bathroom  direction  furniture  usable_area  \\\n",
              "0                3.0                 2.0        0.0        0.0        135.0   \n",
              "1                2.0                 2.0        0.0        0.0        112.0   \n",
              "2                0.0                 NaN        0.0        0.0          0.0   \n",
              "3                0.0                 NaN        0.0        0.0          0.0   \n",
              "4                0.0                 NaN        0.0        0.0          0.0   \n",
              "\n",
              "   ...      district                          zone     street sell_price  \\\n",
              "0  ...  เมืองขอนแก่น             โนนทัน-บึงแก่นนคร        NaN  2700000.0   \n",
              "1  ...  เมืองขอนแก่น  กลางเมือง-เมืองเก่า-กุดกว้าง        NaN  2600000.0   \n",
              "2  ...  เมืองขอนแก่น             โนนทัน-บึงแก่นนคร    โพธิสาร  5900000.0   \n",
              "3  ...  เมืองขอนแก่น   ทุ่งสร้าง-ศรีจันทร์-ราชมงคล        NaN  4400000.0   \n",
              "4  ...  เมืองขอนแก่น   ทุ่งสร้าง-ศรีจันทร์-ราชมงคล  ศรีจันทร์  2750000.0   \n",
              "\n",
              "  d250-7/11  d500-7/11  d700-7/11  d21000-7/11  d21250-7/11  d1500-7/11  \n",
              "0         0          1          1            1            1           2  \n",
              "1         0          1          2            3            5           5  \n",
              "2         0          0          0            2            2           3  \n",
              "3         0          0          2            4            8          12  \n",
              "4         0          1          2            3            4           4  \n",
              "\n",
              "[5 rows x 22 columns]"
            ],
            "text/html": [
              "\n",
              "  <div id=\"df-0bf1f690-973d-40cf-8b1a-620e9cd83578\">\n",
              "    <div class=\"colab-df-container\">\n",
              "      <div>\n",
              "<style scoped>\n",
              "    .dataframe tbody tr th:only-of-type {\n",
              "        vertical-align: middle;\n",
              "    }\n",
              "\n",
              "    .dataframe tbody tr th {\n",
              "        vertical-align: top;\n",
              "    }\n",
              "\n",
              "    .dataframe thead th {\n",
              "        text-align: right;\n",
              "    }\n",
              "</style>\n",
              "<table border=\"1\" class=\"dataframe\">\n",
              "  <thead>\n",
              "    <tr style=\"text-align: right;\">\n",
              "      <th></th>\n",
              "      <th>post_id</th>\n",
              "      <th>number_of_rai</th>\n",
              "      <th>number_of_ngan</th>\n",
              "      <th>number_of_va</th>\n",
              "      <th>number_of_story</th>\n",
              "      <th>number_of_bedroom</th>\n",
              "      <th>number_of_bathroom</th>\n",
              "      <th>direction</th>\n",
              "      <th>furniture</th>\n",
              "      <th>usable_area</th>\n",
              "      <th>...</th>\n",
              "      <th>district</th>\n",
              "      <th>zone</th>\n",
              "      <th>street</th>\n",
              "      <th>sell_price</th>\n",
              "      <th>d250-7/11</th>\n",
              "      <th>d500-7/11</th>\n",
              "      <th>d700-7/11</th>\n",
              "      <th>d21000-7/11</th>\n",
              "      <th>d21250-7/11</th>\n",
              "      <th>d1500-7/11</th>\n",
              "    </tr>\n",
              "  </thead>\n",
              "  <tbody>\n",
              "    <tr>\n",
              "      <th>0</th>\n",
              "      <td>25.0</td>\n",
              "      <td>0.0</td>\n",
              "      <td>0.0</td>\n",
              "      <td>63.8</td>\n",
              "      <td>1.0</td>\n",
              "      <td>3.0</td>\n",
              "      <td>2.0</td>\n",
              "      <td>0.0</td>\n",
              "      <td>0.0</td>\n",
              "      <td>135.0</td>\n",
              "      <td>...</td>\n",
              "      <td>เมืองขอนแก่น</td>\n",
              "      <td>โนนทัน-บึงแก่นนคร</td>\n",
              "      <td>NaN</td>\n",
              "      <td>2700000.0</td>\n",
              "      <td>0</td>\n",
              "      <td>1</td>\n",
              "      <td>1</td>\n",
              "      <td>1</td>\n",
              "      <td>1</td>\n",
              "      <td>2</td>\n",
              "    </tr>\n",
              "    <tr>\n",
              "      <th>1</th>\n",
              "      <td>33.0</td>\n",
              "      <td>0.0</td>\n",
              "      <td>0.0</td>\n",
              "      <td>61.1</td>\n",
              "      <td>1.0</td>\n",
              "      <td>2.0</td>\n",
              "      <td>2.0</td>\n",
              "      <td>0.0</td>\n",
              "      <td>0.0</td>\n",
              "      <td>112.0</td>\n",
              "      <td>...</td>\n",
              "      <td>เมืองขอนแก่น</td>\n",
              "      <td>กลางเมือง-เมืองเก่า-กุดกว้าง</td>\n",
              "      <td>NaN</td>\n",
              "      <td>2600000.0</td>\n",
              "      <td>0</td>\n",
              "      <td>1</td>\n",
              "      <td>2</td>\n",
              "      <td>3</td>\n",
              "      <td>5</td>\n",
              "      <td>5</td>\n",
              "    </tr>\n",
              "    <tr>\n",
              "      <th>2</th>\n",
              "      <td>495.0</td>\n",
              "      <td>NaN</td>\n",
              "      <td>3.0</td>\n",
              "      <td>12.8</td>\n",
              "      <td>NaN</td>\n",
              "      <td>0.0</td>\n",
              "      <td>NaN</td>\n",
              "      <td>0.0</td>\n",
              "      <td>0.0</td>\n",
              "      <td>0.0</td>\n",
              "      <td>...</td>\n",
              "      <td>เมืองขอนแก่น</td>\n",
              "      <td>โนนทัน-บึงแก่นนคร</td>\n",
              "      <td>โพธิสาร</td>\n",
              "      <td>5900000.0</td>\n",
              "      <td>0</td>\n",
              "      <td>0</td>\n",
              "      <td>0</td>\n",
              "      <td>2</td>\n",
              "      <td>2</td>\n",
              "      <td>3</td>\n",
              "    </tr>\n",
              "    <tr>\n",
              "      <th>3</th>\n",
              "      <td>564.0</td>\n",
              "      <td>NaN</td>\n",
              "      <td>NaN</td>\n",
              "      <td>85.0</td>\n",
              "      <td>NaN</td>\n",
              "      <td>0.0</td>\n",
              "      <td>NaN</td>\n",
              "      <td>0.0</td>\n",
              "      <td>0.0</td>\n",
              "      <td>0.0</td>\n",
              "      <td>...</td>\n",
              "      <td>เมืองขอนแก่น</td>\n",
              "      <td>ทุ่งสร้าง-ศรีจันทร์-ราชมงคล</td>\n",
              "      <td>NaN</td>\n",
              "      <td>4400000.0</td>\n",
              "      <td>0</td>\n",
              "      <td>0</td>\n",
              "      <td>2</td>\n",
              "      <td>4</td>\n",
              "      <td>8</td>\n",
              "      <td>12</td>\n",
              "    </tr>\n",
              "    <tr>\n",
              "      <th>4</th>\n",
              "      <td>566.0</td>\n",
              "      <td>NaN</td>\n",
              "      <td>NaN</td>\n",
              "      <td>65.0</td>\n",
              "      <td>NaN</td>\n",
              "      <td>0.0</td>\n",
              "      <td>NaN</td>\n",
              "      <td>0.0</td>\n",
              "      <td>0.0</td>\n",
              "      <td>0.0</td>\n",
              "      <td>...</td>\n",
              "      <td>เมืองขอนแก่น</td>\n",
              "      <td>ทุ่งสร้าง-ศรีจันทร์-ราชมงคล</td>\n",
              "      <td>ศรีจันทร์</td>\n",
              "      <td>2750000.0</td>\n",
              "      <td>0</td>\n",
              "      <td>1</td>\n",
              "      <td>2</td>\n",
              "      <td>3</td>\n",
              "      <td>4</td>\n",
              "      <td>4</td>\n",
              "    </tr>\n",
              "  </tbody>\n",
              "</table>\n",
              "<p>5 rows × 22 columns</p>\n",
              "</div>\n",
              "      <button class=\"colab-df-convert\" onclick=\"convertToInteractive('df-0bf1f690-973d-40cf-8b1a-620e9cd83578')\"\n",
              "              title=\"Convert this dataframe to an interactive table.\"\n",
              "              style=\"display:none;\">\n",
              "        \n",
              "  <svg xmlns=\"http://www.w3.org/2000/svg\" height=\"24px\"viewBox=\"0 0 24 24\"\n",
              "       width=\"24px\">\n",
              "    <path d=\"M0 0h24v24H0V0z\" fill=\"none\"/>\n",
              "    <path d=\"M18.56 5.44l.94 2.06.94-2.06 2.06-.94-2.06-.94-.94-2.06-.94 2.06-2.06.94zm-11 1L8.5 8.5l.94-2.06 2.06-.94-2.06-.94L8.5 2.5l-.94 2.06-2.06.94zm10 10l.94 2.06.94-2.06 2.06-.94-2.06-.94-.94-2.06-.94 2.06-2.06.94z\"/><path d=\"M17.41 7.96l-1.37-1.37c-.4-.4-.92-.59-1.43-.59-.52 0-1.04.2-1.43.59L10.3 9.45l-7.72 7.72c-.78.78-.78 2.05 0 2.83L4 21.41c.39.39.9.59 1.41.59.51 0 1.02-.2 1.41-.59l7.78-7.78 2.81-2.81c.8-.78.8-2.07 0-2.86zM5.41 20L4 18.59l7.72-7.72 1.47 1.35L5.41 20z\"/>\n",
              "  </svg>\n",
              "      </button>\n",
              "      \n",
              "  <style>\n",
              "    .colab-df-container {\n",
              "      display:flex;\n",
              "      flex-wrap:wrap;\n",
              "      gap: 12px;\n",
              "    }\n",
              "\n",
              "    .colab-df-convert {\n",
              "      background-color: #E8F0FE;\n",
              "      border: none;\n",
              "      border-radius: 50%;\n",
              "      cursor: pointer;\n",
              "      display: none;\n",
              "      fill: #1967D2;\n",
              "      height: 32px;\n",
              "      padding: 0 0 0 0;\n",
              "      width: 32px;\n",
              "    }\n",
              "\n",
              "    .colab-df-convert:hover {\n",
              "      background-color: #E2EBFA;\n",
              "      box-shadow: 0px 1px 2px rgba(60, 64, 67, 0.3), 0px 1px 3px 1px rgba(60, 64, 67, 0.15);\n",
              "      fill: #174EA6;\n",
              "    }\n",
              "\n",
              "    [theme=dark] .colab-df-convert {\n",
              "      background-color: #3B4455;\n",
              "      fill: #D2E3FC;\n",
              "    }\n",
              "\n",
              "    [theme=dark] .colab-df-convert:hover {\n",
              "      background-color: #434B5C;\n",
              "      box-shadow: 0px 1px 3px 1px rgba(0, 0, 0, 0.15);\n",
              "      filter: drop-shadow(0px 1px 2px rgba(0, 0, 0, 0.3));\n",
              "      fill: #FFFFFF;\n",
              "    }\n",
              "  </style>\n",
              "\n",
              "      <script>\n",
              "        const buttonEl =\n",
              "          document.querySelector('#df-0bf1f690-973d-40cf-8b1a-620e9cd83578 button.colab-df-convert');\n",
              "        buttonEl.style.display =\n",
              "          google.colab.kernel.accessAllowed ? 'block' : 'none';\n",
              "\n",
              "        async function convertToInteractive(key) {\n",
              "          const element = document.querySelector('#df-0bf1f690-973d-40cf-8b1a-620e9cd83578');\n",
              "          const dataTable =\n",
              "            await google.colab.kernel.invokeFunction('convertToInteractive',\n",
              "                                                     [key], {});\n",
              "          if (!dataTable) return;\n",
              "\n",
              "          const docLinkHtml = 'Like what you see? Visit the ' +\n",
              "            '<a target=\"_blank\" href=https://colab.research.google.com/notebooks/data_table.ipynb>data table notebook</a>'\n",
              "            + ' to learn more about interactive tables.';\n",
              "          element.innerHTML = '';\n",
              "          dataTable['output_type'] = 'display_data';\n",
              "          await google.colab.output.renderOutput(dataTable, element);\n",
              "          const docLink = document.createElement('div');\n",
              "          docLink.innerHTML = docLinkHtml;\n",
              "          element.appendChild(docLink);\n",
              "        }\n",
              "      </script>\n",
              "    </div>\n",
              "  </div>\n",
              "  "
            ]
          },
          "metadata": {},
          "execution_count": 73
        }
      ]
    },
    {
      "cell_type": "markdown",
      "source": [
        "# ลบ record ที่ค่า sell price เป็นค่าว่าง"
      ],
      "metadata": {
        "id": "3svhFX0vT_DG"
      }
    },
    {
      "cell_type": "code",
      "source": [
        "home_data = home_data.dropna(subset=['sell_price'])"
      ],
      "metadata": {
        "id": "DFk7hajZToaj"
      },
      "execution_count": 77,
      "outputs": []
    },
    {
      "cell_type": "code",
      "source": [
        "plt.hist(home_data['sell_price']); #กราฟฮิสโตรเเกรม"
      ],
      "metadata": {
        "id": "AqVgZ8pBUljn"
      },
      "execution_count": null,
      "outputs": []
    },
    {
      "cell_type": "markdown",
      "source": [
        "#แปลงค่า sell price\n",
        "- ราคาต่ำกว่า 5m ให้เป็น 1\n",
        "- ราคาระหว่าง 5m-10m ให้เป็น 2\n",
        "- ราคา 10m ขึ้นไปให้เป็น 3"
      ],
      "metadata": {
        "id": "5JTMecHYVNss"
      }
    },
    {
      "cell_type": "code",
      "source": [
        "home_data.head()"
      ],
      "metadata": {
        "id": "VA7eBT5QXA_H"
      },
      "execution_count": null,
      "outputs": []
    },
    {
      "cell_type": "code",
      "source": [
        "I = home_data[['sell_price']]\n",
        "I"
      ],
      "metadata": {
        "id": "irIxQx_aYkSJ"
      },
      "execution_count": null,
      "outputs": []
    },
    {
      "cell_type": "code",
      "source": [
        "home_data[home_data['sell_price']<5000000]=1 #มันจะทับค่าเดิมทำให้แก้ไขยาก"
      ],
      "metadata": {
        "id": "5coB1LbDU_hW"
      },
      "execution_count": 91,
      "outputs": []
    },
    {
      "cell_type": "code",
      "source": [
        "home_data"
      ],
      "metadata": {
        "id": "bw_C9vzgarGV"
      },
      "execution_count": null,
      "outputs": []
    },
    {
      "cell_type": "markdown",
      "source": [
        "# One-Hot encoder"
      ],
      "metadata": {
        "id": "ieMB1MefhZlc"
      }
    },
    {
      "cell_type": "code",
      "source": [
        "home_data_dummies = pd.get_dummies(home_data,columns=['zone'])"
      ],
      "metadata": {
        "id": "M8dPkofMd_ZO"
      },
      "execution_count": 95,
      "outputs": []
    },
    {
      "cell_type": "code",
      "source": [
        "home_data_dummies"
      ],
      "metadata": {
        "colab": {
          "base_uri": "https://localhost:8080/",
          "height": 557
        },
        "id": "B_IbrhvKiiRh",
        "outputId": "c5004d02-d94a-4d79-dbb5-e9363b270ccf"
      },
      "execution_count": 96,
      "outputs": [
        {
          "output_type": "execute_result",
          "data": {
            "text/plain": [
              "    post_id  number_of_rai  number_of_ngan  number_of_va  number_of_story  \\\n",
              "0       1.0            1.0             1.0           1.0              1.0   \n",
              "1       1.0            1.0             1.0           1.0              1.0   \n",
              "2     495.0            NaN             3.0          12.8              NaN   \n",
              "3       1.0            1.0             1.0           1.0              1.0   \n",
              "4       1.0            1.0             1.0           1.0              1.0   \n",
              "..      ...            ...             ...           ...              ...   \n",
              "95  19495.0            0.0             1.0          76.2              2.0   \n",
              "96  19496.0            0.0             2.0          56.8              1.0   \n",
              "97      1.0            1.0             1.0           1.0              1.0   \n",
              "98      1.0            1.0             1.0           1.0              1.0   \n",
              "99      1.0            1.0             1.0           1.0              1.0   \n",
              "\n",
              "    number_of_bedroom  number_of_bathroom  direction  furniture  usable_area  \\\n",
              "0                 1.0                 1.0        1.0        1.0          1.0   \n",
              "1                 1.0                 1.0        1.0        1.0          1.0   \n",
              "2                 0.0                 NaN        0.0        0.0          0.0   \n",
              "3                 1.0                 1.0        1.0        1.0          1.0   \n",
              "4                 1.0                 1.0        1.0        1.0          1.0   \n",
              "..                ...                 ...        ...        ...          ...   \n",
              "95                0.0                 0.0        0.0        0.0        193.0   \n",
              "96                0.0                 0.0        0.0        0.0          0.0   \n",
              "97                1.0                 1.0        1.0        1.0          1.0   \n",
              "98                1.0                 1.0        1.0        1.0          1.0   \n",
              "99                1.0                 1.0        1.0        1.0          1.0   \n",
              "\n",
              "    ...  d21250-7/11 d1500-7/11 zone_1 zone_กลางเมือง-เมืองเก่า-กุดกว้าง  \\\n",
              "0   ...            1          1      1                                 0   \n",
              "1   ...            1          1      1                                 0   \n",
              "2   ...            2          3      0                                 0   \n",
              "3   ...            1          1      1                                 0   \n",
              "4   ...            1          1      1                                 0   \n",
              "..  ...          ...        ...    ...                               ...   \n",
              "95  ...           10         14      0                                 0   \n",
              "96  ...            4          9      0                                 0   \n",
              "97  ...            1          1      1                                 0   \n",
              "98  ...            1          1      1                                 0   \n",
              "99  ...            1          1      1                                 0   \n",
              "\n",
              "    zone_ทุ่งสร้าง-ศรีจันทร์-ราชมงคล  zone_ม.ภาค-บ้านกอก-บึงหนองโคตร  \\\n",
              "0                                  0                               0   \n",
              "1                                  0                               0   \n",
              "2                                  0                               0   \n",
              "3                                  0                               0   \n",
              "4                                  0                               0   \n",
              "..                               ...                             ...   \n",
              "95                                 0                               0   \n",
              "96                                 0                               0   \n",
              "97                                 0                               0   \n",
              "98                                 0                               0   \n",
              "99                                 0                               0   \n",
              "\n",
              "    zone_สามเหลี่ยม-กังสดาล-ม.ขอนแก่น  zone_เหล่านาดี-บ้านสะอาด-บ้านโจด  \\\n",
              "0                                   0                                 0   \n",
              "1                                   0                                 0   \n",
              "2                                   0                                 0   \n",
              "3                                   0                                 0   \n",
              "4                                   0                                 0   \n",
              "..                                ...                               ...   \n",
              "95                                  1                                 0   \n",
              "96                                  0                                 0   \n",
              "97                                  0                                 0   \n",
              "98                                  0                                 0   \n",
              "99                                  0                                 0   \n",
              "\n",
              "    zone_โนนทัน-บึงแก่นนคร  zone_ในเมือง-รื่นรมย์-เทพารักษ์  \n",
              "0                        0                                0  \n",
              "1                        0                                0  \n",
              "2                        1                                0  \n",
              "3                        0                                0  \n",
              "4                        0                                0  \n",
              "..                     ...                              ...  \n",
              "95                       0                                0  \n",
              "96                       1                                0  \n",
              "97                       0                                0  \n",
              "98                       0                                0  \n",
              "99                       0                                0  \n",
              "\n",
              "[100 rows x 29 columns]"
            ],
            "text/html": [
              "\n",
              "  <div id=\"df-5a8ff824-01d5-44c3-b3d2-4e6a68c1ef67\">\n",
              "    <div class=\"colab-df-container\">\n",
              "      <div>\n",
              "<style scoped>\n",
              "    .dataframe tbody tr th:only-of-type {\n",
              "        vertical-align: middle;\n",
              "    }\n",
              "\n",
              "    .dataframe tbody tr th {\n",
              "        vertical-align: top;\n",
              "    }\n",
              "\n",
              "    .dataframe thead th {\n",
              "        text-align: right;\n",
              "    }\n",
              "</style>\n",
              "<table border=\"1\" class=\"dataframe\">\n",
              "  <thead>\n",
              "    <tr style=\"text-align: right;\">\n",
              "      <th></th>\n",
              "      <th>post_id</th>\n",
              "      <th>number_of_rai</th>\n",
              "      <th>number_of_ngan</th>\n",
              "      <th>number_of_va</th>\n",
              "      <th>number_of_story</th>\n",
              "      <th>number_of_bedroom</th>\n",
              "      <th>number_of_bathroom</th>\n",
              "      <th>direction</th>\n",
              "      <th>furniture</th>\n",
              "      <th>usable_area</th>\n",
              "      <th>...</th>\n",
              "      <th>d21250-7/11</th>\n",
              "      <th>d1500-7/11</th>\n",
              "      <th>zone_1</th>\n",
              "      <th>zone_กลางเมือง-เมืองเก่า-กุดกว้าง</th>\n",
              "      <th>zone_ทุ่งสร้าง-ศรีจันทร์-ราชมงคล</th>\n",
              "      <th>zone_ม.ภาค-บ้านกอก-บึงหนองโคตร</th>\n",
              "      <th>zone_สามเหลี่ยม-กังสดาล-ม.ขอนแก่น</th>\n",
              "      <th>zone_เหล่านาดี-บ้านสะอาด-บ้านโจด</th>\n",
              "      <th>zone_โนนทัน-บึงแก่นนคร</th>\n",
              "      <th>zone_ในเมือง-รื่นรมย์-เทพารักษ์</th>\n",
              "    </tr>\n",
              "  </thead>\n",
              "  <tbody>\n",
              "    <tr>\n",
              "      <th>0</th>\n",
              "      <td>1.0</td>\n",
              "      <td>1.0</td>\n",
              "      <td>1.0</td>\n",
              "      <td>1.0</td>\n",
              "      <td>1.0</td>\n",
              "      <td>1.0</td>\n",
              "      <td>1.0</td>\n",
              "      <td>1.0</td>\n",
              "      <td>1.0</td>\n",
              "      <td>1.0</td>\n",
              "      <td>...</td>\n",
              "      <td>1</td>\n",
              "      <td>1</td>\n",
              "      <td>1</td>\n",
              "      <td>0</td>\n",
              "      <td>0</td>\n",
              "      <td>0</td>\n",
              "      <td>0</td>\n",
              "      <td>0</td>\n",
              "      <td>0</td>\n",
              "      <td>0</td>\n",
              "    </tr>\n",
              "    <tr>\n",
              "      <th>1</th>\n",
              "      <td>1.0</td>\n",
              "      <td>1.0</td>\n",
              "      <td>1.0</td>\n",
              "      <td>1.0</td>\n",
              "      <td>1.0</td>\n",
              "      <td>1.0</td>\n",
              "      <td>1.0</td>\n",
              "      <td>1.0</td>\n",
              "      <td>1.0</td>\n",
              "      <td>1.0</td>\n",
              "      <td>...</td>\n",
              "      <td>1</td>\n",
              "      <td>1</td>\n",
              "      <td>1</td>\n",
              "      <td>0</td>\n",
              "      <td>0</td>\n",
              "      <td>0</td>\n",
              "      <td>0</td>\n",
              "      <td>0</td>\n",
              "      <td>0</td>\n",
              "      <td>0</td>\n",
              "    </tr>\n",
              "    <tr>\n",
              "      <th>2</th>\n",
              "      <td>495.0</td>\n",
              "      <td>NaN</td>\n",
              "      <td>3.0</td>\n",
              "      <td>12.8</td>\n",
              "      <td>NaN</td>\n",
              "      <td>0.0</td>\n",
              "      <td>NaN</td>\n",
              "      <td>0.0</td>\n",
              "      <td>0.0</td>\n",
              "      <td>0.0</td>\n",
              "      <td>...</td>\n",
              "      <td>2</td>\n",
              "      <td>3</td>\n",
              "      <td>0</td>\n",
              "      <td>0</td>\n",
              "      <td>0</td>\n",
              "      <td>0</td>\n",
              "      <td>0</td>\n",
              "      <td>0</td>\n",
              "      <td>1</td>\n",
              "      <td>0</td>\n",
              "    </tr>\n",
              "    <tr>\n",
              "      <th>3</th>\n",
              "      <td>1.0</td>\n",
              "      <td>1.0</td>\n",
              "      <td>1.0</td>\n",
              "      <td>1.0</td>\n",
              "      <td>1.0</td>\n",
              "      <td>1.0</td>\n",
              "      <td>1.0</td>\n",
              "      <td>1.0</td>\n",
              "      <td>1.0</td>\n",
              "      <td>1.0</td>\n",
              "      <td>...</td>\n",
              "      <td>1</td>\n",
              "      <td>1</td>\n",
              "      <td>1</td>\n",
              "      <td>0</td>\n",
              "      <td>0</td>\n",
              "      <td>0</td>\n",
              "      <td>0</td>\n",
              "      <td>0</td>\n",
              "      <td>0</td>\n",
              "      <td>0</td>\n",
              "    </tr>\n",
              "    <tr>\n",
              "      <th>4</th>\n",
              "      <td>1.0</td>\n",
              "      <td>1.0</td>\n",
              "      <td>1.0</td>\n",
              "      <td>1.0</td>\n",
              "      <td>1.0</td>\n",
              "      <td>1.0</td>\n",
              "      <td>1.0</td>\n",
              "      <td>1.0</td>\n",
              "      <td>1.0</td>\n",
              "      <td>1.0</td>\n",
              "      <td>...</td>\n",
              "      <td>1</td>\n",
              "      <td>1</td>\n",
              "      <td>1</td>\n",
              "      <td>0</td>\n",
              "      <td>0</td>\n",
              "      <td>0</td>\n",
              "      <td>0</td>\n",
              "      <td>0</td>\n",
              "      <td>0</td>\n",
              "      <td>0</td>\n",
              "    </tr>\n",
              "    <tr>\n",
              "      <th>...</th>\n",
              "      <td>...</td>\n",
              "      <td>...</td>\n",
              "      <td>...</td>\n",
              "      <td>...</td>\n",
              "      <td>...</td>\n",
              "      <td>...</td>\n",
              "      <td>...</td>\n",
              "      <td>...</td>\n",
              "      <td>...</td>\n",
              "      <td>...</td>\n",
              "      <td>...</td>\n",
              "      <td>...</td>\n",
              "      <td>...</td>\n",
              "      <td>...</td>\n",
              "      <td>...</td>\n",
              "      <td>...</td>\n",
              "      <td>...</td>\n",
              "      <td>...</td>\n",
              "      <td>...</td>\n",
              "      <td>...</td>\n",
              "      <td>...</td>\n",
              "    </tr>\n",
              "    <tr>\n",
              "      <th>95</th>\n",
              "      <td>19495.0</td>\n",
              "      <td>0.0</td>\n",
              "      <td>1.0</td>\n",
              "      <td>76.2</td>\n",
              "      <td>2.0</td>\n",
              "      <td>0.0</td>\n",
              "      <td>0.0</td>\n",
              "      <td>0.0</td>\n",
              "      <td>0.0</td>\n",
              "      <td>193.0</td>\n",
              "      <td>...</td>\n",
              "      <td>10</td>\n",
              "      <td>14</td>\n",
              "      <td>0</td>\n",
              "      <td>0</td>\n",
              "      <td>0</td>\n",
              "      <td>0</td>\n",
              "      <td>1</td>\n",
              "      <td>0</td>\n",
              "      <td>0</td>\n",
              "      <td>0</td>\n",
              "    </tr>\n",
              "    <tr>\n",
              "      <th>96</th>\n",
              "      <td>19496.0</td>\n",
              "      <td>0.0</td>\n",
              "      <td>2.0</td>\n",
              "      <td>56.8</td>\n",
              "      <td>1.0</td>\n",
              "      <td>0.0</td>\n",
              "      <td>0.0</td>\n",
              "      <td>0.0</td>\n",
              "      <td>0.0</td>\n",
              "      <td>0.0</td>\n",
              "      <td>...</td>\n",
              "      <td>4</td>\n",
              "      <td>9</td>\n",
              "      <td>0</td>\n",
              "      <td>0</td>\n",
              "      <td>0</td>\n",
              "      <td>0</td>\n",
              "      <td>0</td>\n",
              "      <td>0</td>\n",
              "      <td>1</td>\n",
              "      <td>0</td>\n",
              "    </tr>\n",
              "    <tr>\n",
              "      <th>97</th>\n",
              "      <td>1.0</td>\n",
              "      <td>1.0</td>\n",
              "      <td>1.0</td>\n",
              "      <td>1.0</td>\n",
              "      <td>1.0</td>\n",
              "      <td>1.0</td>\n",
              "      <td>1.0</td>\n",
              "      <td>1.0</td>\n",
              "      <td>1.0</td>\n",
              "      <td>1.0</td>\n",
              "      <td>...</td>\n",
              "      <td>1</td>\n",
              "      <td>1</td>\n",
              "      <td>1</td>\n",
              "      <td>0</td>\n",
              "      <td>0</td>\n",
              "      <td>0</td>\n",
              "      <td>0</td>\n",
              "      <td>0</td>\n",
              "      <td>0</td>\n",
              "      <td>0</td>\n",
              "    </tr>\n",
              "    <tr>\n",
              "      <th>98</th>\n",
              "      <td>1.0</td>\n",
              "      <td>1.0</td>\n",
              "      <td>1.0</td>\n",
              "      <td>1.0</td>\n",
              "      <td>1.0</td>\n",
              "      <td>1.0</td>\n",
              "      <td>1.0</td>\n",
              "      <td>1.0</td>\n",
              "      <td>1.0</td>\n",
              "      <td>1.0</td>\n",
              "      <td>...</td>\n",
              "      <td>1</td>\n",
              "      <td>1</td>\n",
              "      <td>1</td>\n",
              "      <td>0</td>\n",
              "      <td>0</td>\n",
              "      <td>0</td>\n",
              "      <td>0</td>\n",
              "      <td>0</td>\n",
              "      <td>0</td>\n",
              "      <td>0</td>\n",
              "    </tr>\n",
              "    <tr>\n",
              "      <th>99</th>\n",
              "      <td>1.0</td>\n",
              "      <td>1.0</td>\n",
              "      <td>1.0</td>\n",
              "      <td>1.0</td>\n",
              "      <td>1.0</td>\n",
              "      <td>1.0</td>\n",
              "      <td>1.0</td>\n",
              "      <td>1.0</td>\n",
              "      <td>1.0</td>\n",
              "      <td>1.0</td>\n",
              "      <td>...</td>\n",
              "      <td>1</td>\n",
              "      <td>1</td>\n",
              "      <td>1</td>\n",
              "      <td>0</td>\n",
              "      <td>0</td>\n",
              "      <td>0</td>\n",
              "      <td>0</td>\n",
              "      <td>0</td>\n",
              "      <td>0</td>\n",
              "      <td>0</td>\n",
              "    </tr>\n",
              "  </tbody>\n",
              "</table>\n",
              "<p>100 rows × 29 columns</p>\n",
              "</div>\n",
              "      <button class=\"colab-df-convert\" onclick=\"convertToInteractive('df-5a8ff824-01d5-44c3-b3d2-4e6a68c1ef67')\"\n",
              "              title=\"Convert this dataframe to an interactive table.\"\n",
              "              style=\"display:none;\">\n",
              "        \n",
              "  <svg xmlns=\"http://www.w3.org/2000/svg\" height=\"24px\"viewBox=\"0 0 24 24\"\n",
              "       width=\"24px\">\n",
              "    <path d=\"M0 0h24v24H0V0z\" fill=\"none\"/>\n",
              "    <path d=\"M18.56 5.44l.94 2.06.94-2.06 2.06-.94-2.06-.94-.94-2.06-.94 2.06-2.06.94zm-11 1L8.5 8.5l.94-2.06 2.06-.94-2.06-.94L8.5 2.5l-.94 2.06-2.06.94zm10 10l.94 2.06.94-2.06 2.06-.94-2.06-.94-.94-2.06-.94 2.06-2.06.94z\"/><path d=\"M17.41 7.96l-1.37-1.37c-.4-.4-.92-.59-1.43-.59-.52 0-1.04.2-1.43.59L10.3 9.45l-7.72 7.72c-.78.78-.78 2.05 0 2.83L4 21.41c.39.39.9.59 1.41.59.51 0 1.02-.2 1.41-.59l7.78-7.78 2.81-2.81c.8-.78.8-2.07 0-2.86zM5.41 20L4 18.59l7.72-7.72 1.47 1.35L5.41 20z\"/>\n",
              "  </svg>\n",
              "      </button>\n",
              "      \n",
              "  <style>\n",
              "    .colab-df-container {\n",
              "      display:flex;\n",
              "      flex-wrap:wrap;\n",
              "      gap: 12px;\n",
              "    }\n",
              "\n",
              "    .colab-df-convert {\n",
              "      background-color: #E8F0FE;\n",
              "      border: none;\n",
              "      border-radius: 50%;\n",
              "      cursor: pointer;\n",
              "      display: none;\n",
              "      fill: #1967D2;\n",
              "      height: 32px;\n",
              "      padding: 0 0 0 0;\n",
              "      width: 32px;\n",
              "    }\n",
              "\n",
              "    .colab-df-convert:hover {\n",
              "      background-color: #E2EBFA;\n",
              "      box-shadow: 0px 1px 2px rgba(60, 64, 67, 0.3), 0px 1px 3px 1px rgba(60, 64, 67, 0.15);\n",
              "      fill: #174EA6;\n",
              "    }\n",
              "\n",
              "    [theme=dark] .colab-df-convert {\n",
              "      background-color: #3B4455;\n",
              "      fill: #D2E3FC;\n",
              "    }\n",
              "\n",
              "    [theme=dark] .colab-df-convert:hover {\n",
              "      background-color: #434B5C;\n",
              "      box-shadow: 0px 1px 3px 1px rgba(0, 0, 0, 0.15);\n",
              "      filter: drop-shadow(0px 1px 2px rgba(0, 0, 0, 0.3));\n",
              "      fill: #FFFFFF;\n",
              "    }\n",
              "  </style>\n",
              "\n",
              "      <script>\n",
              "        const buttonEl =\n",
              "          document.querySelector('#df-5a8ff824-01d5-44c3-b3d2-4e6a68c1ef67 button.colab-df-convert');\n",
              "        buttonEl.style.display =\n",
              "          google.colab.kernel.accessAllowed ? 'block' : 'none';\n",
              "\n",
              "        async function convertToInteractive(key) {\n",
              "          const element = document.querySelector('#df-5a8ff824-01d5-44c3-b3d2-4e6a68c1ef67');\n",
              "          const dataTable =\n",
              "            await google.colab.kernel.invokeFunction('convertToInteractive',\n",
              "                                                     [key], {});\n",
              "          if (!dataTable) return;\n",
              "\n",
              "          const docLinkHtml = 'Like what you see? Visit the ' +\n",
              "            '<a target=\"_blank\" href=https://colab.research.google.com/notebooks/data_table.ipynb>data table notebook</a>'\n",
              "            + ' to learn more about interactive tables.';\n",
              "          element.innerHTML = '';\n",
              "          dataTable['output_type'] = 'display_data';\n",
              "          await google.colab.output.renderOutput(dataTable, element);\n",
              "          const docLink = document.createElement('div');\n",
              "          docLink.innerHTML = docLinkHtml;\n",
              "          element.appendChild(docLink);\n",
              "        }\n",
              "      </script>\n",
              "    </div>\n",
              "  </div>\n",
              "  "
            ]
          },
          "metadata": {},
          "execution_count": 96
        }
      ]
    }
  ]
}