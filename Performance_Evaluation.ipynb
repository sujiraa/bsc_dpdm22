{
  "nbformat": 4,
  "nbformat_minor": 0,
  "metadata": {
    "colab": {
      "provenance": [],
      "authorship_tag": "ABX9TyOUzaQ1L+HgPeKWHo2ZQ8H0",
      "include_colab_link": true
    },
    "kernelspec": {
      "name": "python3",
      "display_name": "Python 3"
    },
    "language_info": {
      "name": "python"
    }
  },
  "cells": [
    {
      "cell_type": "markdown",
      "metadata": {
        "id": "view-in-github",
        "colab_type": "text"
      },
      "source": [
        "<a href=\"https://colab.research.google.com/github/sujiraa/bsc_dpdm22/blob/main/Performance_Evaluation.ipynb\" target=\"_parent\"><img src=\"https://colab.research.google.com/assets/colab-badge.svg\" alt=\"Open In Colab\"/></a>"
      ]
    },
    {
      "cell_type": "code",
      "execution_count": 1,
      "metadata": {
        "id": "6E4EeYH_AoJJ"
      },
      "outputs": [],
      "source": [
        "from sklearn import datasets\n",
        "iris_data = datasets.load_iris()"
      ]
    },
    {
      "cell_type": "code",
      "source": [
        "x = iris_data['data']\n",
        "y = iris_data['target']"
      ],
      "metadata": {
        "id": "okP-l4ZWBIGD"
      },
      "execution_count": 2,
      "outputs": []
    },
    {
      "cell_type": "code",
      "source": [
        "from sklearn.model_selection import LeaveOneOut"
      ],
      "metadata": {
        "id": "lW8eZ8AKEQxV"
      },
      "execution_count": 4,
      "outputs": []
    },
    {
      "cell_type": "code",
      "source": [
        "x"
      ],
      "metadata": {
        "id": "-ftSILa3GkKY"
      },
      "execution_count": null,
      "outputs": []
    },
    {
      "cell_type": "code",
      "source": [
        "import pandas as pd"
      ],
      "metadata": {
        "id": "o6YDFwq_Gshq"
      },
      "execution_count": 8,
      "outputs": []
    },
    {
      "cell_type": "code",
      "source": [
        "columns = iris_data['feature_names']\n"
      ],
      "metadata": {
        "id": "RhZ4Z3SNHvl8"
      },
      "execution_count": null,
      "outputs": []
    }
  ]
}