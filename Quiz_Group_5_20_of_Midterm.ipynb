{
  "nbformat": 4,
  "nbformat_minor": 0,
  "metadata": {
    "colab": {
      "provenance": [],
      "collapsed_sections": [
        "yZ6TkaPCxYZh",
        "gsIvlF4miUc5",
        "E-Y1k0B0yqCv",
        "t-Cd0EYtzm1t",
        "_BXJF4u50NiT",
        "cMiaLala1dA7",
        "eoRW5Lmg2CKx"
      ],
      "include_colab_link": true
    },
    "kernelspec": {
      "name": "python3",
      "display_name": "Python 3"
    },
    "language_info": {
      "name": "python"
    }
  },
  "cells": [
    {
      "cell_type": "markdown",
      "metadata": {
        "id": "view-in-github",
        "colab_type": "text"
      },
      "source": [
        "<a href=\"https://colab.research.google.com/github/sujiraa/bsc_dpdm22/blob/main/Quiz_Group_5_20_of_Midterm.ipynb\" target=\"_parent\"><img src=\"https://colab.research.google.com/assets/colab-badge.svg\" alt=\"Open In Colab\"/></a>"
      ]
    },
    {
      "cell_type": "code",
      "source": [
        "import pandas as pd"
      ],
      "metadata": {
        "id": "tHv9mTsUuBaG"
      },
      "execution_count": 123,
      "outputs": []
    },
    {
      "cell_type": "code",
      "execution_count": 124,
      "metadata": {
        "colab": {
          "base_uri": "https://localhost:8080/"
        },
        "id": "QTyD0HU0quCy",
        "outputId": "d684518a-49f8-4343-8edd-809f743b8160"
      },
      "outputs": [
        {
          "output_type": "stream",
          "name": "stdout",
          "text": [
            "Drive already mounted at /content/drive; to attempt to forcibly remount, call drive.mount(\"/content/drive\", force_remount=True).\n"
          ]
        }
      ],
      "source": [
        "from google.colab import drive\n",
        "drive.mount('/content/drive')"
      ]
    },
    {
      "cell_type": "markdown",
      "source": [
        "จังหวัดขอนแก่น\n",
        "- ดึงแต่ละเป็นที่เป็นของจังหวัดขอนแก่นมาก่อนเพื่อดูว่าสามารถทำอะไรได้บ้าง\n",
        "- วนลูป ให้ปริ๊นแต่ละค่ามาดูก่อน แล้วค่อยใส่คอลัมน์\n",
        "\n"
      ],
      "metadata": {
        "id": "Ek1XttOXuN7y"
      }
    },
    {
      "cell_type": "markdown",
      "source": [
        "##ความเร็ว"
      ],
      "metadata": {
        "id": "80YhzAxvxFT1"
      }
    },
    {
      "cell_type": "markdown",
      "source": [
        "###ความเร็วลม\n"
      ],
      "metadata": {
        "id": "ZdG5xbl6yoH_"
      }
    },
    {
      "cell_type": "code",
      "source": [
        "kkc = pd.read_excel('/content/drive/MyDrive/data/อุตุ/ความเร็วลม/Copy of จ.ขอนแก่น.xlsx',sheet_name='Sheet1',skiprows=3)\n",
        "snkpn = pd.read_excel('/content/drive/MyDrive/data/อุตุ/ความเร็วลม/Copy of จ.นครพนม.xlsx',sheet_name='Sheet1',skiprows=3)\n",
        "sl = pd.read_excel('/content/drive/MyDrive/data/อุตุ/ความเร็วลม/Copy of จ.เลย.xlsx',sheet_name='Sheet1',skiprows=3)\n",
        "ssk = pd.read_excel('/content/drive/MyDrive/data/อุตุ/ความเร็วลม/Copy of จ.สกลนคร.xlsx',sheet_name='Sheet1',skiprows=3)\n",
        "snk = pd.read_excel('/content/drive/MyDrive/data/อุตุ/ความเร็วลม/Copy of จ.หนองคาย.xlsx',sheet_name='Sheet1',skiprows=3)\n",
        "\n",
        "kkc['จังหวัด'] = 'ขอนแก่น' #เพิ่มคอลัมน์จังหวัด\n",
        "snkpn['จังหวัด'] = 'นครพนม'\n",
        "sl['จังหวัด'] = 'สกลนคร'\n",
        "ssk['จังหวัด'] = 'หนองคาย'\n",
        "snk['จังหวัด'] = 'เลย'"
      ],
      "metadata": {
        "id": "WP3I-G-JtwLT"
      },
      "execution_count": 125,
      "outputs": []
    },
    {
      "cell_type": "code",
      "source": [
        "kkc.columns"
      ],
      "metadata": {
        "colab": {
          "base_uri": "https://localhost:8080/"
        },
        "id": "5znZCt0ulDiA",
        "outputId": "3a7ea435-dfaa-4897-ebcb-d11b97ae1ef1"
      },
      "execution_count": 126,
      "outputs": [
        {
          "output_type": "execute_result",
          "data": {
            "text/plain": [
              "Index(['ที่', 'สถานี', 'เดือน/ปี', 'วันที่', 'Unnamed: 4', 'Unnamed: 5',\n",
              "       'Unnamed: 6', 'Unnamed: 7', 'Unnamed: 8', 'Unnamed: 9', 'Unnamed: 10',\n",
              "       'Unnamed: 11', 'Unnamed: 12', 'Unnamed: 13', 'Unnamed: 14',\n",
              "       'Unnamed: 15', 'Unnamed: 16', 'Unnamed: 17', 'Unnamed: 18',\n",
              "       'Unnamed: 19', 'Unnamed: 20', 'Unnamed: 21', 'Unnamed: 22',\n",
              "       'Unnamed: 23', 'Unnamed: 24', 'Unnamed: 25', 'Unnamed: 26',\n",
              "       'Unnamed: 27', 'Unnamed: 28', 'Unnamed: 29', 'Unnamed: 30',\n",
              "       'Unnamed: 31', 'Unnamed: 32', 'Unnamed: 33', 'เฉลี่ย', 'จังหวัด'],\n",
              "      dtype='object')"
            ]
          },
          "metadata": {},
          "execution_count": 126
        }
      ]
    },
    {
      "cell_type": "code",
      "source": [
        "kkc = kkc.rename(columns={ 'วันที่':'1','Unnamed: 4':'2', 'Unnamed: 5':'3',\n",
        "       'Unnamed: 6':'4', 'Unnamed: 7':'5', 'Unnamed: 8':'6', 'Unnamed: 9':'7', 'Unnamed: 10':'8',\n",
        "       'Unnamed: 11':'9', 'Unnamed: 12':'10', 'Unnamed: 13':'11', 'Unnamed: 14':'12',\n",
        "       'Unnamed: 15':'13', 'Unnamed: 16':'14', 'Unnamed: 17':'15', 'Unnamed: 18':\"16\",\n",
        "       'Unnamed: 19':'17', 'Unnamed: 20':'18', 'Unnamed: 21':'19', 'Unnamed: 22':'20',\n",
        "       'Unnamed: 23':'21', 'Unnamed: 24':'22', 'Unnamed: 25':'23', 'Unnamed: 26':'24',\n",
        "       'Unnamed: 27':'25', 'Unnamed: 28':'26', 'Unnamed: 29':'27', 'Unnamed: 30':'28',\n",
        "       'Unnamed: 31':'29', 'Unnamed: 32':'30', 'Unnamed: 33':'31'})\n",
        "kkc = kkc.iloc[1:]\n",
        "snkpn = snkpn.rename(columns={ 'วันที่':'1','Unnamed: 4':'2', 'Unnamed: 5':'3',\n",
        "       'Unnamed: 6':'4', 'Unnamed: 7':'5', 'Unnamed: 8':'6', 'Unnamed: 9':'7', 'Unnamed: 10':'8',\n",
        "       'Unnamed: 11':'9', 'Unnamed: 12':'10', 'Unnamed: 13':'11', 'Unnamed: 14':'12',\n",
        "       'Unnamed: 15':'13', 'Unnamed: 16':'14', 'Unnamed: 17':'15', 'Unnamed: 18':\"16\",\n",
        "       'Unnamed: 19':'17', 'Unnamed: 20':'18', 'Unnamed: 21':'19', 'Unnamed: 22':'20',\n",
        "       'Unnamed: 23':'21', 'Unnamed: 24':'22', 'Unnamed: 25':'23', 'Unnamed: 26':'24',\n",
        "       'Unnamed: 27':'25', 'Unnamed: 28':'26', 'Unnamed: 29':'27', 'Unnamed: 30':'28',\n",
        "       'Unnamed: 31':'29', 'Unnamed: 32':'30', 'Unnamed: 33':'31'})\n",
        "snkpn = snkpn.iloc[1:]\n",
        "sl = sl.rename(columns={ 'วันที่':'1','Unnamed: 4':'2', 'Unnamed: 5':'3',\n",
        "       'Unnamed: 6':'4', 'Unnamed: 7':'5', 'Unnamed: 8':'6', 'Unnamed: 9':'7', 'Unnamed: 10':'8',\n",
        "       'Unnamed: 11':'9', 'Unnamed: 12':'10', 'Unnamed: 13':'11', 'Unnamed: 14':'12',\n",
        "       'Unnamed: 15':'13', 'Unnamed: 16':'14', 'Unnamed: 17':'15', 'Unnamed: 18':\"16\",\n",
        "       'Unnamed: 19':'17', 'Unnamed: 20':'18', 'Unnamed: 21':'19', 'Unnamed: 22':'20',\n",
        "       'Unnamed: 23':'21', 'Unnamed: 24':'22', 'Unnamed: 25':'23', 'Unnamed: 26':'24',\n",
        "       'Unnamed: 27':'25', 'Unnamed: 28':'26', 'Unnamed: 29':'27', 'Unnamed: 30':'28',\n",
        "       'Unnamed: 31':'29', 'Unnamed: 32':'30', 'Unnamed: 33':'31'})\n",
        "sl = sl.iloc[1:]\n",
        "ssk = ssk.rename(columns={ 'วันที่':'1','Unnamed: 4':'2', 'Unnamed: 5':'3',\n",
        "       'Unnamed: 6':'4', 'Unnamed: 7':'5', 'Unnamed: 8':'6', 'Unnamed: 9':'7', 'Unnamed: 10':'8',\n",
        "       'Unnamed: 11':'9', 'Unnamed: 12':'10', 'Unnamed: 13':'11', 'Unnamed: 14':'12',\n",
        "       'Unnamed: 15':'13', 'Unnamed: 16':'14', 'Unnamed: 17':'15', 'Unnamed: 18':\"16\",\n",
        "       'Unnamed: 19':'17', 'Unnamed: 20':'18', 'Unnamed: 21':'19', 'Unnamed: 22':'20',\n",
        "       'Unnamed: 23':'21', 'Unnamed: 24':'22', 'Unnamed: 25':'23', 'Unnamed: 26':'24',\n",
        "       'Unnamed: 27':'25', 'Unnamed: 28':'26', 'Unnamed: 29':'27', 'Unnamed: 30':'28',\n",
        "       'Unnamed: 31':'29', 'Unnamed: 32':'30', 'Unnamed: 33':'31'})\n",
        "ssk = ssk.iloc[1:]\n",
        "snk = snk.rename(columns={ 'วันที่':'1','Unnamed: 4':'2', 'Unnamed: 5':'3',\n",
        "       'Unnamed: 6':'4', 'Unnamed: 7':'5', 'Unnamed: 8':'6', 'Unnamed: 9':'7', 'Unnamed: 10':'8',\n",
        "       'Unnamed: 11':'9', 'Unnamed: 12':'10', 'Unnamed: 13':'11', 'Unnamed: 14':'12',\n",
        "       'Unnamed: 15':'13', 'Unnamed: 16':'14', 'Unnamed: 17':'15', 'Unnamed: 18':\"16\",\n",
        "       'Unnamed: 19':'17', 'Unnamed: 20':'18', 'Unnamed: 21':'19', 'Unnamed: 22':'20',\n",
        "       'Unnamed: 23':'21', 'Unnamed: 24':'22', 'Unnamed: 25':'23', 'Unnamed: 26':'24',\n",
        "       'Unnamed: 27':'25', 'Unnamed: 28':'26', 'Unnamed: 29':'27', 'Unnamed: 30':'28',\n",
        "       'Unnamed: 31':'29', 'Unnamed: 32':'30', 'Unnamed: 33':'31'})\n",
        "snk = snk.iloc[1:]"
      ],
      "metadata": {
        "id": "nIXFb03CydV6"
      },
      "execution_count": 127,
      "outputs": []
    },
    {
      "cell_type": "markdown",
      "source": [
        "###Concat df"
      ],
      "metadata": {
        "id": "K766uEV8yWIh"
      }
    },
    {
      "cell_type": "code",
      "source": [
        "Speed = pd.concat([kkc,snkpn,snkpn,sl,snk])\n",
        "Speed.shape"
      ],
      "metadata": {
        "colab": {
          "base_uri": "https://localhost:8080/"
        },
        "id": "ReQQ-CQWyyPg",
        "outputId": "1425ffc4-51a3-44ae-c364-e36b84f5b87a"
      },
      "execution_count": 128,
      "outputs": [
        {
          "output_type": "execute_result",
          "data": {
            "text/plain": [
              "(275, 36)"
            ]
          },
          "metadata": {},
          "execution_count": 128
        }
      ]
    },
    {
      "cell_type": "markdown",
      "source": [
        "### ดึงเดือน กับ ปี แยกคอลัมน์"
      ],
      "metadata": {
        "id": "47QFurLHiAMY"
      }
    },
    {
      "cell_type": "code",
      "source": [
        "Speed['เดือน'] = Speed['เดือน/ปี'].dt.month\n",
        "Speed['ปี'] = Speed['เดือน/ปี'].dt.year\n",
        "del Speed['เดือน/ปี']\n",
        "Speed.head()"
      ],
      "metadata": {
        "colab": {
          "base_uri": "https://localhost:8080/",
          "height": 235
        },
        "id": "A2nTXX7FyATp",
        "outputId": "62988237-c329-4ac0-bc04-32c701910219"
      },
      "execution_count": 129,
      "outputs": [
        {
          "output_type": "execute_result",
          "data": {
            "text/plain": [
              "   ที่                  สถานี  1  2  3  4  5  6  7  8  ...  26 27 28 29  30  \\\n",
              "1  1    353301-เลย สกษ. จ.เลย  3  2  3  2  2  3  4  3  ...   5  5  4  6   4   \n",
              "2  2    353301-เลย สกษ. จ.เลย  4  5  3  3  5  2  3  3  ...   5  3  1  3   3   \n",
              "3  3    353301-เลย สกษ. จ.เลย  3  4  4  4  4  4  4  4  ...   6  5  4  4   6   \n",
              "4  1    353301-เลย สกษ. จ.เลย  4  2  1  4  4  2  4  6  ...   2  2  1  3   4   \n",
              "5  2    353301-เลย สกษ. จ.เลย  2  2  3  2  3  1  2  3  ...   2  4  3  3   3   \n",
              "\n",
              "   31    เฉลี่ย  จังหวัด  เดือน    ปี  \n",
              "1   5  3.354839  ขอนแก่น     10  2011  \n",
              "2   -  3.466667  ขอนแก่น     11  2011  \n",
              "3   5  4.806452  ขอนแก่น     12  2011  \n",
              "4   4  3.129032  ขอนแก่น      1  2012  \n",
              "5   -  2.566667  ขอนแก่น      2  2012  \n",
              "\n",
              "[5 rows x 37 columns]"
            ],
            "text/html": [
              "\n",
              "  <div id=\"df-164bc41b-76be-486e-b230-c5df3420e8a5\">\n",
              "    <div class=\"colab-df-container\">\n",
              "      <div>\n",
              "<style scoped>\n",
              "    .dataframe tbody tr th:only-of-type {\n",
              "        vertical-align: middle;\n",
              "    }\n",
              "\n",
              "    .dataframe tbody tr th {\n",
              "        vertical-align: top;\n",
              "    }\n",
              "\n",
              "    .dataframe thead th {\n",
              "        text-align: right;\n",
              "    }\n",
              "</style>\n",
              "<table border=\"1\" class=\"dataframe\">\n",
              "  <thead>\n",
              "    <tr style=\"text-align: right;\">\n",
              "      <th></th>\n",
              "      <th>ที่</th>\n",
              "      <th>สถานี</th>\n",
              "      <th>1</th>\n",
              "      <th>2</th>\n",
              "      <th>3</th>\n",
              "      <th>4</th>\n",
              "      <th>5</th>\n",
              "      <th>6</th>\n",
              "      <th>7</th>\n",
              "      <th>8</th>\n",
              "      <th>...</th>\n",
              "      <th>26</th>\n",
              "      <th>27</th>\n",
              "      <th>28</th>\n",
              "      <th>29</th>\n",
              "      <th>30</th>\n",
              "      <th>31</th>\n",
              "      <th>เฉลี่ย</th>\n",
              "      <th>จังหวัด</th>\n",
              "      <th>เดือน</th>\n",
              "      <th>ปี</th>\n",
              "    </tr>\n",
              "  </thead>\n",
              "  <tbody>\n",
              "    <tr>\n",
              "      <th>1</th>\n",
              "      <td>1</td>\n",
              "      <td>353301-เลย สกษ. จ.เลย</td>\n",
              "      <td>3</td>\n",
              "      <td>2</td>\n",
              "      <td>3</td>\n",
              "      <td>2</td>\n",
              "      <td>2</td>\n",
              "      <td>3</td>\n",
              "      <td>4</td>\n",
              "      <td>3</td>\n",
              "      <td>...</td>\n",
              "      <td>5</td>\n",
              "      <td>5</td>\n",
              "      <td>4</td>\n",
              "      <td>6</td>\n",
              "      <td>4</td>\n",
              "      <td>5</td>\n",
              "      <td>3.354839</td>\n",
              "      <td>ขอนแก่น</td>\n",
              "      <td>10</td>\n",
              "      <td>2011</td>\n",
              "    </tr>\n",
              "    <tr>\n",
              "      <th>2</th>\n",
              "      <td>2</td>\n",
              "      <td>353301-เลย สกษ. จ.เลย</td>\n",
              "      <td>4</td>\n",
              "      <td>5</td>\n",
              "      <td>3</td>\n",
              "      <td>3</td>\n",
              "      <td>5</td>\n",
              "      <td>2</td>\n",
              "      <td>3</td>\n",
              "      <td>3</td>\n",
              "      <td>...</td>\n",
              "      <td>5</td>\n",
              "      <td>3</td>\n",
              "      <td>1</td>\n",
              "      <td>3</td>\n",
              "      <td>3</td>\n",
              "      <td>-</td>\n",
              "      <td>3.466667</td>\n",
              "      <td>ขอนแก่น</td>\n",
              "      <td>11</td>\n",
              "      <td>2011</td>\n",
              "    </tr>\n",
              "    <tr>\n",
              "      <th>3</th>\n",
              "      <td>3</td>\n",
              "      <td>353301-เลย สกษ. จ.เลย</td>\n",
              "      <td>3</td>\n",
              "      <td>4</td>\n",
              "      <td>4</td>\n",
              "      <td>4</td>\n",
              "      <td>4</td>\n",
              "      <td>4</td>\n",
              "      <td>4</td>\n",
              "      <td>4</td>\n",
              "      <td>...</td>\n",
              "      <td>6</td>\n",
              "      <td>5</td>\n",
              "      <td>4</td>\n",
              "      <td>4</td>\n",
              "      <td>6</td>\n",
              "      <td>5</td>\n",
              "      <td>4.806452</td>\n",
              "      <td>ขอนแก่น</td>\n",
              "      <td>12</td>\n",
              "      <td>2011</td>\n",
              "    </tr>\n",
              "    <tr>\n",
              "      <th>4</th>\n",
              "      <td>1</td>\n",
              "      <td>353301-เลย สกษ. จ.เลย</td>\n",
              "      <td>4</td>\n",
              "      <td>2</td>\n",
              "      <td>1</td>\n",
              "      <td>4</td>\n",
              "      <td>4</td>\n",
              "      <td>2</td>\n",
              "      <td>4</td>\n",
              "      <td>6</td>\n",
              "      <td>...</td>\n",
              "      <td>2</td>\n",
              "      <td>2</td>\n",
              "      <td>1</td>\n",
              "      <td>3</td>\n",
              "      <td>4</td>\n",
              "      <td>4</td>\n",
              "      <td>3.129032</td>\n",
              "      <td>ขอนแก่น</td>\n",
              "      <td>1</td>\n",
              "      <td>2012</td>\n",
              "    </tr>\n",
              "    <tr>\n",
              "      <th>5</th>\n",
              "      <td>2</td>\n",
              "      <td>353301-เลย สกษ. จ.เลย</td>\n",
              "      <td>2</td>\n",
              "      <td>2</td>\n",
              "      <td>3</td>\n",
              "      <td>2</td>\n",
              "      <td>3</td>\n",
              "      <td>1</td>\n",
              "      <td>2</td>\n",
              "      <td>3</td>\n",
              "      <td>...</td>\n",
              "      <td>2</td>\n",
              "      <td>4</td>\n",
              "      <td>3</td>\n",
              "      <td>3</td>\n",
              "      <td>3</td>\n",
              "      <td>-</td>\n",
              "      <td>2.566667</td>\n",
              "      <td>ขอนแก่น</td>\n",
              "      <td>2</td>\n",
              "      <td>2012</td>\n",
              "    </tr>\n",
              "  </tbody>\n",
              "</table>\n",
              "<p>5 rows × 37 columns</p>\n",
              "</div>\n",
              "      <button class=\"colab-df-convert\" onclick=\"convertToInteractive('df-164bc41b-76be-486e-b230-c5df3420e8a5')\"\n",
              "              title=\"Convert this dataframe to an interactive table.\"\n",
              "              style=\"display:none;\">\n",
              "        \n",
              "  <svg xmlns=\"http://www.w3.org/2000/svg\" height=\"24px\"viewBox=\"0 0 24 24\"\n",
              "       width=\"24px\">\n",
              "    <path d=\"M0 0h24v24H0V0z\" fill=\"none\"/>\n",
              "    <path d=\"M18.56 5.44l.94 2.06.94-2.06 2.06-.94-2.06-.94-.94-2.06-.94 2.06-2.06.94zm-11 1L8.5 8.5l.94-2.06 2.06-.94-2.06-.94L8.5 2.5l-.94 2.06-2.06.94zm10 10l.94 2.06.94-2.06 2.06-.94-2.06-.94-.94-2.06-.94 2.06-2.06.94z\"/><path d=\"M17.41 7.96l-1.37-1.37c-.4-.4-.92-.59-1.43-.59-.52 0-1.04.2-1.43.59L10.3 9.45l-7.72 7.72c-.78.78-.78 2.05 0 2.83L4 21.41c.39.39.9.59 1.41.59.51 0 1.02-.2 1.41-.59l7.78-7.78 2.81-2.81c.8-.78.8-2.07 0-2.86zM5.41 20L4 18.59l7.72-7.72 1.47 1.35L5.41 20z\"/>\n",
              "  </svg>\n",
              "      </button>\n",
              "      \n",
              "  <style>\n",
              "    .colab-df-container {\n",
              "      display:flex;\n",
              "      flex-wrap:wrap;\n",
              "      gap: 12px;\n",
              "    }\n",
              "\n",
              "    .colab-df-convert {\n",
              "      background-color: #E8F0FE;\n",
              "      border: none;\n",
              "      border-radius: 50%;\n",
              "      cursor: pointer;\n",
              "      display: none;\n",
              "      fill: #1967D2;\n",
              "      height: 32px;\n",
              "      padding: 0 0 0 0;\n",
              "      width: 32px;\n",
              "    }\n",
              "\n",
              "    .colab-df-convert:hover {\n",
              "      background-color: #E2EBFA;\n",
              "      box-shadow: 0px 1px 2px rgba(60, 64, 67, 0.3), 0px 1px 3px 1px rgba(60, 64, 67, 0.15);\n",
              "      fill: #174EA6;\n",
              "    }\n",
              "\n",
              "    [theme=dark] .colab-df-convert {\n",
              "      background-color: #3B4455;\n",
              "      fill: #D2E3FC;\n",
              "    }\n",
              "\n",
              "    [theme=dark] .colab-df-convert:hover {\n",
              "      background-color: #434B5C;\n",
              "      box-shadow: 0px 1px 3px 1px rgba(0, 0, 0, 0.15);\n",
              "      filter: drop-shadow(0px 1px 2px rgba(0, 0, 0, 0.3));\n",
              "      fill: #FFFFFF;\n",
              "    }\n",
              "  </style>\n",
              "\n",
              "      <script>\n",
              "        const buttonEl =\n",
              "          document.querySelector('#df-164bc41b-76be-486e-b230-c5df3420e8a5 button.colab-df-convert');\n",
              "        buttonEl.style.display =\n",
              "          google.colab.kernel.accessAllowed ? 'block' : 'none';\n",
              "\n",
              "        async function convertToInteractive(key) {\n",
              "          const element = document.querySelector('#df-164bc41b-76be-486e-b230-c5df3420e8a5');\n",
              "          const dataTable =\n",
              "            await google.colab.kernel.invokeFunction('convertToInteractive',\n",
              "                                                     [key], {});\n",
              "          if (!dataTable) return;\n",
              "\n",
              "          const docLinkHtml = 'Like what you see? Visit the ' +\n",
              "            '<a target=\"_blank\" href=https://colab.research.google.com/notebooks/data_table.ipynb>data table notebook</a>'\n",
              "            + ' to learn more about interactive tables.';\n",
              "          element.innerHTML = '';\n",
              "          dataTable['output_type'] = 'display_data';\n",
              "          await google.colab.output.renderOutput(dataTable, element);\n",
              "          const docLink = document.createElement('div');\n",
              "          docLink.innerHTML = docLinkHtml;\n",
              "          element.appendChild(docLink);\n",
              "        }\n",
              "      </script>\n",
              "    </div>\n",
              "  </div>\n",
              "  "
            ]
          },
          "metadata": {},
          "execution_count": 129
        }
      ]
    },
    {
      "cell_type": "code",
      "source": [
        "Speed = Speed[['ที่', 'สถานี', '1', '2', '3', '4', '5', '6', '7', '8', '9',\n",
        "       '10', '11', '12', '13', '14', '15', '16', '17', '18', '19', '20', '21',\n",
        "       '22', '23', '24', '25', '26', '27', '28', '29', '30', '31',\n",
        "       'เดือน', 'ปี','จังหวัด']]#ตัดคอลัมเฉลี่ยออกแล้วก็ดึงคอลัมจังหวัดไว้ท้ายสุด"
      ],
      "metadata": {
        "id": "_AoRVFXBHrlD"
      },
      "execution_count": 130,
      "outputs": []
    },
    {
      "cell_type": "markdown",
      "source": [
        "### ทดลอง 1 จังหวัด"
      ],
      "metadata": {
        "id": "9Wx2ANhyMwZt"
      }
    },
    {
      "cell_type": "code",
      "source": [
        "#skkc = pd.read_excel('//content/drive/MyDrive/data/อุตุ/ความเร็วลม/Copy of จ.ขอนแก่น.xlsx',sheet_name='Sheet1',skiprows=3)"
      ],
      "metadata": {
        "id": "i2SndFxbMNoi"
      },
      "execution_count": 131,
      "outputs": []
    },
    {
      "cell_type": "code",
      "source": [
        "#skkc = skkc.rename(columns={ 'วันที่':'1','Unnamed: 4':'2', 'Unnamed: 5':'3',\n",
        "       #'Unnamed: 6':'4', 'Unnamed: 7':'5', 'Unnamed: 8':'6', 'Unnamed: 9':'7', 'Unnamed: 10':'8',\n",
        "       #'Unnamed: 11':'9', 'Unnamed: 12':'10', 'Unnamed: 13':'11', 'Unnamed: 14':'12',\n",
        "       #'Unnamed: 15':'13', 'Unnamed: 16':'14', 'Unnamed: 17':'15', 'Unnamed: 18':\"16\",\n",
        "       #'Unnamed: 19':'17', 'Unnamed: 20':'18', 'Unnamed: 21':'19', 'Unnamed: 22':'20',\n",
        "       #'Unnamed: 23':'21', 'Unnamed: 24':'22', 'Unnamed: 25':'23', 'Unnamed: 26':'24',\n",
        "       #'Unnamed: 27':'25', 'Unnamed: 28':'26', 'Unnamed: 29':'27', 'Unnamed: 30':'28',\n",
        "       #'Unnamed: 31':'29', 'Unnamed: 32':'30', 'Unnamed: 33':'31'})\n",
        "#skkc = skkc.iloc[1:]"
      ],
      "metadata": {
        "id": "kQwLn1IyMSru"
      },
      "execution_count": 132,
      "outputs": []
    },
    {
      "cell_type": "code",
      "source": [
        "#skkc['เดือน'] = skkc['เดือน/ปี'].dt.month\n",
        "#skkc['ปี'] = skkc['เดือน/ปี'].dt.year\n",
        "#skkc.head()"
      ],
      "metadata": {
        "id": "4bHWZx4RMbJA"
      },
      "execution_count": 133,
      "outputs": []
    },
    {
      "cell_type": "code",
      "source": [
        "#skkc = skkc[['ที่', 'สถานี', 'เดือน/ปี', '1', '2', '3', '4', '5', '6', '7', '8', '9',\n",
        "      # '10', '11', '12', '13', '14', '15', '16', '17', '18', '19', '20', '21',\n",
        "      # '22', '23', '24', '25', '26', '27', '28', '29', '30', '31',\n",
        "      # 'เดือน', 'ปี','เฉลี่ย']]"
      ],
      "metadata": {
        "id": "y0N-Od0HMp5B"
      },
      "execution_count": 134,
      "outputs": []
    },
    {
      "cell_type": "code",
      "source": [
        "#skkc1 =skkc.iloc[0:,3:34] # วันที่1-31\n",
        "#skkc2 = skkc.iloc[0:,3:36]"
      ],
      "metadata": {
        "id": "lJqHiGrHqlfA"
      },
      "execution_count": 135,
      "outputs": []
    },
    {
      "cell_type": "code",
      "source": [
        "#skkcl = list()\n",
        "#for index, row in skkc2.iterrows():\n",
        "  #for i in range(1,32): # เริ่มที่ 1 - 32\n",
        "    #print(f'วันที่ ',i,'เดือนที่ ',row['เดือน'],' ปีที่ ', row['ปี'],'ความเร็วลม -> ',row[i-1]) # [i-1] = -1 เพราะให้เริ่ม 0,31 แทน ในตอนดึงตอลัมน์\n",
        "    #print(row[i-1])\n",
        "   # skkcl.append(row[i-1])"
      ],
      "metadata": {
        "id": "RAANKOuWYjzb"
      },
      "execution_count": 136,
      "outputs": []
    },
    {
      "cell_type": "markdown",
      "source": [
        "ทำทุกจังหวัด"
      ],
      "metadata": {
        "id": "-KrQahmrvolI"
      }
    },
    {
      "cell_type": "code",
      "source": [
        "Speed.head(5)"
      ],
      "metadata": {
        "id": "Y7LlXQmnvsoQ",
        "outputId": "a5b58d30-f7ea-4687-f48d-aa1d4dbccaf1",
        "colab": {
          "base_uri": "https://localhost:8080/",
          "height": 235
        }
      },
      "execution_count": 137,
      "outputs": [
        {
          "output_type": "execute_result",
          "data": {
            "text/plain": [
              "   ที่                  สถานี  1  2  3  4  5  6  7  8  ...  25 26 27 28  29  \\\n",
              "1  1    353301-เลย สกษ. จ.เลย  3  2  3  2  2  3  4  3  ...   5  5  5  4   6   \n",
              "2  2    353301-เลย สกษ. จ.เลย  4  5  3  3  5  2  3  3  ...   5  5  3  1   3   \n",
              "3  3    353301-เลย สกษ. จ.เลย  3  4  4  4  4  4  4  4  ...   7  6  5  4   4   \n",
              "4  1    353301-เลย สกษ. จ.เลย  4  2  1  4  4  2  4  6  ...   4  2  2  1   3   \n",
              "5  2    353301-เลย สกษ. จ.เลย  2  2  3  2  3  1  2  3  ...   3  2  4  3   3   \n",
              "\n",
              "   30 31 เดือน    ปี  จังหวัด  \n",
              "1   4  5    10  2011  ขอนแก่น  \n",
              "2   3  -    11  2011  ขอนแก่น  \n",
              "3   6  5    12  2011  ขอนแก่น  \n",
              "4   4  4     1  2012  ขอนแก่น  \n",
              "5   3  -     2  2012  ขอนแก่น  \n",
              "\n",
              "[5 rows x 36 columns]"
            ],
            "text/html": [
              "\n",
              "  <div id=\"df-153fac0f-19a0-4617-a859-74772b188e28\">\n",
              "    <div class=\"colab-df-container\">\n",
              "      <div>\n",
              "<style scoped>\n",
              "    .dataframe tbody tr th:only-of-type {\n",
              "        vertical-align: middle;\n",
              "    }\n",
              "\n",
              "    .dataframe tbody tr th {\n",
              "        vertical-align: top;\n",
              "    }\n",
              "\n",
              "    .dataframe thead th {\n",
              "        text-align: right;\n",
              "    }\n",
              "</style>\n",
              "<table border=\"1\" class=\"dataframe\">\n",
              "  <thead>\n",
              "    <tr style=\"text-align: right;\">\n",
              "      <th></th>\n",
              "      <th>ที่</th>\n",
              "      <th>สถานี</th>\n",
              "      <th>1</th>\n",
              "      <th>2</th>\n",
              "      <th>3</th>\n",
              "      <th>4</th>\n",
              "      <th>5</th>\n",
              "      <th>6</th>\n",
              "      <th>7</th>\n",
              "      <th>8</th>\n",
              "      <th>...</th>\n",
              "      <th>25</th>\n",
              "      <th>26</th>\n",
              "      <th>27</th>\n",
              "      <th>28</th>\n",
              "      <th>29</th>\n",
              "      <th>30</th>\n",
              "      <th>31</th>\n",
              "      <th>เดือน</th>\n",
              "      <th>ปี</th>\n",
              "      <th>จังหวัด</th>\n",
              "    </tr>\n",
              "  </thead>\n",
              "  <tbody>\n",
              "    <tr>\n",
              "      <th>1</th>\n",
              "      <td>1</td>\n",
              "      <td>353301-เลย สกษ. จ.เลย</td>\n",
              "      <td>3</td>\n",
              "      <td>2</td>\n",
              "      <td>3</td>\n",
              "      <td>2</td>\n",
              "      <td>2</td>\n",
              "      <td>3</td>\n",
              "      <td>4</td>\n",
              "      <td>3</td>\n",
              "      <td>...</td>\n",
              "      <td>5</td>\n",
              "      <td>5</td>\n",
              "      <td>5</td>\n",
              "      <td>4</td>\n",
              "      <td>6</td>\n",
              "      <td>4</td>\n",
              "      <td>5</td>\n",
              "      <td>10</td>\n",
              "      <td>2011</td>\n",
              "      <td>ขอนแก่น</td>\n",
              "    </tr>\n",
              "    <tr>\n",
              "      <th>2</th>\n",
              "      <td>2</td>\n",
              "      <td>353301-เลย สกษ. จ.เลย</td>\n",
              "      <td>4</td>\n",
              "      <td>5</td>\n",
              "      <td>3</td>\n",
              "      <td>3</td>\n",
              "      <td>5</td>\n",
              "      <td>2</td>\n",
              "      <td>3</td>\n",
              "      <td>3</td>\n",
              "      <td>...</td>\n",
              "      <td>5</td>\n",
              "      <td>5</td>\n",
              "      <td>3</td>\n",
              "      <td>1</td>\n",
              "      <td>3</td>\n",
              "      <td>3</td>\n",
              "      <td>-</td>\n",
              "      <td>11</td>\n",
              "      <td>2011</td>\n",
              "      <td>ขอนแก่น</td>\n",
              "    </tr>\n",
              "    <tr>\n",
              "      <th>3</th>\n",
              "      <td>3</td>\n",
              "      <td>353301-เลย สกษ. จ.เลย</td>\n",
              "      <td>3</td>\n",
              "      <td>4</td>\n",
              "      <td>4</td>\n",
              "      <td>4</td>\n",
              "      <td>4</td>\n",
              "      <td>4</td>\n",
              "      <td>4</td>\n",
              "      <td>4</td>\n",
              "      <td>...</td>\n",
              "      <td>7</td>\n",
              "      <td>6</td>\n",
              "      <td>5</td>\n",
              "      <td>4</td>\n",
              "      <td>4</td>\n",
              "      <td>6</td>\n",
              "      <td>5</td>\n",
              "      <td>12</td>\n",
              "      <td>2011</td>\n",
              "      <td>ขอนแก่น</td>\n",
              "    </tr>\n",
              "    <tr>\n",
              "      <th>4</th>\n",
              "      <td>1</td>\n",
              "      <td>353301-เลย สกษ. จ.เลย</td>\n",
              "      <td>4</td>\n",
              "      <td>2</td>\n",
              "      <td>1</td>\n",
              "      <td>4</td>\n",
              "      <td>4</td>\n",
              "      <td>2</td>\n",
              "      <td>4</td>\n",
              "      <td>6</td>\n",
              "      <td>...</td>\n",
              "      <td>4</td>\n",
              "      <td>2</td>\n",
              "      <td>2</td>\n",
              "      <td>1</td>\n",
              "      <td>3</td>\n",
              "      <td>4</td>\n",
              "      <td>4</td>\n",
              "      <td>1</td>\n",
              "      <td>2012</td>\n",
              "      <td>ขอนแก่น</td>\n",
              "    </tr>\n",
              "    <tr>\n",
              "      <th>5</th>\n",
              "      <td>2</td>\n",
              "      <td>353301-เลย สกษ. จ.เลย</td>\n",
              "      <td>2</td>\n",
              "      <td>2</td>\n",
              "      <td>3</td>\n",
              "      <td>2</td>\n",
              "      <td>3</td>\n",
              "      <td>1</td>\n",
              "      <td>2</td>\n",
              "      <td>3</td>\n",
              "      <td>...</td>\n",
              "      <td>3</td>\n",
              "      <td>2</td>\n",
              "      <td>4</td>\n",
              "      <td>3</td>\n",
              "      <td>3</td>\n",
              "      <td>3</td>\n",
              "      <td>-</td>\n",
              "      <td>2</td>\n",
              "      <td>2012</td>\n",
              "      <td>ขอนแก่น</td>\n",
              "    </tr>\n",
              "  </tbody>\n",
              "</table>\n",
              "<p>5 rows × 36 columns</p>\n",
              "</div>\n",
              "      <button class=\"colab-df-convert\" onclick=\"convertToInteractive('df-153fac0f-19a0-4617-a859-74772b188e28')\"\n",
              "              title=\"Convert this dataframe to an interactive table.\"\n",
              "              style=\"display:none;\">\n",
              "        \n",
              "  <svg xmlns=\"http://www.w3.org/2000/svg\" height=\"24px\"viewBox=\"0 0 24 24\"\n",
              "       width=\"24px\">\n",
              "    <path d=\"M0 0h24v24H0V0z\" fill=\"none\"/>\n",
              "    <path d=\"M18.56 5.44l.94 2.06.94-2.06 2.06-.94-2.06-.94-.94-2.06-.94 2.06-2.06.94zm-11 1L8.5 8.5l.94-2.06 2.06-.94-2.06-.94L8.5 2.5l-.94 2.06-2.06.94zm10 10l.94 2.06.94-2.06 2.06-.94-2.06-.94-.94-2.06-.94 2.06-2.06.94z\"/><path d=\"M17.41 7.96l-1.37-1.37c-.4-.4-.92-.59-1.43-.59-.52 0-1.04.2-1.43.59L10.3 9.45l-7.72 7.72c-.78.78-.78 2.05 0 2.83L4 21.41c.39.39.9.59 1.41.59.51 0 1.02-.2 1.41-.59l7.78-7.78 2.81-2.81c.8-.78.8-2.07 0-2.86zM5.41 20L4 18.59l7.72-7.72 1.47 1.35L5.41 20z\"/>\n",
              "  </svg>\n",
              "      </button>\n",
              "      \n",
              "  <style>\n",
              "    .colab-df-container {\n",
              "      display:flex;\n",
              "      flex-wrap:wrap;\n",
              "      gap: 12px;\n",
              "    }\n",
              "\n",
              "    .colab-df-convert {\n",
              "      background-color: #E8F0FE;\n",
              "      border: none;\n",
              "      border-radius: 50%;\n",
              "      cursor: pointer;\n",
              "      display: none;\n",
              "      fill: #1967D2;\n",
              "      height: 32px;\n",
              "      padding: 0 0 0 0;\n",
              "      width: 32px;\n",
              "    }\n",
              "\n",
              "    .colab-df-convert:hover {\n",
              "      background-color: #E2EBFA;\n",
              "      box-shadow: 0px 1px 2px rgba(60, 64, 67, 0.3), 0px 1px 3px 1px rgba(60, 64, 67, 0.15);\n",
              "      fill: #174EA6;\n",
              "    }\n",
              "\n",
              "    [theme=dark] .colab-df-convert {\n",
              "      background-color: #3B4455;\n",
              "      fill: #D2E3FC;\n",
              "    }\n",
              "\n",
              "    [theme=dark] .colab-df-convert:hover {\n",
              "      background-color: #434B5C;\n",
              "      box-shadow: 0px 1px 3px 1px rgba(0, 0, 0, 0.15);\n",
              "      filter: drop-shadow(0px 1px 2px rgba(0, 0, 0, 0.3));\n",
              "      fill: #FFFFFF;\n",
              "    }\n",
              "  </style>\n",
              "\n",
              "      <script>\n",
              "        const buttonEl =\n",
              "          document.querySelector('#df-153fac0f-19a0-4617-a859-74772b188e28 button.colab-df-convert');\n",
              "        buttonEl.style.display =\n",
              "          google.colab.kernel.accessAllowed ? 'block' : 'none';\n",
              "\n",
              "        async function convertToInteractive(key) {\n",
              "          const element = document.querySelector('#df-153fac0f-19a0-4617-a859-74772b188e28');\n",
              "          const dataTable =\n",
              "            await google.colab.kernel.invokeFunction('convertToInteractive',\n",
              "                                                     [key], {});\n",
              "          if (!dataTable) return;\n",
              "\n",
              "          const docLinkHtml = 'Like what you see? Visit the ' +\n",
              "            '<a target=\"_blank\" href=https://colab.research.google.com/notebooks/data_table.ipynb>data table notebook</a>'\n",
              "            + ' to learn more about interactive tables.';\n",
              "          element.innerHTML = '';\n",
              "          dataTable['output_type'] = 'display_data';\n",
              "          await google.colab.output.renderOutput(dataTable, element);\n",
              "          const docLink = document.createElement('div');\n",
              "          docLink.innerHTML = docLinkHtml;\n",
              "          element.appendChild(docLink);\n",
              "        }\n",
              "      </script>\n",
              "    </div>\n",
              "  </div>\n",
              "  "
            ]
          },
          "metadata": {},
          "execution_count": 137
        }
      ]
    },
    {
      "cell_type": "code",
      "source": [
        "Sl = list()\n",
        "for index, row in Speed.iterrows():\n",
        "  for i in range(1,32): # เริ่มที่ 1 - 32\n",
        "    #print(f'วันที่ ',i,'เดือนที่ ',row['เดือน'],' ปีที่ ', row['ปี'],'ความเร็วลม -> ',row[i+1], row['จังหวัด'])\n",
        "    Sl.append([row['จังหวัด'],'วันที่ ',i,'เดือนที่ ',row['เดือน'],' ปีที่ ', row['ปี'],'ความเร็วลม',row[i+1]]) # [i-1] = -1 เพราะให้เริ่ม 0,31 แทน ในตอนดึงตอลัมน์\n",
        "Sdf = pd.DataFrame(Sl)"
      ],
      "metadata": {
        "id": "h7jTK5P0Ui49"
      },
      "execution_count": 138,
      "outputs": []
    },
    {
      "cell_type": "code",
      "source": [
        "Sdf = Sdf.rename(columns={0:'จังหวัด',2:'วันที่',4:'เดือนที่',6:'ปีที่',8:'ความเร็วลม'})\n",
        "Sdf.drop([1,3,5,7], 1, inplace=True)\n",
        "Sdf"
      ],
      "metadata": {
        "id": "Ap629SxzUmCr",
        "outputId": "6e1fd17f-98a0-4957-dacc-8b3eb22f5f05",
        "colab": {
          "base_uri": "https://localhost:8080/",
          "height": 458
        }
      },
      "execution_count": 139,
      "outputs": [
        {
          "output_type": "stream",
          "name": "stderr",
          "text": [
            "<ipython-input-139-16167a26ec1b>:2: FutureWarning: In a future version of pandas all arguments of DataFrame.drop except for the argument 'labels' will be keyword-only\n",
            "  Sdf.drop([1,3,5,7], 1, inplace=True)\n"
          ]
        },
        {
          "output_type": "execute_result",
          "data": {
            "text/plain": [
              "      จังหวัด  วันที่  เดือนที่  ปีที่ ความเร็วลม\n",
              "0     ขอนแก่น       1        10   2011          3\n",
              "1     ขอนแก่น       2        10   2011          2\n",
              "2     ขอนแก่น       3        10   2011          3\n",
              "3     ขอนแก่น       4        10   2011          2\n",
              "4     ขอนแก่น       5        10   2011          2\n",
              "...       ...     ...       ...    ...        ...\n",
              "8520      เลย      27         2   2022          2\n",
              "8521      เลย      28         2   2022          2\n",
              "8522      เลย      29         2   2022          -\n",
              "8523      เลย      30         2   2022          -\n",
              "8524      เลย      31         2   2022          -\n",
              "\n",
              "[8525 rows x 5 columns]"
            ],
            "text/html": [
              "\n",
              "  <div id=\"df-871ce0cd-87b9-455f-9d8d-1a79b93f6b01\">\n",
              "    <div class=\"colab-df-container\">\n",
              "      <div>\n",
              "<style scoped>\n",
              "    .dataframe tbody tr th:only-of-type {\n",
              "        vertical-align: middle;\n",
              "    }\n",
              "\n",
              "    .dataframe tbody tr th {\n",
              "        vertical-align: top;\n",
              "    }\n",
              "\n",
              "    .dataframe thead th {\n",
              "        text-align: right;\n",
              "    }\n",
              "</style>\n",
              "<table border=\"1\" class=\"dataframe\">\n",
              "  <thead>\n",
              "    <tr style=\"text-align: right;\">\n",
              "      <th></th>\n",
              "      <th>จังหวัด</th>\n",
              "      <th>วันที่</th>\n",
              "      <th>เดือนที่</th>\n",
              "      <th>ปีที่</th>\n",
              "      <th>ความเร็วลม</th>\n",
              "    </tr>\n",
              "  </thead>\n",
              "  <tbody>\n",
              "    <tr>\n",
              "      <th>0</th>\n",
              "      <td>ขอนแก่น</td>\n",
              "      <td>1</td>\n",
              "      <td>10</td>\n",
              "      <td>2011</td>\n",
              "      <td>3</td>\n",
              "    </tr>\n",
              "    <tr>\n",
              "      <th>1</th>\n",
              "      <td>ขอนแก่น</td>\n",
              "      <td>2</td>\n",
              "      <td>10</td>\n",
              "      <td>2011</td>\n",
              "      <td>2</td>\n",
              "    </tr>\n",
              "    <tr>\n",
              "      <th>2</th>\n",
              "      <td>ขอนแก่น</td>\n",
              "      <td>3</td>\n",
              "      <td>10</td>\n",
              "      <td>2011</td>\n",
              "      <td>3</td>\n",
              "    </tr>\n",
              "    <tr>\n",
              "      <th>3</th>\n",
              "      <td>ขอนแก่น</td>\n",
              "      <td>4</td>\n",
              "      <td>10</td>\n",
              "      <td>2011</td>\n",
              "      <td>2</td>\n",
              "    </tr>\n",
              "    <tr>\n",
              "      <th>4</th>\n",
              "      <td>ขอนแก่น</td>\n",
              "      <td>5</td>\n",
              "      <td>10</td>\n",
              "      <td>2011</td>\n",
              "      <td>2</td>\n",
              "    </tr>\n",
              "    <tr>\n",
              "      <th>...</th>\n",
              "      <td>...</td>\n",
              "      <td>...</td>\n",
              "      <td>...</td>\n",
              "      <td>...</td>\n",
              "      <td>...</td>\n",
              "    </tr>\n",
              "    <tr>\n",
              "      <th>8520</th>\n",
              "      <td>เลย</td>\n",
              "      <td>27</td>\n",
              "      <td>2</td>\n",
              "      <td>2022</td>\n",
              "      <td>2</td>\n",
              "    </tr>\n",
              "    <tr>\n",
              "      <th>8521</th>\n",
              "      <td>เลย</td>\n",
              "      <td>28</td>\n",
              "      <td>2</td>\n",
              "      <td>2022</td>\n",
              "      <td>2</td>\n",
              "    </tr>\n",
              "    <tr>\n",
              "      <th>8522</th>\n",
              "      <td>เลย</td>\n",
              "      <td>29</td>\n",
              "      <td>2</td>\n",
              "      <td>2022</td>\n",
              "      <td>-</td>\n",
              "    </tr>\n",
              "    <tr>\n",
              "      <th>8523</th>\n",
              "      <td>เลย</td>\n",
              "      <td>30</td>\n",
              "      <td>2</td>\n",
              "      <td>2022</td>\n",
              "      <td>-</td>\n",
              "    </tr>\n",
              "    <tr>\n",
              "      <th>8524</th>\n",
              "      <td>เลย</td>\n",
              "      <td>31</td>\n",
              "      <td>2</td>\n",
              "      <td>2022</td>\n",
              "      <td>-</td>\n",
              "    </tr>\n",
              "  </tbody>\n",
              "</table>\n",
              "<p>8525 rows × 5 columns</p>\n",
              "</div>\n",
              "      <button class=\"colab-df-convert\" onclick=\"convertToInteractive('df-871ce0cd-87b9-455f-9d8d-1a79b93f6b01')\"\n",
              "              title=\"Convert this dataframe to an interactive table.\"\n",
              "              style=\"display:none;\">\n",
              "        \n",
              "  <svg xmlns=\"http://www.w3.org/2000/svg\" height=\"24px\"viewBox=\"0 0 24 24\"\n",
              "       width=\"24px\">\n",
              "    <path d=\"M0 0h24v24H0V0z\" fill=\"none\"/>\n",
              "    <path d=\"M18.56 5.44l.94 2.06.94-2.06 2.06-.94-2.06-.94-.94-2.06-.94 2.06-2.06.94zm-11 1L8.5 8.5l.94-2.06 2.06-.94-2.06-.94L8.5 2.5l-.94 2.06-2.06.94zm10 10l.94 2.06.94-2.06 2.06-.94-2.06-.94-.94-2.06-.94 2.06-2.06.94z\"/><path d=\"M17.41 7.96l-1.37-1.37c-.4-.4-.92-.59-1.43-.59-.52 0-1.04.2-1.43.59L10.3 9.45l-7.72 7.72c-.78.78-.78 2.05 0 2.83L4 21.41c.39.39.9.59 1.41.59.51 0 1.02-.2 1.41-.59l7.78-7.78 2.81-2.81c.8-.78.8-2.07 0-2.86zM5.41 20L4 18.59l7.72-7.72 1.47 1.35L5.41 20z\"/>\n",
              "  </svg>\n",
              "      </button>\n",
              "      \n",
              "  <style>\n",
              "    .colab-df-container {\n",
              "      display:flex;\n",
              "      flex-wrap:wrap;\n",
              "      gap: 12px;\n",
              "    }\n",
              "\n",
              "    .colab-df-convert {\n",
              "      background-color: #E8F0FE;\n",
              "      border: none;\n",
              "      border-radius: 50%;\n",
              "      cursor: pointer;\n",
              "      display: none;\n",
              "      fill: #1967D2;\n",
              "      height: 32px;\n",
              "      padding: 0 0 0 0;\n",
              "      width: 32px;\n",
              "    }\n",
              "\n",
              "    .colab-df-convert:hover {\n",
              "      background-color: #E2EBFA;\n",
              "      box-shadow: 0px 1px 2px rgba(60, 64, 67, 0.3), 0px 1px 3px 1px rgba(60, 64, 67, 0.15);\n",
              "      fill: #174EA6;\n",
              "    }\n",
              "\n",
              "    [theme=dark] .colab-df-convert {\n",
              "      background-color: #3B4455;\n",
              "      fill: #D2E3FC;\n",
              "    }\n",
              "\n",
              "    [theme=dark] .colab-df-convert:hover {\n",
              "      background-color: #434B5C;\n",
              "      box-shadow: 0px 1px 3px 1px rgba(0, 0, 0, 0.15);\n",
              "      filter: drop-shadow(0px 1px 2px rgba(0, 0, 0, 0.3));\n",
              "      fill: #FFFFFF;\n",
              "    }\n",
              "  </style>\n",
              "\n",
              "      <script>\n",
              "        const buttonEl =\n",
              "          document.querySelector('#df-871ce0cd-87b9-455f-9d8d-1a79b93f6b01 button.colab-df-convert');\n",
              "        buttonEl.style.display =\n",
              "          google.colab.kernel.accessAllowed ? 'block' : 'none';\n",
              "\n",
              "        async function convertToInteractive(key) {\n",
              "          const element = document.querySelector('#df-871ce0cd-87b9-455f-9d8d-1a79b93f6b01');\n",
              "          const dataTable =\n",
              "            await google.colab.kernel.invokeFunction('convertToInteractive',\n",
              "                                                     [key], {});\n",
              "          if (!dataTable) return;\n",
              "\n",
              "          const docLinkHtml = 'Like what you see? Visit the ' +\n",
              "            '<a target=\"_blank\" href=https://colab.research.google.com/notebooks/data_table.ipynb>data table notebook</a>'\n",
              "            + ' to learn more about interactive tables.';\n",
              "          element.innerHTML = '';\n",
              "          dataTable['output_type'] = 'display_data';\n",
              "          await google.colab.output.renderOutput(dataTable, element);\n",
              "          const docLink = document.createElement('div');\n",
              "          docLink.innerHTML = docLinkHtml;\n",
              "          element.appendChild(docLink);\n",
              "        }\n",
              "      </script>\n",
              "    </div>\n",
              "  </div>\n",
              "  "
            ]
          },
          "metadata": {},
          "execution_count": 139
        }
      ]
    },
    {
      "cell_type": "markdown",
      "source": [
        "##ความกด(เปอร์เซ็นต์)\n"
      ],
      "metadata": {
        "id": "yZ6TkaPCxYZh"
      }
    },
    {
      "cell_type": "code",
      "source": [
        "pkkc = pd.read_excel('/content/drive/MyDrive/data/อุตุ/ความกด/Copy of จ.ขอนแก่น.xlsx',sheet_name='Sheet1',skiprows=3)\n",
        "pnkp = pd.read_excel('/content/drive/MyDrive/data/อุตุ/ความกด/Copy of จ.นครพนม.xlsx',sheet_name='Sheet1',skiprows=3)\n",
        "psk  = pd.read_excel('/content/drive/MyDrive/data/อุตุ/ความกด/Copy of จ.สกลนคร.xlsx',sheet_name='Sheet1',skiprows=3)\n",
        "pnk  = pd.read_excel('/content/drive/MyDrive/data/อุตุ/ความกด/Copy of จ.หนองคาย.xlsx',sheet_name='Sheet1',skiprows=3)\n",
        "pl  = pd.read_excel('/content/drive/MyDrive/data/อุตุ/ความกด/Copy of จ.เลย.xlsx',sheet_name='Sheet1',skiprows=3)\n"
      ],
      "metadata": {
        "id": "JjqqKfLyxX1w"
      },
      "execution_count": 140,
      "outputs": []
    },
    {
      "cell_type": "code",
      "source": [
        "pkkc['จังหวัด'] = 'ขอนแก่น' #เพิ่มคอลัมน์จังหวัด\n",
        "pnkp['จังหวัด'] = 'นครพนม'\n",
        "psk['จังหวัด'] = 'สกลนคร'\n",
        "pnk['จังหวัด'] = 'หนองคาย'\n",
        "pl['จังหวัด'] = 'เลย'\n",
        "pkkc = pkkc.rename(columns={ 'วันที่':'1','Unnamed: 4':'2', 'Unnamed: 5':'3',\n",
        "       'Unnamed: 6':'4', 'Unnamed: 7':'5', 'Unnamed: 8':'6', 'Unnamed: 9':'7', 'Unnamed: 10':'8',\n",
        "       'Unnamed: 11':'9', 'Unnamed: 12':'10', 'Unnamed: 13':'11', 'Unnamed: 14':'12',\n",
        "       'Unnamed: 15':'13', 'Unnamed: 16':'14', 'Unnamed: 17':'15', 'Unnamed: 18':\"16\",\n",
        "       'Unnamed: 19':'17', 'Unnamed: 20':'18', 'Unnamed: 21':'19', 'Unnamed: 22':'20',\n",
        "       'Unnamed: 23':'21', 'Unnamed: 24':'22', 'Unnamed: 25':'23', 'Unnamed: 26':'24',\n",
        "       'Unnamed: 27':'25', 'Unnamed: 28':'26', 'Unnamed: 29':'27', 'Unnamed: 30':'28',\n",
        "       'Unnamed: 31':'29', 'Unnamed: 32':'30', 'Unnamed: 33':'31'})\n",
        "pkkc = pkkc.iloc[1:]\n",
        "pnkp = pnkp.rename(columns={ 'วันที่':'1','Unnamed: 4':'2', 'Unnamed: 5':'3',\n",
        "       'Unnamed: 6':'4', 'Unnamed: 7':'5', 'Unnamed: 8':'6', 'Unnamed: 9':'7', 'Unnamed: 10':'8',\n",
        "       'Unnamed: 11':'9', 'Unnamed: 12':'10', 'Unnamed: 13':'11', 'Unnamed: 14':'12',\n",
        "       'Unnamed: 15':'13', 'Unnamed: 16':'14', 'Unnamed: 17':'15', 'Unnamed: 18':\"16\",\n",
        "       'Unnamed: 19':'17', 'Unnamed: 20':'18', 'Unnamed: 21':'19', 'Unnamed: 22':'20',\n",
        "       'Unnamed: 23':'21', 'Unnamed: 24':'22', 'Unnamed: 25':'23', 'Unnamed: 26':'24',\n",
        "       'Unnamed: 27':'25', 'Unnamed: 28':'26', 'Unnamed: 29':'27', 'Unnamed: 30':'28',\n",
        "       'Unnamed: 31':'29', 'Unnamed: 32':'30', 'Unnamed: 33':'31'})\n",
        "pnkp = pnkp.iloc[1:]\n",
        "psk = psk.rename(columns={ 'วันที่':'1','Unnamed: 4':'2', 'Unnamed: 5':'3',\n",
        "       'Unnamed: 6':'4', 'Unnamed: 7':'5', 'Unnamed: 8':'6', 'Unnamed: 9':'7', 'Unnamed: 10':'8',\n",
        "       'Unnamed: 11':'9', 'Unnamed: 12':'10', 'Unnamed: 13':'11', 'Unnamed: 14':'12',\n",
        "       'Unnamed: 15':'13', 'Unnamed: 16':'14', 'Unnamed: 17':'15', 'Unnamed: 18':\"16\",\n",
        "       'Unnamed: 19':'17', 'Unnamed: 20':'18', 'Unnamed: 21':'19', 'Unnamed: 22':'20',\n",
        "       'Unnamed: 23':'21', 'Unnamed: 24':'22', 'Unnamed: 25':'23', 'Unnamed: 26':'24',\n",
        "       'Unnamed: 27':'25', 'Unnamed: 28':'26', 'Unnamed: 29':'27', 'Unnamed: 30':'28',\n",
        "       'Unnamed: 31':'29', 'Unnamed: 32':'30', 'Unnamed: 33':'31'})\n",
        "psk = psk.iloc[1:]\n",
        "pnk = pnk.rename(columns={ 'วันที่':'1','Unnamed: 4':'2', 'Unnamed: 5':'3',\n",
        "       'Unnamed: 6':'4', 'Unnamed: 7':'5', 'Unnamed: 8':'6', 'Unnamed: 9':'7', 'Unnamed: 10':'8',\n",
        "       'Unnamed: 11':'9', 'Unnamed: 12':'10', 'Unnamed: 13':'11', 'Unnamed: 14':'12',\n",
        "       'Unnamed: 15':'13', 'Unnamed: 16':'14', 'Unnamed: 17':'15', 'Unnamed: 18':\"16\",\n",
        "       'Unnamed: 19':'17', 'Unnamed: 20':'18', 'Unnamed: 21':'19', 'Unnamed: 22':'20',\n",
        "       'Unnamed: 23':'21', 'Unnamed: 24':'22', 'Unnamed: 25':'23', 'Unnamed: 26':'24',\n",
        "       'Unnamed: 27':'25', 'Unnamed: 28':'26', 'Unnamed: 29':'27', 'Unnamed: 30':'28',\n",
        "       'Unnamed: 31':'29', 'Unnamed: 32':'30', 'Unnamed: 33':'31'})\n",
        "pnk = pnk.iloc[1:]\n",
        "pl = pl.rename(columns={ 'วันที่':'1','Unnamed: 4':'2', 'Unnamed: 5':'3',\n",
        "       'Unnamed: 6':'4', 'Unnamed: 7':'5', 'Unnamed: 8':'6', 'Unnamed: 9':'7', 'Unnamed: 10':'8',\n",
        "       'Unnamed: 11':'9', 'Unnamed: 12':'10', 'Unnamed: 13':'11', 'Unnamed: 14':'12',\n",
        "       'Unnamed: 15':'13', 'Unnamed: 16':'14', 'Unnamed: 17':'15', 'Unnamed: 18':\"16\",\n",
        "       'Unnamed: 19':'17', 'Unnamed: 20':'18', 'Unnamed: 21':'19', 'Unnamed: 22':'20',\n",
        "       'Unnamed: 23':'21', 'Unnamed: 24':'22', 'Unnamed: 25':'23', 'Unnamed: 26':'24',\n",
        "       'Unnamed: 27':'25', 'Unnamed: 28':'26', 'Unnamed: 29':'27', 'Unnamed: 30':'28',\n",
        "       'Unnamed: 31':'29', 'Unnamed: 32':'30', 'Unnamed: 33':'31'})\n",
        "pl = pl.iloc[1:]"
      ],
      "metadata": {
        "id": "mZqCzHFDhjFE"
      },
      "execution_count": 141,
      "outputs": []
    },
    {
      "cell_type": "markdown",
      "source": [
        "###Concat df"
      ],
      "metadata": {
        "id": "gsIvlF4miUc5"
      }
    },
    {
      "cell_type": "code",
      "source": [
        "Pre = pd.concat([pkkc, pnkp, psk, pnk, pl])\n",
        "Pre.shape"
      ],
      "metadata": {
        "colab": {
          "base_uri": "https://localhost:8080/"
        },
        "id": "oqoXJxuCiUJn",
        "outputId": "b6e1d184-bbce-4b08-ee41-847c7cd64446"
      },
      "execution_count": 142,
      "outputs": [
        {
          "output_type": "execute_result",
          "data": {
            "text/plain": [
              "(275, 36)"
            ]
          },
          "metadata": {},
          "execution_count": 142
        }
      ]
    },
    {
      "cell_type": "markdown",
      "source": [
        "### ดึงเดือน กับ ปี แยกคอลัมน์"
      ],
      "metadata": {
        "id": "rJ87JOV3i2Li"
      }
    },
    {
      "cell_type": "code",
      "source": [
        "Pre['เดือน'] = Pre['เดือน/ปี'].dt.month\n",
        "Pre['ปี'] = Pre['เดือน/ปี'].dt.year\n",
        "del Pre['เดือน/ปี']\n",
        "Pre.head()"
      ],
      "metadata": {
        "colab": {
          "base_uri": "https://localhost:8080/",
          "height": 473
        },
        "id": "TpJupnz4ijA1",
        "outputId": "5b851728-1ce8-4dab-eb92-d2e02343289b"
      },
      "execution_count": 143,
      "outputs": [
        {
          "output_type": "execute_result",
          "data": {
            "text/plain": [
              "   ที่                     สถานี        1        2        3        4        5  \\\n",
              "1  1    352201-หนองคาย จ.หนองคาย  1005.47  1006.65  1007.49  1008.28  1009.88   \n",
              "2  2    352201-หนองคาย จ.หนองคาย  1011.79  1010.83  1010.74  1010.71  1010.09   \n",
              "3  3    352201-หนองคาย จ.หนองคาย  1011.43  1012.57  1012.28  1012.97  1013.09   \n",
              "4  1    352201-หนองคาย จ.หนองคาย  1015.67  1014.11  1012.91  1014.06  1015.51   \n",
              "5  2    352201-หนองคาย จ.หนองคาย  1013.26  1012.92  1013.61  1013.18  1011.26   \n",
              "\n",
              "         6        7        8  ...       26       27       28       29  \\\n",
              "1  1011.36  1011.17  1010.20  ...  1011.84  1011.89  1012.29  1011.67   \n",
              "2  1009.24  1008.03  1007.20  ...  1012.35  1011.31  1009.59  1010.13   \n",
              "3  1012.03  1012.05  1011.94  ...  1018.65  1016.88  1016.05  1014.98   \n",
              "4  1015.88  1017.72  1018.06  ...  1012.56  1010.76  1010.26  1010.69   \n",
              "5  1008.80  1008.16  1009.66  ...  1005.08  1006.57  1005.96  1006.53   \n",
              "\n",
              "        30       31       เฉลี่ย  จังหวัด  เดือน    ปี  \n",
              "1   1011.3  1011.52  1010.350645  ขอนแก่น     10  2011  \n",
              "2  1010.47        -  1011.717000  ขอนแก่น     11  2011  \n",
              "3  1015.53   1016.4  1016.470000  ขอนแก่น     12  2011  \n",
              "4  1012.34  1014.52  1012.484516  ขอนแก่น      1  2012  \n",
              "5  1010.47        -  1009.749667  ขอนแก่น      2  2012  \n",
              "\n",
              "[5 rows x 37 columns]"
            ],
            "text/html": [
              "\n",
              "  <div id=\"df-b6085672-a5b4-48ed-9215-e293e3b69abe\">\n",
              "    <div class=\"colab-df-container\">\n",
              "      <div>\n",
              "<style scoped>\n",
              "    .dataframe tbody tr th:only-of-type {\n",
              "        vertical-align: middle;\n",
              "    }\n",
              "\n",
              "    .dataframe tbody tr th {\n",
              "        vertical-align: top;\n",
              "    }\n",
              "\n",
              "    .dataframe thead th {\n",
              "        text-align: right;\n",
              "    }\n",
              "</style>\n",
              "<table border=\"1\" class=\"dataframe\">\n",
              "  <thead>\n",
              "    <tr style=\"text-align: right;\">\n",
              "      <th></th>\n",
              "      <th>ที่</th>\n",
              "      <th>สถานี</th>\n",
              "      <th>1</th>\n",
              "      <th>2</th>\n",
              "      <th>3</th>\n",
              "      <th>4</th>\n",
              "      <th>5</th>\n",
              "      <th>6</th>\n",
              "      <th>7</th>\n",
              "      <th>8</th>\n",
              "      <th>...</th>\n",
              "      <th>26</th>\n",
              "      <th>27</th>\n",
              "      <th>28</th>\n",
              "      <th>29</th>\n",
              "      <th>30</th>\n",
              "      <th>31</th>\n",
              "      <th>เฉลี่ย</th>\n",
              "      <th>จังหวัด</th>\n",
              "      <th>เดือน</th>\n",
              "      <th>ปี</th>\n",
              "    </tr>\n",
              "  </thead>\n",
              "  <tbody>\n",
              "    <tr>\n",
              "      <th>1</th>\n",
              "      <td>1</td>\n",
              "      <td>352201-หนองคาย จ.หนองคาย</td>\n",
              "      <td>1005.47</td>\n",
              "      <td>1006.65</td>\n",
              "      <td>1007.49</td>\n",
              "      <td>1008.28</td>\n",
              "      <td>1009.88</td>\n",
              "      <td>1011.36</td>\n",
              "      <td>1011.17</td>\n",
              "      <td>1010.20</td>\n",
              "      <td>...</td>\n",
              "      <td>1011.84</td>\n",
              "      <td>1011.89</td>\n",
              "      <td>1012.29</td>\n",
              "      <td>1011.67</td>\n",
              "      <td>1011.3</td>\n",
              "      <td>1011.52</td>\n",
              "      <td>1010.350645</td>\n",
              "      <td>ขอนแก่น</td>\n",
              "      <td>10</td>\n",
              "      <td>2011</td>\n",
              "    </tr>\n",
              "    <tr>\n",
              "      <th>2</th>\n",
              "      <td>2</td>\n",
              "      <td>352201-หนองคาย จ.หนองคาย</td>\n",
              "      <td>1011.79</td>\n",
              "      <td>1010.83</td>\n",
              "      <td>1010.74</td>\n",
              "      <td>1010.71</td>\n",
              "      <td>1010.09</td>\n",
              "      <td>1009.24</td>\n",
              "      <td>1008.03</td>\n",
              "      <td>1007.20</td>\n",
              "      <td>...</td>\n",
              "      <td>1012.35</td>\n",
              "      <td>1011.31</td>\n",
              "      <td>1009.59</td>\n",
              "      <td>1010.13</td>\n",
              "      <td>1010.47</td>\n",
              "      <td>-</td>\n",
              "      <td>1011.717000</td>\n",
              "      <td>ขอนแก่น</td>\n",
              "      <td>11</td>\n",
              "      <td>2011</td>\n",
              "    </tr>\n",
              "    <tr>\n",
              "      <th>3</th>\n",
              "      <td>3</td>\n",
              "      <td>352201-หนองคาย จ.หนองคาย</td>\n",
              "      <td>1011.43</td>\n",
              "      <td>1012.57</td>\n",
              "      <td>1012.28</td>\n",
              "      <td>1012.97</td>\n",
              "      <td>1013.09</td>\n",
              "      <td>1012.03</td>\n",
              "      <td>1012.05</td>\n",
              "      <td>1011.94</td>\n",
              "      <td>...</td>\n",
              "      <td>1018.65</td>\n",
              "      <td>1016.88</td>\n",
              "      <td>1016.05</td>\n",
              "      <td>1014.98</td>\n",
              "      <td>1015.53</td>\n",
              "      <td>1016.4</td>\n",
              "      <td>1016.470000</td>\n",
              "      <td>ขอนแก่น</td>\n",
              "      <td>12</td>\n",
              "      <td>2011</td>\n",
              "    </tr>\n",
              "    <tr>\n",
              "      <th>4</th>\n",
              "      <td>1</td>\n",
              "      <td>352201-หนองคาย จ.หนองคาย</td>\n",
              "      <td>1015.67</td>\n",
              "      <td>1014.11</td>\n",
              "      <td>1012.91</td>\n",
              "      <td>1014.06</td>\n",
              "      <td>1015.51</td>\n",
              "      <td>1015.88</td>\n",
              "      <td>1017.72</td>\n",
              "      <td>1018.06</td>\n",
              "      <td>...</td>\n",
              "      <td>1012.56</td>\n",
              "      <td>1010.76</td>\n",
              "      <td>1010.26</td>\n",
              "      <td>1010.69</td>\n",
              "      <td>1012.34</td>\n",
              "      <td>1014.52</td>\n",
              "      <td>1012.484516</td>\n",
              "      <td>ขอนแก่น</td>\n",
              "      <td>1</td>\n",
              "      <td>2012</td>\n",
              "    </tr>\n",
              "    <tr>\n",
              "      <th>5</th>\n",
              "      <td>2</td>\n",
              "      <td>352201-หนองคาย จ.หนองคาย</td>\n",
              "      <td>1013.26</td>\n",
              "      <td>1012.92</td>\n",
              "      <td>1013.61</td>\n",
              "      <td>1013.18</td>\n",
              "      <td>1011.26</td>\n",
              "      <td>1008.80</td>\n",
              "      <td>1008.16</td>\n",
              "      <td>1009.66</td>\n",
              "      <td>...</td>\n",
              "      <td>1005.08</td>\n",
              "      <td>1006.57</td>\n",
              "      <td>1005.96</td>\n",
              "      <td>1006.53</td>\n",
              "      <td>1010.47</td>\n",
              "      <td>-</td>\n",
              "      <td>1009.749667</td>\n",
              "      <td>ขอนแก่น</td>\n",
              "      <td>2</td>\n",
              "      <td>2012</td>\n",
              "    </tr>\n",
              "  </tbody>\n",
              "</table>\n",
              "<p>5 rows × 37 columns</p>\n",
              "</div>\n",
              "      <button class=\"colab-df-convert\" onclick=\"convertToInteractive('df-b6085672-a5b4-48ed-9215-e293e3b69abe')\"\n",
              "              title=\"Convert this dataframe to an interactive table.\"\n",
              "              style=\"display:none;\">\n",
              "        \n",
              "  <svg xmlns=\"http://www.w3.org/2000/svg\" height=\"24px\"viewBox=\"0 0 24 24\"\n",
              "       width=\"24px\">\n",
              "    <path d=\"M0 0h24v24H0V0z\" fill=\"none\"/>\n",
              "    <path d=\"M18.56 5.44l.94 2.06.94-2.06 2.06-.94-2.06-.94-.94-2.06-.94 2.06-2.06.94zm-11 1L8.5 8.5l.94-2.06 2.06-.94-2.06-.94L8.5 2.5l-.94 2.06-2.06.94zm10 10l.94 2.06.94-2.06 2.06-.94-2.06-.94-.94-2.06-.94 2.06-2.06.94z\"/><path d=\"M17.41 7.96l-1.37-1.37c-.4-.4-.92-.59-1.43-.59-.52 0-1.04.2-1.43.59L10.3 9.45l-7.72 7.72c-.78.78-.78 2.05 0 2.83L4 21.41c.39.39.9.59 1.41.59.51 0 1.02-.2 1.41-.59l7.78-7.78 2.81-2.81c.8-.78.8-2.07 0-2.86zM5.41 20L4 18.59l7.72-7.72 1.47 1.35L5.41 20z\"/>\n",
              "  </svg>\n",
              "      </button>\n",
              "      \n",
              "  <style>\n",
              "    .colab-df-container {\n",
              "      display:flex;\n",
              "      flex-wrap:wrap;\n",
              "      gap: 12px;\n",
              "    }\n",
              "\n",
              "    .colab-df-convert {\n",
              "      background-color: #E8F0FE;\n",
              "      border: none;\n",
              "      border-radius: 50%;\n",
              "      cursor: pointer;\n",
              "      display: none;\n",
              "      fill: #1967D2;\n",
              "      height: 32px;\n",
              "      padding: 0 0 0 0;\n",
              "      width: 32px;\n",
              "    }\n",
              "\n",
              "    .colab-df-convert:hover {\n",
              "      background-color: #E2EBFA;\n",
              "      box-shadow: 0px 1px 2px rgba(60, 64, 67, 0.3), 0px 1px 3px 1px rgba(60, 64, 67, 0.15);\n",
              "      fill: #174EA6;\n",
              "    }\n",
              "\n",
              "    [theme=dark] .colab-df-convert {\n",
              "      background-color: #3B4455;\n",
              "      fill: #D2E3FC;\n",
              "    }\n",
              "\n",
              "    [theme=dark] .colab-df-convert:hover {\n",
              "      background-color: #434B5C;\n",
              "      box-shadow: 0px 1px 3px 1px rgba(0, 0, 0, 0.15);\n",
              "      filter: drop-shadow(0px 1px 2px rgba(0, 0, 0, 0.3));\n",
              "      fill: #FFFFFF;\n",
              "    }\n",
              "  </style>\n",
              "\n",
              "      <script>\n",
              "        const buttonEl =\n",
              "          document.querySelector('#df-b6085672-a5b4-48ed-9215-e293e3b69abe button.colab-df-convert');\n",
              "        buttonEl.style.display =\n",
              "          google.colab.kernel.accessAllowed ? 'block' : 'none';\n",
              "\n",
              "        async function convertToInteractive(key) {\n",
              "          const element = document.querySelector('#df-b6085672-a5b4-48ed-9215-e293e3b69abe');\n",
              "          const dataTable =\n",
              "            await google.colab.kernel.invokeFunction('convertToInteractive',\n",
              "                                                     [key], {});\n",
              "          if (!dataTable) return;\n",
              "\n",
              "          const docLinkHtml = 'Like what you see? Visit the ' +\n",
              "            '<a target=\"_blank\" href=https://colab.research.google.com/notebooks/data_table.ipynb>data table notebook</a>'\n",
              "            + ' to learn more about interactive tables.';\n",
              "          element.innerHTML = '';\n",
              "          dataTable['output_type'] = 'display_data';\n",
              "          await google.colab.output.renderOutput(dataTable, element);\n",
              "          const docLink = document.createElement('div');\n",
              "          docLink.innerHTML = docLinkHtml;\n",
              "          element.appendChild(docLink);\n",
              "        }\n",
              "      </script>\n",
              "    </div>\n",
              "  </div>\n",
              "  "
            ]
          },
          "metadata": {},
          "execution_count": 143
        }
      ]
    },
    {
      "cell_type": "code",
      "source": [
        "Pre = Pre[['ที่', 'สถานี', '1', '2', '3', '4', '5', '6', '7', '8', '9',\n",
        "       '10', '11', '12', '13', '14', '15', '16', '17', '18', '19', '20', '21',\n",
        "       '22', '23', '24', '25', '26', '27', '28', '29', '30', '31',\n",
        "       'เดือน', 'ปี','จังหวัด']]"
      ],
      "metadata": {
        "id": "z78gKBJAi4Qz"
      },
      "execution_count": 144,
      "outputs": []
    },
    {
      "cell_type": "markdown",
      "source": [
        "###ทดลอง 1 จังหวัด"
      ],
      "metadata": {
        "id": "xFu4xfUrz00A"
      }
    },
    {
      "cell_type": "code",
      "source": [
        "#pkkc = pd.read_excel('/content/drive/MyDrive/data/อุตุ/ความกด/Copy of จ.ขอนแก่น.xlsx',sheet_name='Sheet1',skiprows=3).rename(columns={ 'วันที่':'1','Unnamed: 4':'2', 'Unnamed: 5':'3',\n",
        "      # 'Unnamed: 6':'4', 'Unnamed: 7':'5', 'Unnamed: 8':'6', 'Unnamed: 9':'7', 'Unnamed: 10':'8',\n",
        "      # 'Unnamed: 11':'9', 'Unnamed: 12':'10', 'Unnamed: 13':'11', 'Unnamed: 14':'12',\n",
        "     #'Unnamed: 15':'13', 'Unnamed: 16':'14', 'Unnamed: 17':'15', 'Unnamed: 18':\"16\",\n",
        "      # 'Unnamed: 19':'17', 'Unnamed: 20':'18', 'Unnamed: 21':'19', 'Unnamed: 22':'20',\n",
        "      # 'Unnamed: 23':'21', 'Unnamed: 24':'22', 'Unnamed: 25':'23', 'Unnamed: 26':'24',\n",
        "      # 'Unnamed: 27':'25', 'Unnamed: 28':'26', 'Unnamed: 29':'27', 'Unnamed: 30':'28',\n",
        "      # 'Unnamed: 31':'29', 'Unnamed: 32':'30', 'Unnamed: 33':'31'})\n",
        "#pkkc = pkkc.iloc[1:]\n",
        "#pkkc['เดือน'] = pkkc['เดือน/ปี'].dt.month\n",
        "#pkkc['ปี'] = pkkc['เดือน/ปี'].dt.year\n",
        "#pkkc.head()"
      ],
      "metadata": {
        "id": "1XwllVEAz3FB"
      },
      "execution_count": 145,
      "outputs": []
    },
    {
      "cell_type": "code",
      "source": [
        "#pkkc1 = pkkc.iloc[0:,3:34]\n",
        "#pkkc2 = pkkc.iloc[0:,3:37]"
      ],
      "metadata": {
        "id": "cJscoOxx0K7n"
      },
      "execution_count": 146,
      "outputs": []
    },
    {
      "cell_type": "code",
      "source": [
        "#pkkcl = list()\n",
        "#for index, row in pkkc2.iterrows():\n",
        " # for i in range(1,32):\n",
        "  #  #print(f'วันที่ ',i,'เดือนที่ ',row['เดือน'],' ปีที่ ', row['ปี'],'ความกด -> ',row[i-1])\n",
        "   # pkkcl.append(row[i-1])"
      ],
      "metadata": {
        "id": "pZOEmiyp0OG_"
      },
      "execution_count": 147,
      "outputs": []
    },
    {
      "cell_type": "markdown",
      "source": [
        "ทำทุกจังหวัด"
      ],
      "metadata": {
        "id": "Zu1faEuBx1MC"
      }
    },
    {
      "cell_type": "code",
      "source": [
        "Pl = list()\n",
        "for index, row in Pre.iterrows():\n",
        "  for i in range(1,32): # เริ่มที่ 1 - 32\n",
        "    #print(f'วันที่ ',i,'เดือนที่ ',row['เดือน'],' ปีที่ ', row['ปี'],'ความเร็วลม -> ',row[i+1], row['จังหวัด'])\n",
        "    Pl.append([row['จังหวัด'],'วันที่ ',i,'เดือนที่ ',row['เดือน'],' ปีที่ ', row['ปี'],'ความกด',row[i+1]]) # [i-1] = -1 เพราะให้เริ่ม 0,31 แทน ในตอนดึงตอลัมน์\n",
        "Predf = pd.DataFrame(Pl)\n",
        "Predf = Predf.rename(columns={0:'จังหวัด',2:'วันที่',4:'เดือนที่',6:'ปีที่',8:'ความกด'})\n",
        "Predf.drop([1,3,5,7], 1, inplace=True)\n",
        "Predf"
      ],
      "metadata": {
        "id": "Gs8-xanUVSlC",
        "outputId": "2e11f925-3d78-4a2d-8e5d-27960b2708e4",
        "colab": {
          "base_uri": "https://localhost:8080/",
          "height": 458
        }
      },
      "execution_count": 148,
      "outputs": [
        {
          "output_type": "stream",
          "name": "stderr",
          "text": [
            "<ipython-input-148-6abd722a374f>:8: FutureWarning: In a future version of pandas all arguments of DataFrame.drop except for the argument 'labels' will be keyword-only\n",
            "  Predf.drop([1,3,5,7], 1, inplace=True)\n"
          ]
        },
        {
          "output_type": "execute_result",
          "data": {
            "text/plain": [
              "      จังหวัด  วันที่  เดือนที่  ปีที่   ความกด\n",
              "0     ขอนแก่น       1        10   2011  1005.47\n",
              "1     ขอนแก่น       2        10   2011  1006.65\n",
              "2     ขอนแก่น       3        10   2011  1007.49\n",
              "3     ขอนแก่น       4        10   2011  1008.28\n",
              "4     ขอนแก่น       5        10   2011  1009.88\n",
              "...       ...     ...       ...    ...      ...\n",
              "8520      เลย      27         2   2022  1014.97\n",
              "8521      เลย      28         2   2022  1012.88\n",
              "8522      เลย      29         2   2022        -\n",
              "8523      เลย      30         2   2022        -\n",
              "8524      เลย      31         2   2022        -\n",
              "\n",
              "[8525 rows x 5 columns]"
            ],
            "text/html": [
              "\n",
              "  <div id=\"df-7e9d51e1-6aee-4dff-990c-87d2175cf3be\">\n",
              "    <div class=\"colab-df-container\">\n",
              "      <div>\n",
              "<style scoped>\n",
              "    .dataframe tbody tr th:only-of-type {\n",
              "        vertical-align: middle;\n",
              "    }\n",
              "\n",
              "    .dataframe tbody tr th {\n",
              "        vertical-align: top;\n",
              "    }\n",
              "\n",
              "    .dataframe thead th {\n",
              "        text-align: right;\n",
              "    }\n",
              "</style>\n",
              "<table border=\"1\" class=\"dataframe\">\n",
              "  <thead>\n",
              "    <tr style=\"text-align: right;\">\n",
              "      <th></th>\n",
              "      <th>จังหวัด</th>\n",
              "      <th>วันที่</th>\n",
              "      <th>เดือนที่</th>\n",
              "      <th>ปีที่</th>\n",
              "      <th>ความกด</th>\n",
              "    </tr>\n",
              "  </thead>\n",
              "  <tbody>\n",
              "    <tr>\n",
              "      <th>0</th>\n",
              "      <td>ขอนแก่น</td>\n",
              "      <td>1</td>\n",
              "      <td>10</td>\n",
              "      <td>2011</td>\n",
              "      <td>1005.47</td>\n",
              "    </tr>\n",
              "    <tr>\n",
              "      <th>1</th>\n",
              "      <td>ขอนแก่น</td>\n",
              "      <td>2</td>\n",
              "      <td>10</td>\n",
              "      <td>2011</td>\n",
              "      <td>1006.65</td>\n",
              "    </tr>\n",
              "    <tr>\n",
              "      <th>2</th>\n",
              "      <td>ขอนแก่น</td>\n",
              "      <td>3</td>\n",
              "      <td>10</td>\n",
              "      <td>2011</td>\n",
              "      <td>1007.49</td>\n",
              "    </tr>\n",
              "    <tr>\n",
              "      <th>3</th>\n",
              "      <td>ขอนแก่น</td>\n",
              "      <td>4</td>\n",
              "      <td>10</td>\n",
              "      <td>2011</td>\n",
              "      <td>1008.28</td>\n",
              "    </tr>\n",
              "    <tr>\n",
              "      <th>4</th>\n",
              "      <td>ขอนแก่น</td>\n",
              "      <td>5</td>\n",
              "      <td>10</td>\n",
              "      <td>2011</td>\n",
              "      <td>1009.88</td>\n",
              "    </tr>\n",
              "    <tr>\n",
              "      <th>...</th>\n",
              "      <td>...</td>\n",
              "      <td>...</td>\n",
              "      <td>...</td>\n",
              "      <td>...</td>\n",
              "      <td>...</td>\n",
              "    </tr>\n",
              "    <tr>\n",
              "      <th>8520</th>\n",
              "      <td>เลย</td>\n",
              "      <td>27</td>\n",
              "      <td>2</td>\n",
              "      <td>2022</td>\n",
              "      <td>1014.97</td>\n",
              "    </tr>\n",
              "    <tr>\n",
              "      <th>8521</th>\n",
              "      <td>เลย</td>\n",
              "      <td>28</td>\n",
              "      <td>2</td>\n",
              "      <td>2022</td>\n",
              "      <td>1012.88</td>\n",
              "    </tr>\n",
              "    <tr>\n",
              "      <th>8522</th>\n",
              "      <td>เลย</td>\n",
              "      <td>29</td>\n",
              "      <td>2</td>\n",
              "      <td>2022</td>\n",
              "      <td>-</td>\n",
              "    </tr>\n",
              "    <tr>\n",
              "      <th>8523</th>\n",
              "      <td>เลย</td>\n",
              "      <td>30</td>\n",
              "      <td>2</td>\n",
              "      <td>2022</td>\n",
              "      <td>-</td>\n",
              "    </tr>\n",
              "    <tr>\n",
              "      <th>8524</th>\n",
              "      <td>เลย</td>\n",
              "      <td>31</td>\n",
              "      <td>2</td>\n",
              "      <td>2022</td>\n",
              "      <td>-</td>\n",
              "    </tr>\n",
              "  </tbody>\n",
              "</table>\n",
              "<p>8525 rows × 5 columns</p>\n",
              "</div>\n",
              "      <button class=\"colab-df-convert\" onclick=\"convertToInteractive('df-7e9d51e1-6aee-4dff-990c-87d2175cf3be')\"\n",
              "              title=\"Convert this dataframe to an interactive table.\"\n",
              "              style=\"display:none;\">\n",
              "        \n",
              "  <svg xmlns=\"http://www.w3.org/2000/svg\" height=\"24px\"viewBox=\"0 0 24 24\"\n",
              "       width=\"24px\">\n",
              "    <path d=\"M0 0h24v24H0V0z\" fill=\"none\"/>\n",
              "    <path d=\"M18.56 5.44l.94 2.06.94-2.06 2.06-.94-2.06-.94-.94-2.06-.94 2.06-2.06.94zm-11 1L8.5 8.5l.94-2.06 2.06-.94-2.06-.94L8.5 2.5l-.94 2.06-2.06.94zm10 10l.94 2.06.94-2.06 2.06-.94-2.06-.94-.94-2.06-.94 2.06-2.06.94z\"/><path d=\"M17.41 7.96l-1.37-1.37c-.4-.4-.92-.59-1.43-.59-.52 0-1.04.2-1.43.59L10.3 9.45l-7.72 7.72c-.78.78-.78 2.05 0 2.83L4 21.41c.39.39.9.59 1.41.59.51 0 1.02-.2 1.41-.59l7.78-7.78 2.81-2.81c.8-.78.8-2.07 0-2.86zM5.41 20L4 18.59l7.72-7.72 1.47 1.35L5.41 20z\"/>\n",
              "  </svg>\n",
              "      </button>\n",
              "      \n",
              "  <style>\n",
              "    .colab-df-container {\n",
              "      display:flex;\n",
              "      flex-wrap:wrap;\n",
              "      gap: 12px;\n",
              "    }\n",
              "\n",
              "    .colab-df-convert {\n",
              "      background-color: #E8F0FE;\n",
              "      border: none;\n",
              "      border-radius: 50%;\n",
              "      cursor: pointer;\n",
              "      display: none;\n",
              "      fill: #1967D2;\n",
              "      height: 32px;\n",
              "      padding: 0 0 0 0;\n",
              "      width: 32px;\n",
              "    }\n",
              "\n",
              "    .colab-df-convert:hover {\n",
              "      background-color: #E2EBFA;\n",
              "      box-shadow: 0px 1px 2px rgba(60, 64, 67, 0.3), 0px 1px 3px 1px rgba(60, 64, 67, 0.15);\n",
              "      fill: #174EA6;\n",
              "    }\n",
              "\n",
              "    [theme=dark] .colab-df-convert {\n",
              "      background-color: #3B4455;\n",
              "      fill: #D2E3FC;\n",
              "    }\n",
              "\n",
              "    [theme=dark] .colab-df-convert:hover {\n",
              "      background-color: #434B5C;\n",
              "      box-shadow: 0px 1px 3px 1px rgba(0, 0, 0, 0.15);\n",
              "      filter: drop-shadow(0px 1px 2px rgba(0, 0, 0, 0.3));\n",
              "      fill: #FFFFFF;\n",
              "    }\n",
              "  </style>\n",
              "\n",
              "      <script>\n",
              "        const buttonEl =\n",
              "          document.querySelector('#df-7e9d51e1-6aee-4dff-990c-87d2175cf3be button.colab-df-convert');\n",
              "        buttonEl.style.display =\n",
              "          google.colab.kernel.accessAllowed ? 'block' : 'none';\n",
              "\n",
              "        async function convertToInteractive(key) {\n",
              "          const element = document.querySelector('#df-7e9d51e1-6aee-4dff-990c-87d2175cf3be');\n",
              "          const dataTable =\n",
              "            await google.colab.kernel.invokeFunction('convertToInteractive',\n",
              "                                                     [key], {});\n",
              "          if (!dataTable) return;\n",
              "\n",
              "          const docLinkHtml = 'Like what you see? Visit the ' +\n",
              "            '<a target=\"_blank\" href=https://colab.research.google.com/notebooks/data_table.ipynb>data table notebook</a>'\n",
              "            + ' to learn more about interactive tables.';\n",
              "          element.innerHTML = '';\n",
              "          dataTable['output_type'] = 'display_data';\n",
              "          await google.colab.output.renderOutput(dataTable, element);\n",
              "          const docLink = document.createElement('div');\n",
              "          docLink.innerHTML = docLinkHtml;\n",
              "          element.appendChild(docLink);\n",
              "        }\n",
              "      </script>\n",
              "    </div>\n",
              "  </div>\n",
              "  "
            ]
          },
          "metadata": {},
          "execution_count": 148
        }
      ]
    },
    {
      "cell_type": "markdown",
      "source": [
        "##อุณหภูมิตุ้ม"
      ],
      "metadata": {
        "id": "E-Y1k0B0yqCv"
      }
    },
    {
      "cell_type": "code",
      "source": [
        "tkkc = pd.read_excel('//content/drive/MyDrive/data/อุตุ/อุณหภูิตุ้มแห้ง/Copy of จ.ขอนแก่น.xlsx',sheet_name='Sheet1',skiprows=3)\n",
        "tnkp = pd.read_excel('/content/drive/MyDrive/data/อุตุ/อุณหภูิตุ้มแห้ง/Copy of จ.นครพนม.xlsx',sheet_name='Sheet1',skiprows=3)\n",
        "tsk = pd.read_excel('/content/drive/MyDrive/data/อุตุ/อุณหภูิตุ้มแห้ง/Copy of จ.สกล.xlsx',sheet_name='Sheet1',skiprows=3)\n",
        "tnk = pd.read_excel('/content/drive/MyDrive/data/อุตุ/อุณหภูิตุ้มแห้ง/Copy of จ.หนองคาย.xlsx',sheet_name='Sheet1',skiprows=3)\n",
        "tl = pd.read_excel('/content/drive/MyDrive/data/อุตุ/อุณหภูิตุ้มแห้ง/Copy of จ.เลย.xlsx',sheet_name='Sheet1',skiprows=3)\n"
      ],
      "metadata": {
        "id": "1u712rf_yyvc"
      },
      "execution_count": 149,
      "outputs": []
    },
    {
      "cell_type": "code",
      "source": [
        "tkkc['จังหวัด'] = 'ขอนแก่น' #เพิ่มคอลัมน์จังหวัด\n",
        "tnkp['จังหวัด'] = 'นครพนม'\n",
        "tsk['จังหวัด'] = 'สกลนคร'\n",
        "tnk['จังหวัด'] = 'หนองคาย'\n",
        "tl['จังหวัด'] = 'เลย'\n",
        "\n",
        "tkkc = tkkc.rename(columns={ 'วันที่':'1','Unnamed: 4':'2', 'Unnamed: 5':'3',\n",
        "       'Unnamed: 6':'4', 'Unnamed: 7':'5', 'Unnamed: 8':'6', 'Unnamed: 9':'7', 'Unnamed: 10':'8',\n",
        "       'Unnamed: 11':'9', 'Unnamed: 12':'10', 'Unnamed: 13':'11', 'Unnamed: 14':'12',\n",
        "       'Unnamed: 15':'13', 'Unnamed: 16':'14', 'Unnamed: 17':'15', 'Unnamed: 18':\"16\",\n",
        "       'Unnamed: 19':'17', 'Unnamed: 20':'18', 'Unnamed: 21':'19', 'Unnamed: 22':'20',\n",
        "       'Unnamed: 23':'21', 'Unnamed: 24':'22', 'Unnamed: 25':'23', 'Unnamed: 26':'24',\n",
        "       'Unnamed: 27':'25', 'Unnamed: 28':'26', 'Unnamed: 29':'27', 'Unnamed: 30':'28',\n",
        "       'Unnamed: 31':'29', 'Unnamed: 32':'30', 'Unnamed: 33':'31'})\n",
        "tkkc = tkkc.iloc[1:]\n",
        "tnkp = tnkp.rename(columns={ 'วันที่':'1','Unnamed: 4':'2', 'Unnamed: 5':'3',\n",
        "       'Unnamed: 6':'4', 'Unnamed: 7':'5', 'Unnamed: 8':'6', 'Unnamed: 9':'7', 'Unnamed: 10':'8',\n",
        "       'Unnamed: 11':'9', 'Unnamed: 12':'10', 'Unnamed: 13':'11', 'Unnamed: 14':'12',\n",
        "       'Unnamed: 15':'13', 'Unnamed: 16':'14', 'Unnamed: 17':'15', 'Unnamed: 18':\"16\",\n",
        "       'Unnamed: 19':'17', 'Unnamed: 20':'18', 'Unnamed: 21':'19', 'Unnamed: 22':'20',\n",
        "       'Unnamed: 23':'21', 'Unnamed: 24':'22', 'Unnamed: 25':'23', 'Unnamed: 26':'24',\n",
        "       'Unnamed: 27':'25', 'Unnamed: 28':'26', 'Unnamed: 29':'27', 'Unnamed: 30':'28',\n",
        "       'Unnamed: 31':'29', 'Unnamed: 32':'30', 'Unnamed: 33':'31'})\n",
        "tnkp = tnkp.iloc[1:]\n",
        "tsk = tsk.rename(columns={ 'วันที่':'1','Unnamed: 4':'2', 'Unnamed: 5':'3',\n",
        "       'Unnamed: 6':'4', 'Unnamed: 7':'5', 'Unnamed: 8':'6', 'Unnamed: 9':'7', 'Unnamed: 10':'8',\n",
        "       'Unnamed: 11':'9', 'Unnamed: 12':'10', 'Unnamed: 13':'11', 'Unnamed: 14':'12',\n",
        "       'Unnamed: 15':'13', 'Unnamed: 16':'14', 'Unnamed: 17':'15', 'Unnamed: 18':\"16\",\n",
        "       'Unnamed: 19':'17', 'Unnamed: 20':'18', 'Unnamed: 21':'19', 'Unnamed: 22':'20',\n",
        "       'Unnamed: 23':'21', 'Unnamed: 24':'22', 'Unnamed: 25':'23', 'Unnamed: 26':'24',\n",
        "       'Unnamed: 27':'25', 'Unnamed: 28':'26', 'Unnamed: 29':'27', 'Unnamed: 30':'28',\n",
        "       'Unnamed: 31':'29', 'Unnamed: 32':'30', 'Unnamed: 33':'31'})\n",
        "tsk = tsk.iloc[1:]\n",
        "tnk = tnk.rename(columns={ 'วันที่':'1','Unnamed: 4':'2', 'Unnamed: 5':'3',\n",
        "       'Unnamed: 6':'4', 'Unnamed: 7':'5', 'Unnamed: 8':'6', 'Unnamed: 9':'7', 'Unnamed: 10':'8',\n",
        "       'Unnamed: 11':'9', 'Unnamed: 12':'10', 'Unnamed: 13':'11', 'Unnamed: 14':'12',\n",
        "       'Unnamed: 15':'13', 'Unnamed: 16':'14', 'Unnamed: 17':'15', 'Unnamed: 18':\"16\",\n",
        "       'Unnamed: 19':'17', 'Unnamed: 20':'18', 'Unnamed: 21':'19', 'Unnamed: 22':'20',\n",
        "       'Unnamed: 23':'21', 'Unnamed: 24':'22', 'Unnamed: 25':'23', 'Unnamed: 26':'24',\n",
        "       'Unnamed: 27':'25', 'Unnamed: 28':'26', 'Unnamed: 29':'27', 'Unnamed: 30':'28',\n",
        "       'Unnamed: 31':'29', 'Unnamed: 32':'30', 'Unnamed: 33':'31'})\n",
        "tnk = tnk.iloc[1:]\n",
        "tl = tl.rename(columns={ 'วันที่':'1','Unnamed: 4':'2', 'Unnamed: 5':'3',\n",
        "       'Unnamed: 6':'4', 'Unnamed: 7':'5', 'Unnamed: 8':'6', 'Unnamed: 9':'7', 'Unnamed: 10':'8',\n",
        "       'Unnamed: 11':'9', 'Unnamed: 12':'10', 'Unnamed: 13':'11', 'Unnamed: 14':'12',\n",
        "       'Unnamed: 15':'13', 'Unnamed: 16':'14', 'Unnamed: 17':'15', 'Unnamed: 18':\"16\",\n",
        "       'Unnamed: 19':'17', 'Unnamed: 20':'18', 'Unnamed: 21':'19', 'Unnamed: 22':'20',\n",
        "       'Unnamed: 23':'21', 'Unnamed: 24':'22', 'Unnamed: 25':'23', 'Unnamed: 26':'24',\n",
        "       'Unnamed: 27':'25', 'Unnamed: 28':'26', 'Unnamed: 29':'27', 'Unnamed: 30':'28',\n",
        "       'Unnamed: 31':'29', 'Unnamed: 32':'30', 'Unnamed: 33':'31'})\n",
        "tl = tl.iloc[1:]"
      ],
      "metadata": {
        "id": "jpeKMFbgj8Tc"
      },
      "execution_count": 150,
      "outputs": []
    },
    {
      "cell_type": "markdown",
      "source": [
        "###Concat df"
      ],
      "metadata": {
        "id": "bBXE51xfkHiU"
      }
    },
    {
      "cell_type": "code",
      "source": [
        "tt = pd.concat([tkkc,tnkp,tsk,tnk,tl])\n",
        "tt.shape"
      ],
      "metadata": {
        "colab": {
          "base_uri": "https://localhost:8080/"
        },
        "id": "36PAyHLAkLGK",
        "outputId": "7e23c3b7-502d-4f35-85ca-a44c4e449ac9"
      },
      "execution_count": 151,
      "outputs": [
        {
          "output_type": "execute_result",
          "data": {
            "text/plain": [
              "(270, 36)"
            ]
          },
          "metadata": {},
          "execution_count": 151
        }
      ]
    },
    {
      "cell_type": "markdown",
      "source": [
        "### ดึงเดือน กับ ปี แยกคอลัมน์"
      ],
      "metadata": {
        "id": "DEke9FgAl_wT"
      }
    },
    {
      "cell_type": "code",
      "source": [
        "tt['เดือน'] = tt['เดือน/ปี'].dt.month\n",
        "tt['ปี'] = tt['เดือน/ปี'].dt.year\n",
        "del tt['เดือน/ปี']\n",
        "tt.head()"
      ],
      "metadata": {
        "colab": {
          "base_uri": "https://localhost:8080/",
          "height": 235
        },
        "id": "uGgGKc3Pks08",
        "outputId": "1f70cc73-80b7-4fc3-c6ac-9d1eb5bcf450"
      },
      "execution_count": 152,
      "outputs": [
        {
          "output_type": "execute_result",
          "data": {
            "text/plain": [
              "   ที่                     สถานี     1     2     3     4     5     6     7  \\\n",
              "1  1    381201-ขอนแก่น จ.ขอนแก่น  27.6  25.6  25.6  25.8  24.3  24.0  25.1   \n",
              "2  2    381201-ขอนแก่น จ.ขอนแก่น  26.3  26.3  26.3  26.6  26.8  27.5  27.9   \n",
              "3  3    381201-ขอนแก่น จ.ขอนแก่น  25.4  23.9  21.3  22.3  23.0  25.6  25.4   \n",
              "4  1    381201-ขอนแก่น จ.ขอนแก่น  23.8  24.5  25.0  24.8  22.8  23.4  23.1   \n",
              "5  2    381201-ขอนแก่น จ.ขอนแก่น  23.9  25.4  25.3  24.8  27.2  28.2  28.3   \n",
              "\n",
              "      8  ...    26    27    28    29    30    31  เฉลี่ย  จังหวัด  เดือน    ปี  \n",
              "1  27.0  ...  27.2  27.3  26.9  26.3  25.8  26.2    26.2  ขอนแก่น     10  2011  \n",
              "2  28.0  ...  25.5  26.1  26.2    26    26     -    25.8  ขอนแก่น     11  2011  \n",
              "3  25.7  ...  18.3  20.4  23.5  23.7  24.2  24.1    22.4  ขอนแก่น     12  2011  \n",
              "4  22.6  ...  22.1  24.6  26.3  25.6  25.3    23    24.4  ขอนแก่น      1  2012  \n",
              "5  26.4  ...  29.2  28.2  27.5  28.5     -     -    26.5  ขอนแก่น      2  2012  \n",
              "\n",
              "[5 rows x 37 columns]"
            ],
            "text/html": [
              "\n",
              "  <div id=\"df-103452ad-098f-4a5f-8307-189eb3f4f3ad\">\n",
              "    <div class=\"colab-df-container\">\n",
              "      <div>\n",
              "<style scoped>\n",
              "    .dataframe tbody tr th:only-of-type {\n",
              "        vertical-align: middle;\n",
              "    }\n",
              "\n",
              "    .dataframe tbody tr th {\n",
              "        vertical-align: top;\n",
              "    }\n",
              "\n",
              "    .dataframe thead th {\n",
              "        text-align: right;\n",
              "    }\n",
              "</style>\n",
              "<table border=\"1\" class=\"dataframe\">\n",
              "  <thead>\n",
              "    <tr style=\"text-align: right;\">\n",
              "      <th></th>\n",
              "      <th>ที่</th>\n",
              "      <th>สถานี</th>\n",
              "      <th>1</th>\n",
              "      <th>2</th>\n",
              "      <th>3</th>\n",
              "      <th>4</th>\n",
              "      <th>5</th>\n",
              "      <th>6</th>\n",
              "      <th>7</th>\n",
              "      <th>8</th>\n",
              "      <th>...</th>\n",
              "      <th>26</th>\n",
              "      <th>27</th>\n",
              "      <th>28</th>\n",
              "      <th>29</th>\n",
              "      <th>30</th>\n",
              "      <th>31</th>\n",
              "      <th>เฉลี่ย</th>\n",
              "      <th>จังหวัด</th>\n",
              "      <th>เดือน</th>\n",
              "      <th>ปี</th>\n",
              "    </tr>\n",
              "  </thead>\n",
              "  <tbody>\n",
              "    <tr>\n",
              "      <th>1</th>\n",
              "      <td>1</td>\n",
              "      <td>381201-ขอนแก่น จ.ขอนแก่น</td>\n",
              "      <td>27.6</td>\n",
              "      <td>25.6</td>\n",
              "      <td>25.6</td>\n",
              "      <td>25.8</td>\n",
              "      <td>24.3</td>\n",
              "      <td>24.0</td>\n",
              "      <td>25.1</td>\n",
              "      <td>27.0</td>\n",
              "      <td>...</td>\n",
              "      <td>27.2</td>\n",
              "      <td>27.3</td>\n",
              "      <td>26.9</td>\n",
              "      <td>26.3</td>\n",
              "      <td>25.8</td>\n",
              "      <td>26.2</td>\n",
              "      <td>26.2</td>\n",
              "      <td>ขอนแก่น</td>\n",
              "      <td>10</td>\n",
              "      <td>2011</td>\n",
              "    </tr>\n",
              "    <tr>\n",
              "      <th>2</th>\n",
              "      <td>2</td>\n",
              "      <td>381201-ขอนแก่น จ.ขอนแก่น</td>\n",
              "      <td>26.3</td>\n",
              "      <td>26.3</td>\n",
              "      <td>26.3</td>\n",
              "      <td>26.6</td>\n",
              "      <td>26.8</td>\n",
              "      <td>27.5</td>\n",
              "      <td>27.9</td>\n",
              "      <td>28.0</td>\n",
              "      <td>...</td>\n",
              "      <td>25.5</td>\n",
              "      <td>26.1</td>\n",
              "      <td>26.2</td>\n",
              "      <td>26</td>\n",
              "      <td>26</td>\n",
              "      <td>-</td>\n",
              "      <td>25.8</td>\n",
              "      <td>ขอนแก่น</td>\n",
              "      <td>11</td>\n",
              "      <td>2011</td>\n",
              "    </tr>\n",
              "    <tr>\n",
              "      <th>3</th>\n",
              "      <td>3</td>\n",
              "      <td>381201-ขอนแก่น จ.ขอนแก่น</td>\n",
              "      <td>25.4</td>\n",
              "      <td>23.9</td>\n",
              "      <td>21.3</td>\n",
              "      <td>22.3</td>\n",
              "      <td>23.0</td>\n",
              "      <td>25.6</td>\n",
              "      <td>25.4</td>\n",
              "      <td>25.7</td>\n",
              "      <td>...</td>\n",
              "      <td>18.3</td>\n",
              "      <td>20.4</td>\n",
              "      <td>23.5</td>\n",
              "      <td>23.7</td>\n",
              "      <td>24.2</td>\n",
              "      <td>24.1</td>\n",
              "      <td>22.4</td>\n",
              "      <td>ขอนแก่น</td>\n",
              "      <td>12</td>\n",
              "      <td>2011</td>\n",
              "    </tr>\n",
              "    <tr>\n",
              "      <th>4</th>\n",
              "      <td>1</td>\n",
              "      <td>381201-ขอนแก่น จ.ขอนแก่น</td>\n",
              "      <td>23.8</td>\n",
              "      <td>24.5</td>\n",
              "      <td>25.0</td>\n",
              "      <td>24.8</td>\n",
              "      <td>22.8</td>\n",
              "      <td>23.4</td>\n",
              "      <td>23.1</td>\n",
              "      <td>22.6</td>\n",
              "      <td>...</td>\n",
              "      <td>22.1</td>\n",
              "      <td>24.6</td>\n",
              "      <td>26.3</td>\n",
              "      <td>25.6</td>\n",
              "      <td>25.3</td>\n",
              "      <td>23</td>\n",
              "      <td>24.4</td>\n",
              "      <td>ขอนแก่น</td>\n",
              "      <td>1</td>\n",
              "      <td>2012</td>\n",
              "    </tr>\n",
              "    <tr>\n",
              "      <th>5</th>\n",
              "      <td>2</td>\n",
              "      <td>381201-ขอนแก่น จ.ขอนแก่น</td>\n",
              "      <td>23.9</td>\n",
              "      <td>25.4</td>\n",
              "      <td>25.3</td>\n",
              "      <td>24.8</td>\n",
              "      <td>27.2</td>\n",
              "      <td>28.2</td>\n",
              "      <td>28.3</td>\n",
              "      <td>26.4</td>\n",
              "      <td>...</td>\n",
              "      <td>29.2</td>\n",
              "      <td>28.2</td>\n",
              "      <td>27.5</td>\n",
              "      <td>28.5</td>\n",
              "      <td>-</td>\n",
              "      <td>-</td>\n",
              "      <td>26.5</td>\n",
              "      <td>ขอนแก่น</td>\n",
              "      <td>2</td>\n",
              "      <td>2012</td>\n",
              "    </tr>\n",
              "  </tbody>\n",
              "</table>\n",
              "<p>5 rows × 37 columns</p>\n",
              "</div>\n",
              "      <button class=\"colab-df-convert\" onclick=\"convertToInteractive('df-103452ad-098f-4a5f-8307-189eb3f4f3ad')\"\n",
              "              title=\"Convert this dataframe to an interactive table.\"\n",
              "              style=\"display:none;\">\n",
              "        \n",
              "  <svg xmlns=\"http://www.w3.org/2000/svg\" height=\"24px\"viewBox=\"0 0 24 24\"\n",
              "       width=\"24px\">\n",
              "    <path d=\"M0 0h24v24H0V0z\" fill=\"none\"/>\n",
              "    <path d=\"M18.56 5.44l.94 2.06.94-2.06 2.06-.94-2.06-.94-.94-2.06-.94 2.06-2.06.94zm-11 1L8.5 8.5l.94-2.06 2.06-.94-2.06-.94L8.5 2.5l-.94 2.06-2.06.94zm10 10l.94 2.06.94-2.06 2.06-.94-2.06-.94-.94-2.06-.94 2.06-2.06.94z\"/><path d=\"M17.41 7.96l-1.37-1.37c-.4-.4-.92-.59-1.43-.59-.52 0-1.04.2-1.43.59L10.3 9.45l-7.72 7.72c-.78.78-.78 2.05 0 2.83L4 21.41c.39.39.9.59 1.41.59.51 0 1.02-.2 1.41-.59l7.78-7.78 2.81-2.81c.8-.78.8-2.07 0-2.86zM5.41 20L4 18.59l7.72-7.72 1.47 1.35L5.41 20z\"/>\n",
              "  </svg>\n",
              "      </button>\n",
              "      \n",
              "  <style>\n",
              "    .colab-df-container {\n",
              "      display:flex;\n",
              "      flex-wrap:wrap;\n",
              "      gap: 12px;\n",
              "    }\n",
              "\n",
              "    .colab-df-convert {\n",
              "      background-color: #E8F0FE;\n",
              "      border: none;\n",
              "      border-radius: 50%;\n",
              "      cursor: pointer;\n",
              "      display: none;\n",
              "      fill: #1967D2;\n",
              "      height: 32px;\n",
              "      padding: 0 0 0 0;\n",
              "      width: 32px;\n",
              "    }\n",
              "\n",
              "    .colab-df-convert:hover {\n",
              "      background-color: #E2EBFA;\n",
              "      box-shadow: 0px 1px 2px rgba(60, 64, 67, 0.3), 0px 1px 3px 1px rgba(60, 64, 67, 0.15);\n",
              "      fill: #174EA6;\n",
              "    }\n",
              "\n",
              "    [theme=dark] .colab-df-convert {\n",
              "      background-color: #3B4455;\n",
              "      fill: #D2E3FC;\n",
              "    }\n",
              "\n",
              "    [theme=dark] .colab-df-convert:hover {\n",
              "      background-color: #434B5C;\n",
              "      box-shadow: 0px 1px 3px 1px rgba(0, 0, 0, 0.15);\n",
              "      filter: drop-shadow(0px 1px 2px rgba(0, 0, 0, 0.3));\n",
              "      fill: #FFFFFF;\n",
              "    }\n",
              "  </style>\n",
              "\n",
              "      <script>\n",
              "        const buttonEl =\n",
              "          document.querySelector('#df-103452ad-098f-4a5f-8307-189eb3f4f3ad button.colab-df-convert');\n",
              "        buttonEl.style.display =\n",
              "          google.colab.kernel.accessAllowed ? 'block' : 'none';\n",
              "\n",
              "        async function convertToInteractive(key) {\n",
              "          const element = document.querySelector('#df-103452ad-098f-4a5f-8307-189eb3f4f3ad');\n",
              "          const dataTable =\n",
              "            await google.colab.kernel.invokeFunction('convertToInteractive',\n",
              "                                                     [key], {});\n",
              "          if (!dataTable) return;\n",
              "\n",
              "          const docLinkHtml = 'Like what you see? Visit the ' +\n",
              "            '<a target=\"_blank\" href=https://colab.research.google.com/notebooks/data_table.ipynb>data table notebook</a>'\n",
              "            + ' to learn more about interactive tables.';\n",
              "          element.innerHTML = '';\n",
              "          dataTable['output_type'] = 'display_data';\n",
              "          await google.colab.output.renderOutput(dataTable, element);\n",
              "          const docLink = document.createElement('div');\n",
              "          docLink.innerHTML = docLinkHtml;\n",
              "          element.appendChild(docLink);\n",
              "        }\n",
              "      </script>\n",
              "    </div>\n",
              "  </div>\n",
              "  "
            ]
          },
          "metadata": {},
          "execution_count": 152
        }
      ]
    },
    {
      "cell_type": "code",
      "source": [
        "tt = tt[['ที่', 'สถานี', '1', '2', '3', '4', '5', '6', '7', '8', '9',\n",
        "       '10', '11', '12', '13', '14', '15', '16', '17', '18', '19', '20', '21',\n",
        "       '22', '23', '24', '25', '26', '27', '28', '29', '30', '31',\n",
        "       'เดือน', 'ปี','จังหวัด']]"
      ],
      "metadata": {
        "id": "yo9D4UcFkxEb"
      },
      "execution_count": 153,
      "outputs": []
    },
    {
      "cell_type": "markdown",
      "source": [
        "ทำทุกจังหวัด\n"
      ],
      "metadata": {
        "id": "o7tswL8q0pA7"
      }
    },
    {
      "cell_type": "code",
      "source": [
        "TTL = list()\n",
        "for index, row in tt.iterrows():\n",
        "  for i in range(1,32): # เริ่มที่ 1 - 32\n",
        "    #print(f'วันที่ ',i,'เดือนที่ ',row['เดือน'],' ปีที่ ', row['ปี'],'ความเร็วลม -> ',row[i+1], row['จังหวัด'])\n",
        "    TTL.append([row['จังหวัด'],'วันที่ ',i,'เดือนที่ ',row['เดือน'],' ปีที่ ', row['ปี'],'อุณหภูมิตุ้ม',row[i+1]]) # [i-1] = -1 เพราะให้เริ่ม 0,31 แทน ในตอนดึงตอลัมน์\n",
        "TTldf = pd.DataFrame(TTL)\n",
        "TTldf = TTldf.rename(columns={0:'จังหวัด',2:'วันที่',4:'เดือนที่',6:'ปีที่',8:'อุณหภูมิตุ้ม'})\n",
        "TTldf.drop([1,3,5,7], 1, inplace=True)\n",
        "TTldf"
      ],
      "metadata": {
        "id": "mAkdanH3Wku8"
      },
      "execution_count": null,
      "outputs": []
    },
    {
      "cell_type": "markdown",
      "source": [
        "##อุณหภูมิจุดน้ำค้าง"
      ],
      "metadata": {
        "id": "t-Cd0EYtzm1t"
      }
    },
    {
      "cell_type": "code",
      "source": [
        "twkkc = pd.read_excel('/content/drive/MyDrive/data/อุตุ/อุณหภูมินำ้ค้าง/Copy of จ.ขอนแก่น.xlsx',sheet_name='Sheet1',skiprows=3)\n",
        "twnkp = pd.read_excel('/content/drive/MyDrive/data/อุตุ/อุณหภูมินำ้ค้าง/Copy of จ.นครพนม.xlsx',sheet_name='Sheet1',skiprows=3)\n",
        "twsk = pd.read_excel('/content/drive/MyDrive/data/อุตุ/อุณหภูมินำ้ค้าง/Copy of จ.สกล.xlsx',sheet_name='Sheet1',skiprows=3)\n",
        "twnk = pd.read_excel('/content/drive/MyDrive/data/อุตุ/อุณหภูมินำ้ค้าง/Copy of จ.หนองคาย.xlsx',sheet_name='Sheet1',skiprows=3)\n",
        "twl = pd.read_excel('/content/drive/MyDrive/data/อุตุ/อุณหภูมินำ้ค้าง/Copy of จ.เลย.xlsx',sheet_name='Sheet1',skiprows=3)\n"
      ],
      "metadata": {
        "id": "B1SsdQyxztL5"
      },
      "execution_count": 201,
      "outputs": []
    },
    {
      "cell_type": "code",
      "source": [
        "twkkc['จังหวัด'] = 'ขอนแก่น' #เพิ่มคอลัมน์จังหวัด\n",
        "twnkp['จังหวัด'] = 'นครพนม'\n",
        "twsk['จังหวัด'] = 'สกลนคร'\n",
        "twnk['จังหวัด'] = 'หนองคาย'\n",
        "twl['จังหวัด'] = 'เลย'\n",
        "\n",
        "twkkc = twkkc.rename(columns={ 'วันที่':'1','Unnamed: 4':'2', 'Unnamed: 5':'3',\n",
        "       'Unnamed: 6':'4', 'Unnamed: 7':'5', 'Unnamed: 8':'6', 'Unnamed: 9':'7', 'Unnamed: 10':'8',\n",
        "       'Unnamed: 11':'9', 'Unnamed: 12':'10', 'Unnamed: 13':'11', 'Unnamed: 14':'12',\n",
        "       'Unnamed: 15':'13', 'Unnamed: 16':'14', 'Unnamed: 17':'15', 'Unnamed: 18':\"16\",\n",
        "       'Unnamed: 19':'17', 'Unnamed: 20':'18', 'Unnamed: 21':'19', 'Unnamed: 22':'20',\n",
        "       'Unnamed: 23':'21', 'Unnamed: 24':'22', 'Unnamed: 25':'23', 'Unnamed: 26':'24',\n",
        "       'Unnamed: 27':'25', 'Unnamed: 28':'26', 'Unnamed: 29':'27', 'Unnamed: 30':'28',\n",
        "       'Unnamed: 31':'29', 'Unnamed: 32':'30', 'Unnamed: 33':'31'})\n",
        "twkkc = twkkc.iloc[1:]\n",
        "twnkp = twnkp.rename(columns={ 'วันที่':'1','Unnamed: 4':'2', 'Unnamed: 5':'3',\n",
        "       'Unnamed: 6':'4', 'Unnamed: 7':'5', 'Unnamed: 8':'6', 'Unnamed: 9':'7', 'Unnamed: 10':'8',\n",
        "       'Unnamed: 11':'9', 'Unnamed: 12':'10', 'Unnamed: 13':'11', 'Unnamed: 14':'12',\n",
        "       'Unnamed: 15':'13', 'Unnamed: 16':'14', 'Unnamed: 17':'15', 'Unnamed: 18':\"16\",\n",
        "       'Unnamed: 19':'17', 'Unnamed: 20':'18', 'Unnamed: 21':'19', 'Unnamed: 22':'20',\n",
        "       'Unnamed: 23':'21', 'Unnamed: 24':'22', 'Unnamed: 25':'23', 'Unnamed: 26':'24',\n",
        "       'Unnamed: 27':'25', 'Unnamed: 28':'26', 'Unnamed: 29':'27', 'Unnamed: 30':'28',\n",
        "       'Unnamed: 31':'29', 'Unnamed: 32':'30', 'Unnamed: 33':'31'})\n",
        "twnkp = twnkp.iloc[1:]\n",
        "twsk = twsk.rename(columns={ 'วันที่':'1','Unnamed: 4':'2', 'Unnamed: 5':'3',\n",
        "       'Unnamed: 6':'4', 'Unnamed: 7':'5', 'Unnamed: 8':'6', 'Unnamed: 9':'7', 'Unnamed: 10':'8',\n",
        "       'Unnamed: 11':'9', 'Unnamed: 12':'10', 'Unnamed: 13':'11', 'Unnamed: 14':'12',\n",
        "       'Unnamed: 15':'13', 'Unnamed: 16':'14', 'Unnamed: 17':'15', 'Unnamed: 18':\"16\",\n",
        "       'Unnamed: 19':'17', 'Unnamed: 20':'18', 'Unnamed: 21':'19', 'Unnamed: 22':'20',\n",
        "       'Unnamed: 23':'21', 'Unnamed: 24':'22', 'Unnamed: 25':'23', 'Unnamed: 26':'24',\n",
        "       'Unnamed: 27':'25', 'Unnamed: 28':'26', 'Unnamed: 29':'27', 'Unnamed: 30':'28',\n",
        "       'Unnamed: 31':'29', 'Unnamed: 32':'30', 'Unnamed: 33':'31'})\n",
        "twsk = twsk.iloc[1:]\n",
        "twnk = twnk.rename(columns={ 'วันที่':'1','Unnamed: 4':'2', 'Unnamed: 5':'3',\n",
        "       'Unnamed: 6':'4', 'Unnamed: 7':'5', 'Unnamed: 8':'6', 'Unnamed: 9':'7', 'Unnamed: 10':'8',\n",
        "       'Unnamed: 11':'9', 'Unnamed: 12':'10', 'Unnamed: 13':'11', 'Unnamed: 14':'12',\n",
        "       'Unnamed: 15':'13', 'Unnamed: 16':'14', 'Unnamed: 17':'15', 'Unnamed: 18':\"16\",\n",
        "       'Unnamed: 19':'17', 'Unnamed: 20':'18', 'Unnamed: 21':'19', 'Unnamed: 22':'20',\n",
        "       'Unnamed: 23':'21', 'Unnamed: 24':'22', 'Unnamed: 25':'23', 'Unnamed: 26':'24',\n",
        "       'Unnamed: 27':'25', 'Unnamed: 28':'26', 'Unnamed: 29':'27', 'Unnamed: 30':'28',\n",
        "       'Unnamed: 31':'29', 'Unnamed: 32':'30', 'Unnamed: 33':'31'})\n",
        "twnk = twnk.iloc[1:]\n",
        "twl = twl.rename(columns={ 'วันที่':'1','Unnamed: 4':'2', 'Unnamed: 5':'3',\n",
        "       'Unnamed: 6':'4', 'Unnamed: 7':'5', 'Unnamed: 8':'6', 'Unnamed: 9':'7', 'Unnamed: 10':'8',\n",
        "       'Unnamed: 11':'9', 'Unnamed: 12':'10', 'Unnamed: 13':'11', 'Unnamed: 14':'12',\n",
        "       'Unnamed: 15':'13', 'Unnamed: 16':'14', 'Unnamed: 17':'15', 'Unnamed: 18':\"16\",\n",
        "       'Unnamed: 19':'17', 'Unnamed: 20':'18', 'Unnamed: 21':'19', 'Unnamed: 22':'20',\n",
        "       'Unnamed: 23':'21', 'Unnamed: 24':'22', 'Unnamed: 25':'23', 'Unnamed: 26':'24',\n",
        "       'Unnamed: 27':'25', 'Unnamed: 28':'26', 'Unnamed: 29':'27', 'Unnamed: 30':'28',\n",
        "       'Unnamed: 31':'29', 'Unnamed: 32':'30', 'Unnamed: 33':'31'})\n",
        "twl = twl.iloc[1:]"
      ],
      "metadata": {
        "id": "lZOWKaavlfv5"
      },
      "execution_count": 202,
      "outputs": []
    },
    {
      "cell_type": "code",
      "source": [
        "twl.columns"
      ],
      "metadata": {
        "id": "YtHVzUXG2TbL",
        "outputId": "6bed1934-e204-4c97-c691-f36b3b40d5d4",
        "colab": {
          "base_uri": "https://localhost:8080/"
        }
      },
      "execution_count": 206,
      "outputs": [
        {
          "output_type": "execute_result",
          "data": {
            "text/plain": [
              "Index(['ที่', 'สถานี', 'เดือน/ปี', '1', '2', '3', '4', '5', '6', '7', '8', '9',\n",
              "       '10', '11', '12', '13', '14', '15', '16', '17', '18', '19', '20', '21',\n",
              "       '22', '23', '24', '25', '26', '27', '28', '29', '30', '31', 'เฉลี่ย',\n",
              "       'จังหวัด'],\n",
              "      dtype='object')"
            ]
          },
          "metadata": {},
          "execution_count": 206
        }
      ]
    },
    {
      "cell_type": "code",
      "source": [
        "del twl['Unnamed: 35'] # ลบคอลัม"
      ],
      "metadata": {
        "id": "2eRseIGPzGR4",
        "outputId": "67c02315-ee29-4a1c-abdb-54107919d71b",
        "colab": {
          "base_uri": "https://localhost:8080/",
          "height": 503
        }
      },
      "execution_count": 208,
      "outputs": [
        {
          "output_type": "error",
          "ename": "KeyError",
          "evalue": "ignored",
          "traceback": [
            "\u001b[0;31m---------------------------------------------------------------------------\u001b[0m",
            "\u001b[0;31mKeyError\u001b[0m                                  Traceback (most recent call last)",
            "\u001b[0;32m/usr/local/lib/python3.8/dist-packages/pandas/core/indexes/base.py\u001b[0m in \u001b[0;36mget_loc\u001b[0;34m(self, key, method, tolerance)\u001b[0m\n\u001b[1;32m   3360\u001b[0m             \u001b[0;32mtry\u001b[0m\u001b[0;34m:\u001b[0m\u001b[0;34m\u001b[0m\u001b[0;34m\u001b[0m\u001b[0m\n\u001b[0;32m-> 3361\u001b[0;31m                 \u001b[0;32mreturn\u001b[0m \u001b[0mself\u001b[0m\u001b[0;34m.\u001b[0m\u001b[0m_engine\u001b[0m\u001b[0;34m.\u001b[0m\u001b[0mget_loc\u001b[0m\u001b[0;34m(\u001b[0m\u001b[0mcasted_key\u001b[0m\u001b[0;34m)\u001b[0m\u001b[0;34m\u001b[0m\u001b[0;34m\u001b[0m\u001b[0m\n\u001b[0m\u001b[1;32m   3362\u001b[0m             \u001b[0;32mexcept\u001b[0m \u001b[0mKeyError\u001b[0m \u001b[0;32mas\u001b[0m \u001b[0merr\u001b[0m\u001b[0;34m:\u001b[0m\u001b[0;34m\u001b[0m\u001b[0;34m\u001b[0m\u001b[0m\n",
            "\u001b[0;32m/usr/local/lib/python3.8/dist-packages/pandas/_libs/index.pyx\u001b[0m in \u001b[0;36mpandas._libs.index.IndexEngine.get_loc\u001b[0;34m()\u001b[0m\n",
            "\u001b[0;32m/usr/local/lib/python3.8/dist-packages/pandas/_libs/index.pyx\u001b[0m in \u001b[0;36mpandas._libs.index.IndexEngine.get_loc\u001b[0;34m()\u001b[0m\n",
            "\u001b[0;32mpandas/_libs/hashtable_class_helper.pxi\u001b[0m in \u001b[0;36mpandas._libs.hashtable.PyObjectHashTable.get_item\u001b[0;34m()\u001b[0m\n",
            "\u001b[0;32mpandas/_libs/hashtable_class_helper.pxi\u001b[0m in \u001b[0;36mpandas._libs.hashtable.PyObjectHashTable.get_item\u001b[0;34m()\u001b[0m\n",
            "\u001b[0;31mKeyError\u001b[0m: 'Unnamed: 35'",
            "\nThe above exception was the direct cause of the following exception:\n",
            "\u001b[0;31mKeyError\u001b[0m                                  Traceback (most recent call last)",
            "\u001b[0;32m<ipython-input-208-6b15c156447e>\u001b[0m in \u001b[0;36m<module>\u001b[0;34m\u001b[0m\n\u001b[0;32m----> 1\u001b[0;31m \u001b[0;32mdel\u001b[0m \u001b[0mtwl\u001b[0m\u001b[0;34m[\u001b[0m\u001b[0;34m'Unnamed: 35'\u001b[0m\u001b[0;34m]\u001b[0m \u001b[0;31m# ลบคอลัม\u001b[0m\u001b[0;34m\u001b[0m\u001b[0;34m\u001b[0m\u001b[0m\n\u001b[0m",
            "\u001b[0;32m/usr/local/lib/python3.8/dist-packages/pandas/core/generic.py\u001b[0m in \u001b[0;36m__delitem__\u001b[0;34m(self, key)\u001b[0m\n\u001b[1;32m   3961\u001b[0m             \u001b[0;31m# there was no match, this call should raise the appropriate\u001b[0m\u001b[0;34m\u001b[0m\u001b[0;34m\u001b[0m\u001b[0;34m\u001b[0m\u001b[0m\n\u001b[1;32m   3962\u001b[0m             \u001b[0;31m# exception:\u001b[0m\u001b[0;34m\u001b[0m\u001b[0;34m\u001b[0m\u001b[0;34m\u001b[0m\u001b[0m\n\u001b[0;32m-> 3963\u001b[0;31m             \u001b[0mloc\u001b[0m \u001b[0;34m=\u001b[0m \u001b[0mself\u001b[0m\u001b[0;34m.\u001b[0m\u001b[0maxes\u001b[0m\u001b[0;34m[\u001b[0m\u001b[0;34m-\u001b[0m\u001b[0;36m1\u001b[0m\u001b[0;34m]\u001b[0m\u001b[0;34m.\u001b[0m\u001b[0mget_loc\u001b[0m\u001b[0;34m(\u001b[0m\u001b[0mkey\u001b[0m\u001b[0;34m)\u001b[0m\u001b[0;34m\u001b[0m\u001b[0;34m\u001b[0m\u001b[0m\n\u001b[0m\u001b[1;32m   3964\u001b[0m             \u001b[0mself\u001b[0m\u001b[0;34m.\u001b[0m\u001b[0m_mgr\u001b[0m \u001b[0;34m=\u001b[0m \u001b[0mself\u001b[0m\u001b[0;34m.\u001b[0m\u001b[0m_mgr\u001b[0m\u001b[0;34m.\u001b[0m\u001b[0midelete\u001b[0m\u001b[0;34m(\u001b[0m\u001b[0mloc\u001b[0m\u001b[0;34m)\u001b[0m\u001b[0;34m\u001b[0m\u001b[0;34m\u001b[0m\u001b[0m\n\u001b[1;32m   3965\u001b[0m \u001b[0;34m\u001b[0m\u001b[0m\n",
            "\u001b[0;32m/usr/local/lib/python3.8/dist-packages/pandas/core/indexes/base.py\u001b[0m in \u001b[0;36mget_loc\u001b[0;34m(self, key, method, tolerance)\u001b[0m\n\u001b[1;32m   3361\u001b[0m                 \u001b[0;32mreturn\u001b[0m \u001b[0mself\u001b[0m\u001b[0;34m.\u001b[0m\u001b[0m_engine\u001b[0m\u001b[0;34m.\u001b[0m\u001b[0mget_loc\u001b[0m\u001b[0;34m(\u001b[0m\u001b[0mcasted_key\u001b[0m\u001b[0;34m)\u001b[0m\u001b[0;34m\u001b[0m\u001b[0;34m\u001b[0m\u001b[0m\n\u001b[1;32m   3362\u001b[0m             \u001b[0;32mexcept\u001b[0m \u001b[0mKeyError\u001b[0m \u001b[0;32mas\u001b[0m \u001b[0merr\u001b[0m\u001b[0;34m:\u001b[0m\u001b[0;34m\u001b[0m\u001b[0;34m\u001b[0m\u001b[0m\n\u001b[0;32m-> 3363\u001b[0;31m                 \u001b[0;32mraise\u001b[0m \u001b[0mKeyError\u001b[0m\u001b[0;34m(\u001b[0m\u001b[0mkey\u001b[0m\u001b[0;34m)\u001b[0m \u001b[0;32mfrom\u001b[0m \u001b[0merr\u001b[0m\u001b[0;34m\u001b[0m\u001b[0;34m\u001b[0m\u001b[0m\n\u001b[0m\u001b[1;32m   3364\u001b[0m \u001b[0;34m\u001b[0m\u001b[0m\n\u001b[1;32m   3365\u001b[0m         \u001b[0;32mif\u001b[0m \u001b[0mis_scalar\u001b[0m\u001b[0;34m(\u001b[0m\u001b[0mkey\u001b[0m\u001b[0;34m)\u001b[0m \u001b[0;32mand\u001b[0m \u001b[0misna\u001b[0m\u001b[0;34m(\u001b[0m\u001b[0mkey\u001b[0m\u001b[0;34m)\u001b[0m \u001b[0;32mand\u001b[0m \u001b[0;32mnot\u001b[0m \u001b[0mself\u001b[0m\u001b[0;34m.\u001b[0m\u001b[0mhasnans\u001b[0m\u001b[0;34m:\u001b[0m\u001b[0;34m\u001b[0m\u001b[0;34m\u001b[0m\u001b[0m\n",
            "\u001b[0;31mKeyError\u001b[0m: 'Unnamed: 35'"
          ]
        }
      ]
    },
    {
      "cell_type": "markdown",
      "source": [
        "###Concat df"
      ],
      "metadata": {
        "id": "UYeL61o0l8_h"
      }
    },
    {
      "cell_type": "code",
      "source": [
        "tw =  pd.concat([twkkc,twnkp,twsk,twnk,twl])\n",
        "tw.shape"
      ],
      "metadata": {
        "colab": {
          "base_uri": "https://localhost:8080/"
        },
        "id": "xTxP8a-olqTt",
        "outputId": "f8aba007-87b4-436f-9457-d82db9566b3f"
      },
      "execution_count": 207,
      "outputs": [
        {
          "output_type": "execute_result",
          "data": {
            "text/plain": [
              "(270, 36)"
            ]
          },
          "metadata": {},
          "execution_count": 207
        }
      ]
    },
    {
      "cell_type": "markdown",
      "source": [
        "### ดึงเดือน กับ ปี แยกคอลัมน์"
      ],
      "metadata": {
        "id": "Nqw1Sj4OmAo-"
      }
    },
    {
      "cell_type": "code",
      "source": [
        "tw['เดือน'] = tw['เดือน/ปี'].dt.month\n",
        "tw['ปี'] = tw['เดือน/ปี'].dt.year\n",
        "del tw['เดือน/ปี']\n",
        "tw.head()"
      ],
      "metadata": {
        "colab": {
          "base_uri": "https://localhost:8080/",
          "height": 235
        },
        "id": "z5ZXnCSLlxYm",
        "outputId": "2946230b-7466-4473-d28a-4ad13c6ecc20"
      },
      "execution_count": 159,
      "outputs": [
        {
          "output_type": "execute_result",
          "data": {
            "text/plain": [
              "   ที่                     สถานี     1     2     3     4     5     6     7  \\\n",
              "1  1    381201-ขอนแก่น จ.ขอนแก่น  24.2  24.0  22.9  21.9  21.7  21.3  21.9   \n",
              "2  2    381201-ขอนแก่น จ.ขอนแก่น  20.2  18.5  19.4  19.0  19.2  20.6  21.3   \n",
              "3  3    381201-ขอนแก่น จ.ขอนแก่น  17.7  15.3  12.7  14.0  14.6  16.6  19.1   \n",
              "4  1    381201-ขอนแก่น จ.ขอนแก่น  16.5  17.4  18.7  17.0  15.3  16.7  15.6   \n",
              "5  2    381201-ขอนแก่น จ.ขอนแก่น  18.0  19.6  19.5  19.2  20.7  20.8  19.1   \n",
              "\n",
              "      8  ...    26    27    28    29    30    31     เฉลี่ย  จังหวัด  เดือน  \\\n",
              "1  23.3  ...  20.7  20.8  21.9  20.3  19.7  19.7  21.903226  ขอนแก่น     10   \n",
              "2  21.2  ...  18.3  19.2  18.9    19  18.3     -  18.910000  ขอนแก่น     11   \n",
              "3  19.1  ...   9.7  12.4  16.1  16.3  16.1  16.3  14.525806  ขอนแก่น     12   \n",
              "4  14.3  ...  16.3  19.5  19.7  19.4  18.7  16.7  18.058065  ขอนแก่น      1   \n",
              "5  19.7  ...  18.8  22.3  22.1  21.3     -     -  18.772414  ขอนแก่น      2   \n",
              "\n",
              "     ปี  \n",
              "1  2011  \n",
              "2  2011  \n",
              "3  2011  \n",
              "4  2012  \n",
              "5  2012  \n",
              "\n",
              "[5 rows x 37 columns]"
            ],
            "text/html": [
              "\n",
              "  <div id=\"df-ba906881-b7d6-4fa6-8d94-0d1f6eb1d047\">\n",
              "    <div class=\"colab-df-container\">\n",
              "      <div>\n",
              "<style scoped>\n",
              "    .dataframe tbody tr th:only-of-type {\n",
              "        vertical-align: middle;\n",
              "    }\n",
              "\n",
              "    .dataframe tbody tr th {\n",
              "        vertical-align: top;\n",
              "    }\n",
              "\n",
              "    .dataframe thead th {\n",
              "        text-align: right;\n",
              "    }\n",
              "</style>\n",
              "<table border=\"1\" class=\"dataframe\">\n",
              "  <thead>\n",
              "    <tr style=\"text-align: right;\">\n",
              "      <th></th>\n",
              "      <th>ที่</th>\n",
              "      <th>สถานี</th>\n",
              "      <th>1</th>\n",
              "      <th>2</th>\n",
              "      <th>3</th>\n",
              "      <th>4</th>\n",
              "      <th>5</th>\n",
              "      <th>6</th>\n",
              "      <th>7</th>\n",
              "      <th>8</th>\n",
              "      <th>...</th>\n",
              "      <th>26</th>\n",
              "      <th>27</th>\n",
              "      <th>28</th>\n",
              "      <th>29</th>\n",
              "      <th>30</th>\n",
              "      <th>31</th>\n",
              "      <th>เฉลี่ย</th>\n",
              "      <th>จังหวัด</th>\n",
              "      <th>เดือน</th>\n",
              "      <th>ปี</th>\n",
              "    </tr>\n",
              "  </thead>\n",
              "  <tbody>\n",
              "    <tr>\n",
              "      <th>1</th>\n",
              "      <td>1</td>\n",
              "      <td>381201-ขอนแก่น จ.ขอนแก่น</td>\n",
              "      <td>24.2</td>\n",
              "      <td>24.0</td>\n",
              "      <td>22.9</td>\n",
              "      <td>21.9</td>\n",
              "      <td>21.7</td>\n",
              "      <td>21.3</td>\n",
              "      <td>21.9</td>\n",
              "      <td>23.3</td>\n",
              "      <td>...</td>\n",
              "      <td>20.7</td>\n",
              "      <td>20.8</td>\n",
              "      <td>21.9</td>\n",
              "      <td>20.3</td>\n",
              "      <td>19.7</td>\n",
              "      <td>19.7</td>\n",
              "      <td>21.903226</td>\n",
              "      <td>ขอนแก่น</td>\n",
              "      <td>10</td>\n",
              "      <td>2011</td>\n",
              "    </tr>\n",
              "    <tr>\n",
              "      <th>2</th>\n",
              "      <td>2</td>\n",
              "      <td>381201-ขอนแก่น จ.ขอนแก่น</td>\n",
              "      <td>20.2</td>\n",
              "      <td>18.5</td>\n",
              "      <td>19.4</td>\n",
              "      <td>19.0</td>\n",
              "      <td>19.2</td>\n",
              "      <td>20.6</td>\n",
              "      <td>21.3</td>\n",
              "      <td>21.2</td>\n",
              "      <td>...</td>\n",
              "      <td>18.3</td>\n",
              "      <td>19.2</td>\n",
              "      <td>18.9</td>\n",
              "      <td>19</td>\n",
              "      <td>18.3</td>\n",
              "      <td>-</td>\n",
              "      <td>18.910000</td>\n",
              "      <td>ขอนแก่น</td>\n",
              "      <td>11</td>\n",
              "      <td>2011</td>\n",
              "    </tr>\n",
              "    <tr>\n",
              "      <th>3</th>\n",
              "      <td>3</td>\n",
              "      <td>381201-ขอนแก่น จ.ขอนแก่น</td>\n",
              "      <td>17.7</td>\n",
              "      <td>15.3</td>\n",
              "      <td>12.7</td>\n",
              "      <td>14.0</td>\n",
              "      <td>14.6</td>\n",
              "      <td>16.6</td>\n",
              "      <td>19.1</td>\n",
              "      <td>19.1</td>\n",
              "      <td>...</td>\n",
              "      <td>9.7</td>\n",
              "      <td>12.4</td>\n",
              "      <td>16.1</td>\n",
              "      <td>16.3</td>\n",
              "      <td>16.1</td>\n",
              "      <td>16.3</td>\n",
              "      <td>14.525806</td>\n",
              "      <td>ขอนแก่น</td>\n",
              "      <td>12</td>\n",
              "      <td>2011</td>\n",
              "    </tr>\n",
              "    <tr>\n",
              "      <th>4</th>\n",
              "      <td>1</td>\n",
              "      <td>381201-ขอนแก่น จ.ขอนแก่น</td>\n",
              "      <td>16.5</td>\n",
              "      <td>17.4</td>\n",
              "      <td>18.7</td>\n",
              "      <td>17.0</td>\n",
              "      <td>15.3</td>\n",
              "      <td>16.7</td>\n",
              "      <td>15.6</td>\n",
              "      <td>14.3</td>\n",
              "      <td>...</td>\n",
              "      <td>16.3</td>\n",
              "      <td>19.5</td>\n",
              "      <td>19.7</td>\n",
              "      <td>19.4</td>\n",
              "      <td>18.7</td>\n",
              "      <td>16.7</td>\n",
              "      <td>18.058065</td>\n",
              "      <td>ขอนแก่น</td>\n",
              "      <td>1</td>\n",
              "      <td>2012</td>\n",
              "    </tr>\n",
              "    <tr>\n",
              "      <th>5</th>\n",
              "      <td>2</td>\n",
              "      <td>381201-ขอนแก่น จ.ขอนแก่น</td>\n",
              "      <td>18.0</td>\n",
              "      <td>19.6</td>\n",
              "      <td>19.5</td>\n",
              "      <td>19.2</td>\n",
              "      <td>20.7</td>\n",
              "      <td>20.8</td>\n",
              "      <td>19.1</td>\n",
              "      <td>19.7</td>\n",
              "      <td>...</td>\n",
              "      <td>18.8</td>\n",
              "      <td>22.3</td>\n",
              "      <td>22.1</td>\n",
              "      <td>21.3</td>\n",
              "      <td>-</td>\n",
              "      <td>-</td>\n",
              "      <td>18.772414</td>\n",
              "      <td>ขอนแก่น</td>\n",
              "      <td>2</td>\n",
              "      <td>2012</td>\n",
              "    </tr>\n",
              "  </tbody>\n",
              "</table>\n",
              "<p>5 rows × 37 columns</p>\n",
              "</div>\n",
              "      <button class=\"colab-df-convert\" onclick=\"convertToInteractive('df-ba906881-b7d6-4fa6-8d94-0d1f6eb1d047')\"\n",
              "              title=\"Convert this dataframe to an interactive table.\"\n",
              "              style=\"display:none;\">\n",
              "        \n",
              "  <svg xmlns=\"http://www.w3.org/2000/svg\" height=\"24px\"viewBox=\"0 0 24 24\"\n",
              "       width=\"24px\">\n",
              "    <path d=\"M0 0h24v24H0V0z\" fill=\"none\"/>\n",
              "    <path d=\"M18.56 5.44l.94 2.06.94-2.06 2.06-.94-2.06-.94-.94-2.06-.94 2.06-2.06.94zm-11 1L8.5 8.5l.94-2.06 2.06-.94-2.06-.94L8.5 2.5l-.94 2.06-2.06.94zm10 10l.94 2.06.94-2.06 2.06-.94-2.06-.94-.94-2.06-.94 2.06-2.06.94z\"/><path d=\"M17.41 7.96l-1.37-1.37c-.4-.4-.92-.59-1.43-.59-.52 0-1.04.2-1.43.59L10.3 9.45l-7.72 7.72c-.78.78-.78 2.05 0 2.83L4 21.41c.39.39.9.59 1.41.59.51 0 1.02-.2 1.41-.59l7.78-7.78 2.81-2.81c.8-.78.8-2.07 0-2.86zM5.41 20L4 18.59l7.72-7.72 1.47 1.35L5.41 20z\"/>\n",
              "  </svg>\n",
              "      </button>\n",
              "      \n",
              "  <style>\n",
              "    .colab-df-container {\n",
              "      display:flex;\n",
              "      flex-wrap:wrap;\n",
              "      gap: 12px;\n",
              "    }\n",
              "\n",
              "    .colab-df-convert {\n",
              "      background-color: #E8F0FE;\n",
              "      border: none;\n",
              "      border-radius: 50%;\n",
              "      cursor: pointer;\n",
              "      display: none;\n",
              "      fill: #1967D2;\n",
              "      height: 32px;\n",
              "      padding: 0 0 0 0;\n",
              "      width: 32px;\n",
              "    }\n",
              "\n",
              "    .colab-df-convert:hover {\n",
              "      background-color: #E2EBFA;\n",
              "      box-shadow: 0px 1px 2px rgba(60, 64, 67, 0.3), 0px 1px 3px 1px rgba(60, 64, 67, 0.15);\n",
              "      fill: #174EA6;\n",
              "    }\n",
              "\n",
              "    [theme=dark] .colab-df-convert {\n",
              "      background-color: #3B4455;\n",
              "      fill: #D2E3FC;\n",
              "    }\n",
              "\n",
              "    [theme=dark] .colab-df-convert:hover {\n",
              "      background-color: #434B5C;\n",
              "      box-shadow: 0px 1px 3px 1px rgba(0, 0, 0, 0.15);\n",
              "      filter: drop-shadow(0px 1px 2px rgba(0, 0, 0, 0.3));\n",
              "      fill: #FFFFFF;\n",
              "    }\n",
              "  </style>\n",
              "\n",
              "      <script>\n",
              "        const buttonEl =\n",
              "          document.querySelector('#df-ba906881-b7d6-4fa6-8d94-0d1f6eb1d047 button.colab-df-convert');\n",
              "        buttonEl.style.display =\n",
              "          google.colab.kernel.accessAllowed ? 'block' : 'none';\n",
              "\n",
              "        async function convertToInteractive(key) {\n",
              "          const element = document.querySelector('#df-ba906881-b7d6-4fa6-8d94-0d1f6eb1d047');\n",
              "          const dataTable =\n",
              "            await google.colab.kernel.invokeFunction('convertToInteractive',\n",
              "                                                     [key], {});\n",
              "          if (!dataTable) return;\n",
              "\n",
              "          const docLinkHtml = 'Like what you see? Visit the ' +\n",
              "            '<a target=\"_blank\" href=https://colab.research.google.com/notebooks/data_table.ipynb>data table notebook</a>'\n",
              "            + ' to learn more about interactive tables.';\n",
              "          element.innerHTML = '';\n",
              "          dataTable['output_type'] = 'display_data';\n",
              "          await google.colab.output.renderOutput(dataTable, element);\n",
              "          const docLink = document.createElement('div');\n",
              "          docLink.innerHTML = docLinkHtml;\n",
              "          element.appendChild(docLink);\n",
              "        }\n",
              "      </script>\n",
              "    </div>\n",
              "  </div>\n",
              "  "
            ]
          },
          "metadata": {},
          "execution_count": 159
        }
      ]
    },
    {
      "cell_type": "markdown",
      "source": [
        "ทำทุกจังหวัด"
      ],
      "metadata": {
        "id": "KS-OWAmA1KNB"
      }
    },
    {
      "cell_type": "code",
      "source": [
        "TWl = list()\n",
        "for index, row in tw.iterrows():\n",
        "  for i in range(1,32): # เริ่มที่ 1 - 32\n",
        "    #print(f'วันที่ ',i,'เดือนที่ ',row['เดือน'],' ปีที่ ', row['ปี'],'ความเร็วลม -> ',row[i+1], row['จังหวัด'])\n",
        "    TWl.append([row['จังหวัด'],'วันที่ ',i,'เดือนที่ ',row['เดือน'],' ปีที่ ', row['ปี'],'อุณหภูมิจุดน้ำค้าง',row[i+1]]) # [i-1] = -1 เพราะให้เริ่ม 0,31 แทน ในตอนดึงตอลัมน์\n",
        "Twldf = pd.DataFrame(TWl)\n",
        "Twldf = Twldf.rename(columns={0:'จังหวัด',2:'วันที่',4:'เดือนที่',6:'ปีที่',8:'อุณหภูมิจุดน้ำค้าง'})\n",
        "Twldf.drop([1,3,5,7], 1, inplace=True)\n",
        "Twldf"
      ],
      "metadata": {
        "id": "X5e_oWIbXsRU"
      },
      "execution_count": null,
      "outputs": []
    },
    {
      "cell_type": "markdown",
      "source": [
        "##อุณหภูมิจุดต่ำสุด"
      ],
      "metadata": {
        "id": "_BXJF4u50NiT"
      }
    },
    {
      "cell_type": "code",
      "source": [
        "tlkkc = pd.read_excel(\"/content/drive/MyDrive/data/อุตุ/อุณหภูมิตำ่สุด/Copy of จ.ขอนแก่น.xlsx\",sheet_name='Sheet1',skiprows=3)\n",
        "tlnkp = pd.read_excel(\"/content/drive/MyDrive/data/อุตุ/อุณหภูมิตำ่สุด/Copy of จ.นครพนม.xlsx\",sheet_name='Sheet1',skiprows=3)\n",
        "tlsk = pd.read_excel(\"/content/drive/MyDrive/data/อุตุ/อุณหภูมิตำ่สุด/Copy of จ.สกล.xlsx\",sheet_name='Sheet1',skiprows=3)\n",
        "tlnk = pd.read_excel(\"/content/drive/MyDrive/data/อุตุ/อุณหภูมิตำ่สุด/Copy of จ.หนองคาย.xlsx\",sheet_name='Sheet1',skiprows=3)\n",
        "tll = pd.read_excel(\"/content/drive/MyDrive/data/อุตุ/อุณหภูมิตำ่สุด/Copy of จ.เลย.xlsx\",sheet_name='Sheet1',skiprows=3)\n"
      ],
      "metadata": {
        "id": "qbKGWNvt0imm"
      },
      "execution_count": 163,
      "outputs": []
    },
    {
      "cell_type": "code",
      "source": [
        "twkkc['จังหวัด'] = 'ขอนแก่น' #เพิ่มคอลัมน์จังหวัด\n",
        "twnkp['จังหวัด'] = 'นครพนม'\n",
        "twsk['จังหวัด'] = 'สกลนคร'\n",
        "twnk['จังหวัด'] = 'หนองคาย'\n",
        "twl['จังหวัด'] = 'เลย'\n",
        "\n",
        "tlkkc = tlkkc.rename(columns={ 'วันที่':'1','Unnamed: 4':'2', 'Unnamed: 5':'3',\n",
        "       'Unnamed: 6':'4', 'Unnamed: 7':'5', 'Unnamed: 8':'6', 'Unnamed: 9':'7', 'Unnamed: 10':'8',\n",
        "       'Unnamed: 11':'9', 'Unnamed: 12':'10', 'Unnamed: 13':'11', 'Unnamed: 14':'12',\n",
        "       'Unnamed: 15':'13', 'Unnamed: 16':'14', 'Unnamed: 17':'15', 'Unnamed: 18':\"16\",\n",
        "       'Unnamed: 19':'17', 'Unnamed: 20':'18', 'Unnamed: 21':'19', 'Unnamed: 22':'20',\n",
        "       'Unnamed: 23':'21', 'Unnamed: 24':'22', 'Unnamed: 25':'23', 'Unnamed: 26':'24',\n",
        "       'Unnamed: 27':'25', 'Unnamed: 28':'26', 'Unnamed: 29':'27', 'Unnamed: 30':'28',\n",
        "       'Unnamed: 31':'29', 'Unnamed: 32':'30', 'Unnamed: 33':'31'})\n",
        "tlkkc = tlkkc.iloc[1:]\n",
        "tlnkp = tlnkp.rename(columns={ 'วันที่':'1','Unnamed: 4':'2', 'Unnamed: 5':'3',\n",
        "       'Unnamed: 6':'4', 'Unnamed: 7':'5', 'Unnamed: 8':'6', 'Unnamed: 9':'7', 'Unnamed: 10':'8',\n",
        "       'Unnamed: 11':'9', 'Unnamed: 12':'10', 'Unnamed: 13':'11', 'Unnamed: 14':'12',\n",
        "       'Unnamed: 15':'13', 'Unnamed: 16':'14', 'Unnamed: 17':'15', 'Unnamed: 18':\"16\",\n",
        "       'Unnamed: 19':'17', 'Unnamed: 20':'18', 'Unnamed: 21':'19', 'Unnamed: 22':'20',\n",
        "       'Unnamed: 23':'21', 'Unnamed: 24':'22', 'Unnamed: 25':'23', 'Unnamed: 26':'24',\n",
        "       'Unnamed: 27':'25', 'Unnamed: 28':'26', 'Unnamed: 29':'27', 'Unnamed: 30':'28',\n",
        "       'Unnamed: 31':'29', 'Unnamed: 32':'30', 'Unnamed: 33':'31'})\n",
        "tlnkp = tlnkp.iloc[1:]\n",
        "tlsk = tlsk.rename(columns={ 'วันที่':'1','Unnamed: 4':'2', 'Unnamed: 5':'3',\n",
        "       'Unnamed: 6':'4', 'Unnamed: 7':'5', 'Unnamed: 8':'6', 'Unnamed: 9':'7', 'Unnamed: 10':'8',\n",
        "       'Unnamed: 11':'9', 'Unnamed: 12':'10', 'Unnamed: 13':'11', 'Unnamed: 14':'12',\n",
        "       'Unnamed: 15':'13', 'Unnamed: 16':'14', 'Unnamed: 17':'15', 'Unnamed: 18':\"16\",\n",
        "       'Unnamed: 19':'17', 'Unnamed: 20':'18', 'Unnamed: 21':'19', 'Unnamed: 22':'20',\n",
        "       'Unnamed: 23':'21', 'Unnamed: 24':'22', 'Unnamed: 25':'23', 'Unnamed: 26':'24',\n",
        "       'Unnamed: 27':'25', 'Unnamed: 28':'26', 'Unnamed: 29':'27', 'Unnamed: 30':'28',\n",
        "       'Unnamed: 31':'29', 'Unnamed: 32':'30', 'Unnamed: 33':'31'})\n",
        "tlsk = tlsk.iloc[1:]\n",
        "tlnk = tlnk.rename(columns={ 'วันที่':'1','Unnamed: 4':'2', 'Unnamed: 5':'3',\n",
        "       'Unnamed: 6':'4', 'Unnamed: 7':'5', 'Unnamed: 8':'6', 'Unnamed: 9':'7', 'Unnamed: 10':'8',\n",
        "       'Unnamed: 11':'9', 'Unnamed: 12':'10', 'Unnamed: 13':'11', 'Unnamed: 14':'12',\n",
        "       'Unnamed: 15':'13', 'Unnamed: 16':'14', 'Unnamed: 17':'15', 'Unnamed: 18':\"16\",\n",
        "       'Unnamed: 19':'17', 'Unnamed: 20':'18', 'Unnamed: 21':'19', 'Unnamed: 22':'20',\n",
        "       'Unnamed: 23':'21', 'Unnamed: 24':'22', 'Unnamed: 25':'23', 'Unnamed: 26':'24',\n",
        "       'Unnamed: 27':'25', 'Unnamed: 28':'26', 'Unnamed: 29':'27', 'Unnamed: 30':'28',\n",
        "       'Unnamed: 31':'29', 'Unnamed: 32':'30', 'Unnamed: 33':'31'})\n",
        "tlnk = tlnk.iloc[1:]\n",
        "tll = tll.rename(columns={ 'วันที่':'1','Unnamed: 4':'2', 'Unnamed: 5':'3',\n",
        "       'Unnamed: 6':'4', 'Unnamed: 7':'5', 'Unnamed: 8':'6', 'Unnamed: 9':'7', 'Unnamed: 10':'8',\n",
        "       'Unnamed: 11':'9', 'Unnamed: 12':'10', 'Unnamed: 13':'11', 'Unnamed: 14':'12',\n",
        "       'Unnamed: 15':'13', 'Unnamed: 16':'14', 'Unnamed: 17':'15', 'Unnamed: 18':\"16\",\n",
        "       'Unnamed: 19':'17', 'Unnamed: 20':'18', 'Unnamed: 21':'19', 'Unnamed: 22':'20',\n",
        "       'Unnamed: 23':'21', 'Unnamed: 24':'22', 'Unnamed: 25':'23', 'Unnamed: 26':'24',\n",
        "       'Unnamed: 27':'25', 'Unnamed: 28':'26', 'Unnamed: 29':'27', 'Unnamed: 30':'28',\n",
        "       'Unnamed: 31':'29', 'Unnamed: 32':'30', 'Unnamed: 33':'31'})\n",
        "tll = tll.iloc[1:]"
      ],
      "metadata": {
        "id": "pYCA6yuJmXXJ"
      },
      "execution_count": 161,
      "outputs": []
    },
    {
      "cell_type": "markdown",
      "source": [
        "###Concat df"
      ],
      "metadata": {
        "id": "_TlUgR6hmorY"
      }
    },
    {
      "cell_type": "code",
      "source": [
        "tl =  pd.concat([tlkkc,tlnkp,tlsk,tlnk,tll])\n",
        "tl.shape"
      ],
      "metadata": {
        "colab": {
          "base_uri": "https://localhost:8080/"
        },
        "id": "Yx-DG6w1mkRE",
        "outputId": "b20c1cbf-91e9-4063-d86f-705bad30f12c"
      },
      "execution_count": 164,
      "outputs": [
        {
          "output_type": "execute_result",
          "data": {
            "text/plain": [
              "(280, 35)"
            ]
          },
          "metadata": {},
          "execution_count": 164
        }
      ]
    },
    {
      "cell_type": "markdown",
      "source": [
        "### ดึงเดือน กับ ปี แยกคอลัมน์"
      ],
      "metadata": {
        "id": "_MbzdN0Pniy_"
      }
    },
    {
      "cell_type": "code",
      "source": [
        "tl['เดือน'] = tl['เดือน/ปี'].dt.month\n",
        "tl['ปี'] = tl['เดือน/ปี'].dt.year\n",
        "tl.head()"
      ],
      "metadata": {
        "id": "SDAbLa1yneUC"
      },
      "execution_count": null,
      "outputs": []
    },
    {
      "cell_type": "markdown",
      "source": [
        "ทำทุกจังหวัด"
      ],
      "metadata": {
        "id": "Mrn8cVSP1Xsk"
      }
    },
    {
      "cell_type": "code",
      "source": [
        "tl =tl.reset_index()\n",
        "tl['ที่'] = tl['index']\n",
        "del tl['index'] #270 row 35 columns"
      ],
      "metadata": {
        "id": "HddZdpyPYBrj"
      },
      "execution_count": 166,
      "outputs": []
    },
    {
      "cell_type": "code",
      "source": [
        "tl1 = tl.iloc[0:,3:34]\n",
        "tl2 = tl.iloc[0:,3:34]\n",
        "Tlowest = list()\n",
        "for index, row in tl2.iterrows():\n",
        "  for i in range(0,31): # เริ่มที่ 1 - 32\n",
        "    #print(f'วันที่ ',i,'เดือนที่ ',row['เดือน'],' ปีที่ ', row['ปี'],'ความเร็วลม -> ',row[i-1]) # [i-1] = -1 เพราะให้เริ่ม 0,31 แทน ในตอนดึงตอลัมน์\n",
        "    Tlowest.append(row[i])\n",
        "    #print(row[i])"
      ],
      "metadata": {
        "id": "tu2AGCJN1Fbf"
      },
      "execution_count": 167,
      "outputs": []
    },
    {
      "cell_type": "code",
      "source": [
        "len(Tlowest) #list 8370"
      ],
      "metadata": {
        "id": "lrsaw0ME1HRz",
        "outputId": "2c648822-8fcd-421f-cea0-809b511d74a3",
        "colab": {
          "base_uri": "https://localhost:8080/"
        }
      },
      "execution_count": 168,
      "outputs": [
        {
          "output_type": "execute_result",
          "data": {
            "text/plain": [
              "8680"
            ]
          },
          "metadata": {},
          "execution_count": 168
        }
      ]
    },
    {
      "cell_type": "markdown",
      "source": [
        "##ความชื้น"
      ],
      "metadata": {
        "id": "cMiaLala1dA7"
      }
    },
    {
      "cell_type": "code",
      "source": [
        "mkkc = pd.read_excel('/content/drive/MyDrive/data/อุตุ/ความชื้นสัมพัท/Copy of จ.ขอนแก่น.xlsx',sheet_name=\"Sheet1\",skiprows=3)\n",
        "mnkp = pd.read_excel('/content/drive/MyDrive/data/อุตุ/ความชื้นสัมพัท/Copy of จ.นครพนม.xlsx',sheet_name=\"Sheet1\",skiprows=3)\n",
        "msk = pd.read_excel('/content/drive/MyDrive/data/อุตุ/ความชื้นสัมพัท/Copy of จ.สกลนคร.xlsx',sheet_name=\"Sheet1\",skiprows=3)\n",
        "mnk = pd.read_excel('/content/drive/MyDrive/data/อุตุ/ความชื้นสัมพัท/Copy of จ.หนองคาย.xlsx',sheet_name=\"Sheet1\",skiprows=3)\n",
        "ml = pd.read_excel('/content/drive/MyDrive/data/อุตุ/ความชื้นสัมพัท/Copy of จ.เลย.xlsx',sheet_name=\"Sheet1\",skiprows=3)\n"
      ],
      "metadata": {
        "id": "7eg9bx1R1fc-"
      },
      "execution_count": 169,
      "outputs": []
    },
    {
      "cell_type": "code",
      "source": [
        "mkkc = mkkc.rename(columns={ 'วันที่':'1','Unnamed: 4':'2', 'Unnamed: 5':'3',\n",
        "       'Unnamed: 6':'4', 'Unnamed: 7':'5', 'Unnamed: 8':'6', 'Unnamed: 9':'7', 'Unnamed: 10':'8',\n",
        "       'Unnamed: 11':'9', 'Unnamed: 12':'10', 'Unnamed: 13':'11', 'Unnamed: 14':'12',\n",
        "       'Unnamed: 15':'13', 'Unnamed: 16':'14', 'Unnamed: 17':'15', 'Unnamed: 18':\"16\",\n",
        "       'Unnamed: 19':'17', 'Unnamed: 20':'18', 'Unnamed: 21':'19', 'Unnamed: 22':'20',\n",
        "       'Unnamed: 23':'21', 'Unnamed: 24':'22', 'Unnamed: 25':'23', 'Unnamed: 26':'24',\n",
        "       'Unnamed: 27':'25', 'Unnamed: 28':'26', 'Unnamed: 29':'27', 'Unnamed: 30':'28',\n",
        "       'Unnamed: 31':'29', 'Unnamed: 32':'30', 'Unnamed: 33':'31'})\n",
        "mkkc = mkkc.iloc[1:]\n",
        "mnkp = mnkp.rename(columns={ 'วันที่':'1','Unnamed: 4':'2', 'Unnamed: 5':'3',\n",
        "       'Unnamed: 6':'4', 'Unnamed: 7':'5', 'Unnamed: 8':'6', 'Unnamed: 9':'7', 'Unnamed: 10':'8',\n",
        "       'Unnamed: 11':'9', 'Unnamed: 12':'10', 'Unnamed: 13':'11', 'Unnamed: 14':'12',\n",
        "       'Unnamed: 15':'13', 'Unnamed: 16':'14', 'Unnamed: 17':'15', 'Unnamed: 18':\"16\",\n",
        "       'Unnamed: 19':'17', 'Unnamed: 20':'18', 'Unnamed: 21':'19', 'Unnamed: 22':'20',\n",
        "       'Unnamed: 23':'21', 'Unnamed: 24':'22', 'Unnamed: 25':'23', 'Unnamed: 26':'24',\n",
        "       'Unnamed: 27':'25', 'Unnamed: 28':'26', 'Unnamed: 29':'27', 'Unnamed: 30':'28',\n",
        "       'Unnamed: 31':'29', 'Unnamed: 32':'30', 'Unnamed: 33':'31'})\n",
        "mnkp = mnkp.iloc[1:]\n",
        "msk = msk.rename(columns={ 'วันที่':'1','Unnamed: 4':'2', 'Unnamed: 5':'3',\n",
        "       'Unnamed: 6':'4', 'Unnamed: 7':'5', 'Unnamed: 8':'6', 'Unnamed: 9':'7', 'Unnamed: 10':'8',\n",
        "       'Unnamed: 11':'9', 'Unnamed: 12':'10', 'Unnamed: 13':'11', 'Unnamed: 14':'12',\n",
        "       'Unnamed: 15':'13', 'Unnamed: 16':'14', 'Unnamed: 17':'15', 'Unnamed: 18':\"16\",\n",
        "       'Unnamed: 19':'17', 'Unnamed: 20':'18', 'Unnamed: 21':'19', 'Unnamed: 22':'20',\n",
        "       'Unnamed: 23':'21', 'Unnamed: 24':'22', 'Unnamed: 25':'23', 'Unnamed: 26':'24',\n",
        "       'Unnamed: 27':'25', 'Unnamed: 28':'26', 'Unnamed: 29':'27', 'Unnamed: 30':'28',\n",
        "       'Unnamed: 31':'29', 'Unnamed: 32':'30', 'Unnamed: 33':'31'})\n",
        "msk = msk.iloc[1:]\n",
        "mnk = mnk.rename(columns={ 'วันที่':'1','Unnamed: 4':'2', 'Unnamed: 5':'3',\n",
        "       'Unnamed: 6':'4', 'Unnamed: 7':'5', 'Unnamed: 8':'6', 'Unnamed: 9':'7', 'Unnamed: 10':'8',\n",
        "       'Unnamed: 11':'9', 'Unnamed: 12':'10', 'Unnamed: 13':'11', 'Unnamed: 14':'12',\n",
        "       'Unnamed: 15':'13', 'Unnamed: 16':'14', 'Unnamed: 17':'15', 'Unnamed: 18':\"16\",\n",
        "       'Unnamed: 19':'17', 'Unnamed: 20':'18', 'Unnamed: 21':'19', 'Unnamed: 22':'20',\n",
        "       'Unnamed: 23':'21', 'Unnamed: 24':'22', 'Unnamed: 25':'23', 'Unnamed: 26':'24',\n",
        "       'Unnamed: 27':'25', 'Unnamed: 28':'26', 'Unnamed: 29':'27', 'Unnamed: 30':'28',\n",
        "       'Unnamed: 31':'29', 'Unnamed: 32':'30', 'Unnamed: 33':'31'})\n",
        "mnk = mnk.iloc[1:]\n",
        "ml = ml.rename(columns={ 'วันที่':'1','Unnamed: 4':'2', 'Unnamed: 5':'3',\n",
        "       'Unnamed: 6':'4', 'Unnamed: 7':'5', 'Unnamed: 8':'6', 'Unnamed: 9':'7', 'Unnamed: 10':'8',\n",
        "       'Unnamed: 11':'9', 'Unnamed: 12':'10', 'Unnamed: 13':'11', 'Unnamed: 14':'12',\n",
        "       'Unnamed: 15':'13', 'Unnamed: 16':'14', 'Unnamed: 17':'15', 'Unnamed: 18':\"16\",\n",
        "       'Unnamed: 19':'17', 'Unnamed: 20':'18', 'Unnamed: 21':'19', 'Unnamed: 22':'20',\n",
        "       'Unnamed: 23':'21', 'Unnamed: 24':'22', 'Unnamed: 25':'23', 'Unnamed: 26':'24',\n",
        "       'Unnamed: 27':'25', 'Unnamed: 28':'26', 'Unnamed: 29':'27', 'Unnamed: 30':'28',\n",
        "       'Unnamed: 31':'29', 'Unnamed: 32':'30', 'Unnamed: 33':'31'})\n",
        "ml = ml.iloc[1:]"
      ],
      "metadata": {
        "id": "b-JQplgMpLp7"
      },
      "execution_count": 170,
      "outputs": []
    },
    {
      "cell_type": "markdown",
      "source": [
        "###Concat df\n"
      ],
      "metadata": {
        "id": "ECV0pAbAp9Qh"
      }
    },
    {
      "cell_type": "code",
      "source": [
        "m =  pd.concat([mkkc,mnkp,msk,mnk,ml])\n",
        "m.shape"
      ],
      "metadata": {
        "colab": {
          "base_uri": "https://localhost:8080/"
        },
        "id": "fW1L8REVp-sv",
        "outputId": "618f77eb-6fc5-4139-db87-56879526f384"
      },
      "execution_count": 171,
      "outputs": [
        {
          "output_type": "execute_result",
          "data": {
            "text/plain": [
              "(275, 35)"
            ]
          },
          "metadata": {},
          "execution_count": 171
        }
      ]
    },
    {
      "cell_type": "markdown",
      "source": [
        "###ดึงเดือน กับ ปี แยกคอลัมน์"
      ],
      "metadata": {
        "id": "Zw31_Gryqrap"
      }
    },
    {
      "cell_type": "code",
      "source": [
        "m['เดือน'] = m['เดือน/ปี'].dt.month\n",
        "m['ปี'] = m['เดือน/ปี'].dt.year\n",
        "m.head()"
      ],
      "metadata": {
        "id": "GwMVBgS7qE7i"
      },
      "execution_count": null,
      "outputs": []
    },
    {
      "cell_type": "markdown",
      "source": [
        "###ทดลอง 1 จังหวัด"
      ],
      "metadata": {
        "id": "Ogpzx2Qa1nYO"
      }
    },
    {
      "cell_type": "code",
      "source": [
        "mkkc = pd.read_excel('/content/drive/MyDrive/data/อุตุ/ความชื้นสัมพัท/Copy of จ.ขอนแก่น.xlsx',sheet_name=\"Sheet1\",skiprows=3).rename(columns={ 'วันที่':'1','Unnamed: 4':'2', 'Unnamed: 5':'3',\n",
        "       'Unnamed: 6':'4', 'Unnamed: 7':'5', 'Unnamed: 8':'6', 'Unnamed: 9':'7', 'Unnamed: 10':'8',\n",
        "       'Unnamed: 11':'9', 'Unnamed: 12':'10', 'Unnamed: 13':'11', 'Unnamed: 14':'12',\n",
        "       'Unnamed: 15':'13', 'Unnamed: 16':'14', 'Unnamed: 17':'15', 'Unnamed: 18':\"16\",\n",
        "       'Unnamed: 19':'17', 'Unnamed: 20':'18', 'Unnamed: 21':'19', 'Unnamed: 22':'20',\n",
        "       'Unnamed: 23':'21', 'Unnamed: 24':'22', 'Unnamed: 25':'23', 'Unnamed: 26':'24',\n",
        "       'Unnamed: 27':'25', 'Unnamed: 28':'26', 'Unnamed: 29':'27', 'Unnamed: 30':'28',\n",
        "       'Unnamed: 31':'29', 'Unnamed: 32':'30', 'Unnamed: 33':'31'})\n",
        "mkkc = mkkc.iloc[1:]\n",
        "mkkc['เดือน'] = mkkc['เดือน/ปี'].dt.month\n",
        "mkkc['ปี'] = mkkc['เดือน/ปี'].dt.year\n",
        "mkkc1 = mkkc.iloc[0:,3:34]\n",
        "mkkc2 = mkkc.iloc[0:,3:37]\n",
        "for index, row in mkkc2.iterrows():\n",
        "  for i in range(1,32):\n",
        "    print(f'วันที่ ',i,'เดือนที่ ',row['เดือน'],' ปีที่ ', row['ปี'],'ความชื้นสัมพัทธ์ -> ',row[i-1],'%')\n"
      ],
      "metadata": {
        "id": "YQgeGm-11oeQ"
      },
      "execution_count": null,
      "outputs": []
    },
    {
      "cell_type": "code",
      "source": [
        "mkkcl = list()\n",
        "for index, row in mkkc2.iterrows():\n",
        "  for i in range(1,32):\n",
        "    #print(f'วันที่ ',i,'เดือนที่ ',row['เดือน'],' ปีที่ ', row['ปี'],'ความกด -> ',row[i-1])\n",
        "    mkkcl.append(row[i-1])\n",
        "\n",
        "m =m.reset_index()\n",
        "m['ที่'] = m['index']\n",
        "del m['index']\n",
        "\n",
        "m1 = m.iloc[0:,3:34]\n",
        "m2 = m.iloc[0:,3:36]\n",
        "\n",
        "ml = list()\n",
        "for index, row in m2.iterrows():\n",
        "  for i in range(0,31): # เริ่มที่ 1 - 32\n",
        "    #print(f'วันที่ ',i,'เดือนที่ ',row['เดือน'],' ปีที่ ', row['ปี'],'ความเร็วลม -> ',row[i-1]) # [i-1] = -1 เพราะให้เริ่ม 0,31 แทน ในตอนดึงตอลัมน์\n",
        "    ml.append(row[i])\n",
        "    #print(row[i])"
      ],
      "metadata": {
        "id": "F-VnrlpgYWoc"
      },
      "execution_count": null,
      "outputs": []
    },
    {
      "cell_type": "markdown",
      "source": [
        "##ปริมาณฝน"
      ],
      "metadata": {
        "id": "eoRW5Lmg2CKx"
      }
    },
    {
      "cell_type": "code",
      "source": [
        "vrkkc = pd.read_excel(\"/content/drive/MyDrive/data/อุตุ/ปริมาณนำ้ฝน/Copy of จ.ขอนแก่น.xlsx\",sheet_name='Sheet1',skiprows=3)\n",
        "vrnkp = pd.read_excel(\"/content/drive/MyDrive/data/อุตุ/ปริมาณนำ้ฝน/Copy of จ.นครพนม.xlsx\",sheet_name='Sheet1',skiprows=3)\n",
        "vrsk = pd.read_excel(\"/content/drive/MyDrive/data/อุตุ/ปริมาณนำ้ฝน/Copy of จ.สกล.xlsx\",sheet_name='Sheet1',skiprows=3)\n",
        "vrnk = pd.read_excel(\"/content/drive/MyDrive/data/อุตุ/ปริมาณนำ้ฝน/Copy of จ.หนองคาย.xlsx\",sheet_name='Sheet1',skiprows=3)\n",
        "vrl = pd.read_excel(\"/content/drive/MyDrive/data/อุตุ/ปริมาณนำ้ฝน/Copy of จ.เลย.xlsx\",sheet_name='Sheet1',skiprows=3)"
      ],
      "metadata": {
        "id": "pSWhu_YG2ElQ"
      },
      "execution_count": null,
      "outputs": []
    },
    {
      "cell_type": "code",
      "source": [
        "vrkkc = vrkkc.rename(columns={ 'วันที่':'1','Unnamed: 4':'2', 'Unnamed: 5':'3',\n",
        "       'Unnamed: 6':'4', 'Unnamed: 7':'5', 'Unnamed: 8':'6', 'Unnamed: 9':'7', 'Unnamed: 10':'8',\n",
        "       'Unnamed: 11':'9', 'Unnamed: 12':'10', 'Unnamed: 13':'11', 'Unnamed: 14':'12',\n",
        "       'Unnamed: 15':'13', 'Unnamed: 16':'14', 'Unnamed: 17':'15', 'Unnamed: 18':\"16\",\n",
        "       'Unnamed: 19':'17', 'Unnamed: 20':'18', 'Unnamed: 21':'19', 'Unnamed: 22':'20',\n",
        "       'Unnamed: 23':'21', 'Unnamed: 24':'22', 'Unnamed: 25':'23', 'Unnamed: 26':'24',\n",
        "       'Unnamed: 27':'25', 'Unnamed: 28':'26', 'Unnamed: 29':'27', 'Unnamed: 30':'28',\n",
        "       'Unnamed: 31':'29', 'Unnamed: 32':'30', 'Unnamed: 33':'31'})\n",
        "vrkkc = vrkkc.iloc[1:]\n",
        "vrnkp = vrnkp.rename(columns={ 'วันที่':'1','Unnamed: 4':'2', 'Unnamed: 5':'3',\n",
        "       'Unnamed: 6':'4', 'Unnamed: 7':'5', 'Unnamed: 8':'6', 'Unnamed: 9':'7', 'Unnamed: 10':'8',\n",
        "       'Unnamed: 11':'9', 'Unnamed: 12':'10', 'Unnamed: 13':'11', 'Unnamed: 14':'12',\n",
        "       'Unnamed: 15':'13', 'Unnamed: 16':'14', 'Unnamed: 17':'15', 'Unnamed: 18':\"16\",\n",
        "       'Unnamed: 19':'17', 'Unnamed: 20':'18', 'Unnamed: 21':'19', 'Unnamed: 22':'20',\n",
        "       'Unnamed: 23':'21', 'Unnamed: 24':'22', 'Unnamed: 25':'23', 'Unnamed: 26':'24',\n",
        "       'Unnamed: 27':'25', 'Unnamed: 28':'26', 'Unnamed: 29':'27', 'Unnamed: 30':'28',\n",
        "       'Unnamed: 31':'29', 'Unnamed: 32':'30', 'Unnamed: 33':'31'})\n",
        "vrnkp = vrnkp.iloc[1:]\n",
        "vrsk = vrsk.rename(columns={ 'วันที่':'1','Unnamed: 4':'2', 'Unnamed: 5':'3',\n",
        "       'Unnamed: 6':'4', 'Unnamed: 7':'5', 'Unnamed: 8':'6', 'Unnamed: 9':'7', 'Unnamed: 10':'8',\n",
        "       'Unnamed: 11':'9', 'Unnamed: 12':'10', 'Unnamed: 13':'11', 'Unnamed: 14':'12',\n",
        "       'Unnamed: 15':'13', 'Unnamed: 16':'14', 'Unnamed: 17':'15', 'Unnamed: 18':\"16\",\n",
        "       'Unnamed: 19':'17', 'Unnamed: 20':'18', 'Unnamed: 21':'19', 'Unnamed: 22':'20',\n",
        "       'Unnamed: 23':'21', 'Unnamed: 24':'22', 'Unnamed: 25':'23', 'Unnamed: 26':'24',\n",
        "       'Unnamed: 27':'25', 'Unnamed: 28':'26', 'Unnamed: 29':'27', 'Unnamed: 30':'28',\n",
        "       'Unnamed: 31':'29', 'Unnamed: 32':'30', 'Unnamed: 33':'31'})\n",
        "vrsk = vrsk.iloc[1:]\n",
        "vrnk = vrnk.rename(columns={ 'วันที่':'1','Unnamed: 4':'2', 'Unnamed: 5':'3',\n",
        "       'Unnamed: 6':'4', 'Unnamed: 7':'5', 'Unnamed: 8':'6', 'Unnamed: 9':'7', 'Unnamed: 10':'8',\n",
        "       'Unnamed: 11':'9', 'Unnamed: 12':'10', 'Unnamed: 13':'11', 'Unnamed: 14':'12',\n",
        "       'Unnamed: 15':'13', 'Unnamed: 16':'14', 'Unnamed: 17':'15', 'Unnamed: 18':\"16\",\n",
        "       'Unnamed: 19':'17', 'Unnamed: 20':'18', 'Unnamed: 21':'19', 'Unnamed: 22':'20',\n",
        "       'Unnamed: 23':'21', 'Unnamed: 24':'22', 'Unnamed: 25':'23', 'Unnamed: 26':'24',\n",
        "       'Unnamed: 27':'25', 'Unnamed: 28':'26', 'Unnamed: 29':'27', 'Unnamed: 30':'28',\n",
        "       'Unnamed: 31':'29', 'Unnamed: 32':'30', 'Unnamed: 33':'31'})\n",
        "vrnk = vrnk.iloc[1:]\n",
        "vrl = vrl.rename(columns={ 'วันที่':'1','Unnamed: 4':'2', 'Unnamed: 5':'3',\n",
        "       'Unnamed: 6':'4', 'Unnamed: 7':'5', 'Unnamed: 8':'6', 'Unnamed: 9':'7', 'Unnamed: 10':'8',\n",
        "       'Unnamed: 11':'9', 'Unnamed: 12':'10', 'Unnamed: 13':'11', 'Unnamed: 14':'12',\n",
        "       'Unnamed: 15':'13', 'Unnamed: 16':'14', 'Unnamed: 17':'15', 'Unnamed: 18':\"16\",\n",
        "       'Unnamed: 19':'17', 'Unnamed: 20':'18', 'Unnamed: 21':'19', 'Unnamed: 22':'20',\n",
        "       'Unnamed: 23':'21', 'Unnamed: 24':'22', 'Unnamed: 25':'23', 'Unnamed: 26':'24',\n",
        "       'Unnamed: 27':'25', 'Unnamed: 28':'26', 'Unnamed: 29':'27', 'Unnamed: 30':'28',\n",
        "       'Unnamed: 31':'29', 'Unnamed: 32':'30', 'Unnamed: 33':'31'})\n",
        "vrl = vrl.iloc[1:]"
      ],
      "metadata": {
        "id": "IqVxusW2q-LF"
      },
      "execution_count": null,
      "outputs": []
    },
    {
      "cell_type": "markdown",
      "source": [
        "###Concat df"
      ],
      "metadata": {
        "id": "vFfqAOjRrN5v"
      }
    },
    {
      "cell_type": "code",
      "source": [
        "vr =  pd.concat([vrkkc,vrnkp,vrsk,vrnk,vrl])\n",
        "vr.shape"
      ],
      "metadata": {
        "id": "DmUB5r02rPKO"
      },
      "execution_count": null,
      "outputs": []
    },
    {
      "cell_type": "markdown",
      "source": [
        "###ดึงเดือน กับ ปี แยกคอลัมน์"
      ],
      "metadata": {
        "id": "UuYM8SJ_qLDs"
      }
    },
    {
      "cell_type": "code",
      "source": [
        "vr['เดือน'] = vr['เดือน/ปี'].dt.month\n",
        "vr['ปี'] = vr['เดือน/ปี'].dt.year\n",
        "vr.head()"
      ],
      "metadata": {
        "id": "HtQoMNk2rXta"
      },
      "execution_count": null,
      "outputs": []
    },
    {
      "cell_type": "markdown",
      "source": [
        "###ทดลอง 1 จังหวัด \n"
      ],
      "metadata": {
        "id": "UVR_iMYp2EK8"
      }
    },
    {
      "cell_type": "code",
      "source": [
        "vrkkc = pd.read_excel(\"/content/drive/MyDrive/data/อุตุ/ปริมาณนำ้ฝน/Copy of จ.ขอนแก่น.xlsx\",sheet_name='Sheet1',skiprows=3).rename(columns={ 'วันที่':'1','Unnamed: 4':'2', 'Unnamed: 5':'3',\n",
        "       'Unnamed: 6':'4', 'Unnamed: 7':'5', 'Unnamed: 8':'6', 'Unnamed: 9':'7', 'Unnamed: 10':'8',\n",
        "       'Unnamed: 11':'9', 'Unnamed: 12':'10', 'Unnamed: 13':'11', 'Unnamed: 14':'12',\n",
        "       'Unnamed: 15':'13', 'Unnamed: 16':'14', 'Unnamed: 17':'15', 'Unnamed: 18':\"16\",\n",
        "       'Unnamed: 19':'17', 'Unnamed: 20':'18', 'Unnamed: 21':'19', 'Unnamed: 22':'20',\n",
        "       'Unnamed: 23':'21', 'Unnamed: 24':'22', 'Unnamed: 25':'23', 'Unnamed: 26':'24',\n",
        "       'Unnamed: 27':'25', 'Unnamed: 28':'26', 'Unnamed: 29':'27', 'Unnamed: 30':'28',\n",
        "       'Unnamed: 31':'29', 'Unnamed: 32':'30', 'Unnamed: 33':'31'})\n",
        "vrkkc = vrkkc.iloc[1:]\n",
        "vrkkc['เดือน'] = vrkkc['เดือน/ปี'].dt.month\n",
        "vrkkc['ปี'] = vrkkc['เดือน/ปี'].dt.year\n",
        "vrkkc1 = vrkkc.iloc[0:,3:34]\n",
        "vrkkc2 = vrkkc.iloc[0:,3:37]\n",
        "for index, row in vrkkc2.iterrows():\n",
        "  for i in range(1,32):\n",
        "    print(f'วันที่ ',i,'เดือนที่ ',row['เดือน'],' ปีที่ ', row['ปี'],'ปริมาณน้ำฝน -> ',row[i-1],'มิลลิลิตร')\n"
      ],
      "metadata": {
        "id": "Hg4sdl_k2Hkg"
      },
      "execution_count": null,
      "outputs": []
    },
    {
      "cell_type": "code",
      "source": [
        "vrkkcl = list()\n",
        "for index, row in vrkkc2.iterrows():\n",
        "  for i in range(1,32):\n",
        "    #print(f'วันที่ ',i,'เดือนที่ ',row['เดือน'],' ปีที่ ', row['ปี'],'ความกด -> ',row[i-1])\n",
        "    vrkkcl.append(row[i-1])\n",
        "\n",
        "vr =vr.reset_index()\n",
        "vr['ที่'] = vr['index']\n",
        "del vr['index']\n",
        "\n",
        "vr1 = vr.iloc[0:,3:34]\n",
        "vr2 = vr.iloc[0:,3:36]\n",
        "\n",
        "vr = list()\n",
        "for index, row in vr2.iterrows():\n",
        "  for i in range(0,31): # เริ่มที่ 1 - 32\n",
        "    #print(f'วันที่ ',i,'เดือนที่ ',row['เดือน'],' ปีที่ ', row['ปี'],'ความเร็วลม -> ',row[i-1]) # [i-1] = -1 เพราะให้เริ่ม 0,31 แทน ในตอนดึงตอลัมน์\n",
        "    vr.append(row[i])\n",
        "    #print(row[i])"
      ],
      "metadata": {
        "id": "Z82f7v9_YvnQ"
      },
      "execution_count": null,
      "outputs": []
    },
    {
      "cell_type": "markdown",
      "source": [
        "##ปริมาณเมฆ "
      ],
      "metadata": {
        "id": "zcUTyMVu3HI5"
      }
    },
    {
      "cell_type": "code",
      "source": [
        "ckkc = pd.read_excel('/content/drive/MyDrive/data/อุตุ/จำนวนเมฆ/Copy of จ.ขอนแก่น.xlsx',sheet_name='Sheet1',skiprows=3).rename(columns={'Unnamed: 0' : 'ที่', 'Unnamed: 1' : 'สถานี', 'Unnamed: 2' : 'เดือน/ปี', 'Unnamed: 34' : 'เฉลี่ย'}).drop(0, axis=0)\n",
        "cnkp = pd.read_excel('/content/drive/MyDrive/data/อุตุ/จำนวนเมฆ/Copy of จ.นครพนม.xlsx',sheet_name='Sheet1',skiprows=3).rename(columns={'Unnamed: 0' : 'ที่', 'Unnamed: 1' : 'สถานี', 'Unnamed: 2' : 'เดือน/ปี', 'Unnamed: 34' : 'เฉลี่ย'}).drop(0, axis=0)\n",
        "csk = pd.read_excel('/content/drive/MyDrive/data/อุตุ/จำนวนเมฆ/Copy of จ.สกลนคร.xlsx',sheet_name='Sheet1',skiprows=3).rename(columns={'Unnamed: 0' : 'ที่', 'Unnamed: 1' : 'สถานี', 'Unnamed: 2' : 'เดือน/ปี', 'Unnamed: 34' : 'เฉลี่ย'}).drop(0, axis=0)\n",
        "cnk = pd.read_excel('/content/drive/MyDrive/data/อุตุ/จำนวนเมฆ/Copy of จ.หนองคาย.xlsx',sheet_name='Sheet1',skiprows=3).rename(columns={'Unnamed: 0' : 'ที่', 'Unnamed: 1' : 'สถานี', 'Unnamed: 2' : 'เดือน/ปี', 'Unnamed: 34' : 'เฉลี่ย'}).drop(0, axis=0)\n",
        "cl = pd.read_excel('/content/drive/MyDrive/data/อุตุ/จำนวนเมฆ/Copy of จ.เลย.xlsx',sheet_name='Sheet1',skiprows=3).rename(columns={'Unnamed: 0' : 'ที่', 'Unnamed: 1' : 'สถานี', 'Unnamed: 2' : 'เดือน/ปี', 'Unnamed: 34' : 'เฉลี่ย'}).drop(0, axis=0)"
      ],
      "metadata": {
        "id": "jC0gF8QesJoC"
      },
      "execution_count": null,
      "outputs": []
    },
    {
      "cell_type": "markdown",
      "source": [
        "###Concat df"
      ],
      "metadata": {
        "id": "0fRnvJWUrjQP"
      }
    },
    {
      "cell_type": "code",
      "source": [
        "c = pd.concat([ckkc,cnkp,csk,cnk,cl])\n",
        "c.shape"
      ],
      "metadata": {
        "id": "Xjmdi3xvrkVR"
      },
      "execution_count": null,
      "outputs": []
    },
    {
      "cell_type": "markdown",
      "source": [
        "###ดึงเดือน กับ ปี แยกคอลัมน์"
      ],
      "metadata": {
        "id": "dyfzpwedrunr"
      }
    },
    {
      "cell_type": "code",
      "source": [
        "c['เดือน'] = c['เดือน/ปี'].dt.month\n",
        "c['ปี'] = c['เดือน/ปี'].dt.year\n",
        "c.head()"
      ],
      "metadata": {
        "id": "iCfh6CumrkQ2"
      },
      "execution_count": null,
      "outputs": []
    },
    {
      "cell_type": "markdown",
      "source": [
        "###ทดลอง 1 จังหวัด"
      ],
      "metadata": {
        "id": "UJvRFxv62YUj"
      }
    },
    {
      "cell_type": "code",
      "source": [
        "ckkc = pd.read_excel(\"/content/drive/MyDrive/data/อุตุ/จำนวนเมฆ/Copy of จ.ขอนแก่น.xlsx\",sheet_name='Sheet1',skiprows=3).rename(columns={ 'วันที่':'1','Unnamed: 4':'2', 'Unnamed: 5':'3',\n",
        "       'Unnamed: 6':'4', 'Unnamed: 7':'5', 'Unnamed: 8':'6', 'Unnamed: 9':'7', 'Unnamed: 10':'8',\n",
        "       'Unnamed: 11':'9', 'Unnamed: 12':'10', 'Unnamed: 13':'11', 'Unnamed: 14':'12',\n",
        "       'Unnamed: 15':'13', 'Unnamed: 16':'14', 'Unnamed: 17':'15', 'Unnamed: 18':\"16\",\n",
        "       'Unnamed: 19':'17', 'Unnamed: 20':'18', 'Unnamed: 21':'19', 'Unnamed: 22':'20',\n",
        "       'Unnamed: 23':'21', 'Unnamed: 24':'22', 'Unnamed: 25':'23', 'Unnamed: 26':'24',\n",
        "       'Unnamed: 27':'25', 'Unnamed: 28':'26', 'Unnamed: 29':'27', 'Unnamed: 30':'28',\n",
        "       'Unnamed: 31':'29', 'Unnamed: 32':'30', 'Unnamed: 33':'31'})\n",
        "ckkc = ckkc.iloc[1:]\n",
        "ckkc['เดือน'] = ckkc['เดือน/ปี'].dt.month\n",
        "ckkc['ปี'] = ckkc['เดือน/ปี'].dt.year\n",
        "ckkc1 = ckkc.iloc[0:,3:34]\n",
        "ckkc2 = ckkc.iloc[0:,3:37]\n",
        "for index, row in ckkc2.iterrows():\n",
        "  for i in range(1,32):\n",
        "    print(f'วันที่ ',i,'เดือนที่ ',row['เดือน'],' ปีที่ ', row['ปี'],'ปริมาณเมฆ -> ',row[i-1],'ส่วน')\n"
      ],
      "metadata": {
        "id": "mmEOF_Vz2aDv"
      },
      "execution_count": null,
      "outputs": []
    },
    {
      "cell_type": "code",
      "source": [
        "ckkcl = list()\n",
        "for index, row in ckkc2.iterrows():\n",
        "  for i in range(1,32):\n",
        "    #print(f'วันที่ ',i,'เดือนที่ ',row['เดือน'],' ปีที่ ', row['ปี'],'ความกด -> ',row[i-1])\n",
        "    ckkcl.append(row[i-1])\n",
        "\n",
        "c = c.reset_index()\n",
        "c['ที่'] = c['index']\n",
        "del c['index']\n",
        "\n",
        "c1 = c.iloc[0:,3:34]\n",
        "c2 = c.iloc[0:,3:36]\n",
        "\n",
        "c = list()\n",
        "for index, row in c2.iterrows():\n",
        "  for i in range(0,31): # เริ่มที่ 1 - 32\n",
        "    #print(f'วันที่ ',i,'เดือนที่ ',row['เดือน'],' ปีที่ ', row['ปี'],'ความเร็วลม -> ',row[i-1]) # [i-1] = -1 เพราะให้เริ่ม 0,31 แทน ในตอนดึงตอลัมน์\n",
        "    c.append(row[i])\n",
        "    #print(row[i])"
      ],
      "metadata": {
        "id": "H7A5xTc8PGP5"
      },
      "execution_count": null,
      "outputs": []
    },
    {
      "cell_type": "markdown",
      "source": [
        "สร้างตาราง"
      ],
      "metadata": {
        "id": "FtoeOjSJekxp"
      }
    },
    {
      "cell_type": "code",
      "source": [
        " #Sl Pl  Tl m vr c"
      ],
      "metadata": {
        "id": "x2tYOt_JbKeP"
      },
      "execution_count": null,
      "outputs": []
    }
  ]
}